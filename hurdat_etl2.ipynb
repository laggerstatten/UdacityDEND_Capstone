{
 "cells": [
  {
   "cell_type": "code",
   "execution_count": 1,
   "metadata": {
    "editable": true
   },
   "outputs": [],
   "source": [
    "import pandas as pd\n",
    "import re\n",
    "import pyspark\n",
    "from pyspark import SparkContext, SparkConf\n",
    "from pyspark.sql import SparkSession\n",
    "from pyspark.sql import types as t\n",
    "from pyspark.sql.functions import to_date, to_timestamp\n",
    "from datetime import datetime, timedelta\n",
    "\n",
    "from all_etl import *\n",
    "from hurdat_etl import *\n",
    "from sql_queries import *"
   ]
  },
  {
   "cell_type": "code",
   "execution_count": 2,
   "metadata": {},
   "outputs": [
    {
     "name": "stdout",
     "output_type": "stream",
     "text": [
      "3.1484\n"
     ]
    }
   ],
   "source": [
    "spark_verify()"
   ]
  },
  {
   "cell_type": "code",
   "execution_count": 3,
   "metadata": {
    "editable": true
   },
   "outputs": [
    {
     "name": "stdout",
     "output_type": "stream",
     "text": [
      "START ETL pipeline process\n"
     ]
    }
   ],
   "source": [
    "print(\"START ETL pipeline process\")\n",
    "results_all = []"
   ]
  },
  {
   "cell_type": "code",
   "execution_count": 4,
   "metadata": {
    "editable": true
   },
   "outputs": [],
   "source": [
    "path_d = define_paths()"
   ]
  },
  {
   "cell_type": "code",
   "execution_count": 5,
   "metadata": {
    "editable": true
   },
   "outputs": [
    {
     "name": "stdout",
     "output_type": "stream",
     "text": [
      "Create Spark session\n"
     ]
    }
   ],
   "source": [
    "# Create Spark session for the pipeline.\n",
    "spark = create_spark_session()"
   ]
  },
  {
   "cell_type": "code",
   "execution_count": 6,
   "metadata": {
    "editable": true
   },
   "outputs": [
    {
     "name": "stdout",
     "output_type": "stream",
     "text": [
      "Processing HURDAT data\n",
      "Reading HURDAT to Spark\n",
      "HURDAT processing complete\n"
     ]
    }
   ],
   "source": [
    "# Process all input files\n",
    "hurdat_df_spark = process_hurdat_data(spark, path_d)\n",
    "hurdat_storms_df_spark = hurdat_df_spark[0]\n",
    "hurdat_tracks_df_spark = hurdat_df_spark[1]"
   ]
  },
  {
   "cell_type": "code",
   "execution_count": 7,
   "metadata": {
    "editable": true
   },
   "outputs": [
    {
     "name": "stdout",
     "output_type": "stream",
     "text": [
      "Creating table\n",
      "HURDAT schema:\n",
      "root\n",
      " |-- storm_id: string (nullable = false)\n",
      " |-- storm_name: string (nullable = false)\n",
      " |-- sample_count: string (nullable = false)\n",
      " |-- datetime: date (nullable = false)\n",
      " |-- record_id: string (nullable = false)\n",
      " |-- system_status: string (nullable = false)\n",
      " |-- latitude: string (nullable = false)\n",
      " |-- longitude: string (nullable = false)\n",
      " |-- max_sust_wind: string (nullable = false)\n",
      " |-- max_pressure: string (nullable = false)\n",
      " |-- NE34: string (nullable = false)\n",
      " |-- SE34: string (nullable = false)\n",
      " |-- SW34: string (nullable = false)\n",
      " |-- NW34: string (nullable = false)\n",
      " |-- NE50: string (nullable = false)\n",
      " |-- SE50: string (nullable = false)\n",
      " |-- SW50: string (nullable = false)\n",
      " |-- NW50: string (nullable = false)\n",
      " |-- NE64: string (nullable = false)\n",
      " |-- SE64: string (nullable = false)\n",
      " |-- SW64: string (nullable = false)\n",
      " |-- NW64: string (nullable = false)\n",
      "\n",
      "HURDAT table complete\n"
     ]
    }
   ],
   "source": [
    "hurdat_table = process_joined_hurdat_data( spark, path_d, hurdat_storms_df_spark, hurdat_tracks_df_spark)"
   ]
  },
  {
   "cell_type": "code",
   "execution_count": 8,
   "metadata": {
    "editable": true
   },
   "outputs": [
    {
     "name": "stdout",
     "output_type": "stream",
     "text": [
      "Checking HURDAT table...\n",
      "NULLS:\n",
      "+--------+\n",
      "|count(1)|\n",
      "+--------+\n",
      "|       0|\n",
      "+--------+\n",
      "\n",
      "ROWS:\n",
      "+--------+\n",
      "|count(1)|\n",
      "+--------+\n",
      "|   51840|\n",
      "+--------+\n",
      "\n",
      "Checking data quality complete\n",
      "[{'hurdat_count': 51840, 'hurdat': 'OK'}]\n"
     ]
    }
   ],
   "source": [
    "results = check_data_quality( spark, hurdat_table)\n",
    "results_all.append(results)\n",
    "\n",
    "print(results_all)"
   ]
  },
  {
   "cell_type": "code",
   "execution_count": 9,
   "metadata": {
    "editable": true
   },
   "outputs": [
    {
     "name": "stdout",
     "output_type": "stream",
     "text": [
      "ETL pipeline complete\n"
     ]
    }
   ],
   "source": [
    "print(\"ETL pipeline complete\")"
   ]
  },
  {
   "cell_type": "code",
   "execution_count": 22,
   "metadata": {},
   "outputs": [],
   "source": [
    "hurdattime_table_createquery = \"\"\"\n",
    "    SELECT DISTINCT  dt           AS datetime, \n",
    "                     year(dt)       AS year,\n",
    "                     month(dt)      AS month,\n",
    "                     day(dt)        AS day, \n",
    "                     hour(dt)       AS hour,                      \n",
    "                     minute(dt)     AS minute\n",
    "    FROM time_table_DF\n",
    "\"\"\""
   ]
  },
  {
   "cell_type": "code",
   "execution_count": 23,
   "metadata": {},
   "outputs": [],
   "source": [
    "hurdat_tracks_df_spark = hurdat_tracks_df_spark.withColumn(\"dt\", to_timestamp(hurdat_tracks_df_spark.Tdatetime))\n",
    "\n",
    "hurdat_tracks_df_spark.createOrReplaceTempView(\"time_table_DF\")\n",
    "\n",
    "time_table = spark.sql(hurdattime_table_createquery)"
   ]
  },
  {
   "cell_type": "code",
   "execution_count": 24,
   "metadata": {},
   "outputs": [
    {
     "name": "stdout",
     "output_type": "stream",
     "text": [
      "+-------------------+----+-----+---+----+------+\n",
      "|           datetime|year|month|day|hour|minute|\n",
      "+-------------------+----+-----+---+----+------+\n",
      "|1862-11-24 00:00:00|1862|   11| 24|   0|     0|\n",
      "|1865-09-28 00:00:00|1865|    9| 28|   0|     0|\n",
      "|1867-06-21 00:00:00|1867|    6| 21|   0|     0|\n",
      "|1867-09-01 00:00:00|1867|    9|  1|   0|     0|\n",
      "|1879-08-22 00:00:00|1879|    8| 22|   0|     0|\n",
      "|1887-06-14 00:00:00|1887|    6| 14|   0|     0|\n",
      "|1889-09-08 00:00:00|1889|    9|  8|   0|     0|\n",
      "|1893-11-06 00:00:00|1893|   11|  6|   0|     0|\n",
      "|1894-09-29 00:00:00|1894|    9| 29|   0|     0|\n",
      "|1908-09-09 00:00:00|1908|    9|  9|   0|     0|\n",
      "|1908-10-02 00:00:00|1908|   10|  2|   0|     0|\n",
      "|1908-10-19 00:00:00|1908|   10| 19|   0|     0|\n",
      "|1921-09-11 00:00:00|1921|    9| 11|   0|     0|\n",
      "|1926-08-03 00:00:00|1926|    8|  3|   0|     0|\n",
      "|1934-08-22 00:00:00|1934|    8| 22|   0|     0|\n",
      "|1935-11-12 00:00:00|1935|   11| 12|   0|     0|\n",
      "|1936-12-14 00:00:00|1936|   12| 14|   0|     0|\n",
      "|1939-09-24 00:00:00|1939|    9| 24|   0|     0|\n",
      "|1947-08-26 00:00:00|1947|    8| 26|   0|     0|\n",
      "|1949-09-01 00:00:00|1949|    9|  1|   0|     0|\n",
      "+-------------------+----+-----+---+----+------+\n",
      "only showing top 20 rows\n",
      "\n"
     ]
    }
   ],
   "source": [
    "time_table.show()"
   ]
  },
  {
   "cell_type": "code",
   "execution_count": null,
   "metadata": {},
   "outputs": [],
   "source": []
  }
 ],
 "metadata": {
  "kernelspec": {
   "display_name": "Python 3",
   "language": "python",
   "name": "python3"
  },
  "language_info": {
   "codemirror_mode": {
    "name": "ipython",
    "version": 3
   },
   "file_extension": ".py",
   "mimetype": "text/x-python",
   "name": "python",
   "nbconvert_exporter": "python",
   "pygments_lexer": "ipython3",
   "version": "3.7.6"
  }
 },
 "nbformat": 4,
 "nbformat_minor": 4
}
