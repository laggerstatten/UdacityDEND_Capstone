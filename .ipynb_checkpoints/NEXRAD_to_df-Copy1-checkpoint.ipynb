{
 "cells": [
  {
   "cell_type": "markdown",
   "metadata": {},
   "source": [
    "#Import packages"
   ]
  },
  {
   "cell_type": "code",
   "execution_count": 1,
   "metadata": {},
   "outputs": [
    {
     "name": "stdout",
     "output_type": "stream",
     "text": [
      "\n",
      "## You are using the Python ARM Radar Toolkit (Py-ART), an open source\n",
      "## library for working with weather radar data. Py-ART is partly\n",
      "## supported by the U.S. Department of Energy as part of the Atmospheric\n",
      "## Radiation Measurement (ARM) Climate Research Facility, an Office of\n",
      "## Science user facility.\n",
      "##\n",
      "## If you use this software to prepare a publication, please cite:\n",
      "##\n",
      "##     JJ Helmus and SM Collis, JORS 2016, doi: 10.5334/jors.119\n",
      "\n"
     ]
    }
   ],
   "source": [
    "from xml.dom import minidom\n",
    "from sys import stdin\n",
    "from urllib import request\n",
    "from subprocess import call\n",
    "import numpy as np\n",
    "import pyart"
   ]
  },
  {
   "cell_type": "markdown",
   "metadata": {},
   "source": [
    "#initialize user-defined variables"
   ]
  },
  {
   "cell_type": "code",
   "execution_count": 2,
   "metadata": {},
   "outputs": [],
   "source": [
    "date = \"2020/01/01\"\n",
    "site = \"KCRP\"\n",
    "bucketURL = \"http://noaa-nexrad-level2.s3.amazonaws.com\"\n",
    "dirListURL = bucketURL+ \"/?prefix=\" + date + \"/\" + site"
   ]
  },
  {
   "cell_type": "markdown",
   "metadata": {},
   "source": [
    "#list available files"
   ]
  },
  {
   "cell_type": "code",
   "execution_count": 3,
   "metadata": {},
   "outputs": [
    {
     "name": "stdout",
     "output_type": "stream",
     "text": [
      "listing files from http://noaa-nexrad-level2.s3.amazonaws.com/?prefix=2020/01/01/KCRP\n",
      "257 keys found...\n"
     ]
    }
   ],
   "source": [
    "def getText(nodelist):\n",
    "    rc = []\n",
    "    for node in nodelist:\n",
    "        if node.nodeType == node.TEXT_NODE:\n",
    "            rc.append(node.data)\n",
    "    return ''.join(rc)\n",
    "\n",
    "print (\"listing files from %s\" % dirListURL)\n",
    "\n",
    "#xmldoc = minidom.parse(stdin)\n",
    "xmldoc = minidom.parse(request.urlopen(dirListURL))\n",
    "itemlist = xmldoc.getElementsByTagName('Key')\n",
    "print (len(itemlist) , \"keys found...\")\n",
    "\n",
    "for x in itemlist:\n",
    "    file = getText(x.childNodes)\n",
    "    #print (\"Found %s \" % file)"
   ]
  },
  {
   "cell_type": "markdown",
   "metadata": {},
   "source": [
    "#read NEXRAD radar file -- having issue reading from http, temporarily reading from local directory"
   ]
  },
  {
   "cell_type": "code",
   "execution_count": 4,
   "metadata": {},
   "outputs": [
    {
     "name": "stdout",
     "output_type": "stream",
     "text": [
      "altitude:\n",
      "\tdata: <ndarray of type: float64 and shape: (1,)>\n",
      "\tlong_name: Altitude\n",
      "\tstandard_name: Altitude\n",
      "\tunits: meters\n",
      "\tpositive: up\n",
      "altitude_agl: None\n",
      "antenna_transition: None\n",
      "azimuth:\n",
      "\tdata: <ndarray of type: float64 and shape: (6480,)>\n",
      "\tunits: degrees\n",
      "\tstandard_name: beam_azimuth_angle\n",
      "\tlong_name: azimuth_angle_from_true_north\n",
      "\taxis: radial_azimuth_coordinate\n",
      "\tcomment: Azimuth of antenna relative to true north\n",
      "elevation:\n",
      "\tdata: <ndarray of type: float32 and shape: (6480,)>\n",
      "\tunits: degrees\n",
      "\tstandard_name: beam_elevation_angle\n",
      "\tlong_name: elevation_angle_from_horizontal_plane\n",
      "\taxis: radial_elevation_coordinate\n",
      "\tcomment: Elevation of antenna relative to the horizontal plane\n",
      "fields:\n",
      "\tspectrum_width:\n",
      "\t\tdata: <ndarray of type: float32 and shape: (6480, 1832)>\n",
      "\t\tunits: meters_per_second\n",
      "\t\tstandard_name: doppler_spectrum_width\n",
      "\t\tlong_name: Spectrum Width\n",
      "\t\tvalid_max: 63.0\n",
      "\t\tvalid_min: -63.5\n",
      "\t\tcoordinates: elevation azimuth range\n",
      "\t\t_FillValue: -9999.0\n",
      "\treflectivity:\n",
      "\t\tdata: <ndarray of type: float32 and shape: (6480, 1832)>\n",
      "\t\tunits: dBZ\n",
      "\t\tstandard_name: equivalent_reflectivity_factor\n",
      "\t\tlong_name: Reflectivity\n",
      "\t\tvalid_max: 94.5\n",
      "\t\tvalid_min: -32.0\n",
      "\t\tcoordinates: elevation azimuth range\n",
      "\t\t_FillValue: -9999.0\n",
      "\tvelocity:\n",
      "\t\tdata: <ndarray of type: float32 and shape: (6480, 1832)>\n",
      "\t\tunits: meters_per_second\n",
      "\t\tstandard_name: radial_velocity_of_scatterers_away_from_instrument\n",
      "\t\tlong_name: Mean doppler Velocity\n",
      "\t\tvalid_max: 95.0\n",
      "\t\tvalid_min: -95.0\n",
      "\t\tcoordinates: elevation azimuth range\n",
      "\t\t_FillValue: -9999.0\n",
      "\tcross_correlation_ratio:\n",
      "\t\tdata: <ndarray of type: float32 and shape: (6480, 1832)>\n",
      "\t\tunits: ratio\n",
      "\t\tstandard_name: cross_correlation_ratio_hv\n",
      "\t\tlong_name: Cross correlation_ratio (RHOHV)\n",
      "\t\tvalid_max: 1.0\n",
      "\t\tvalid_min: 0.0\n",
      "\t\tcoordinates: elevation azimuth range\n",
      "\t\t_FillValue: -9999.0\n",
      "\tdifferential_reflectivity:\n",
      "\t\tdata: <ndarray of type: float32 and shape: (6480, 1832)>\n",
      "\t\tunits: dB\n",
      "\t\tstandard_name: log_differential_reflectivity_hv\n",
      "\t\tlong_name: log_differential_reflectivity_hv\n",
      "\t\tvalid_max: 7.9375\n",
      "\t\tvalid_min: -7.875\n",
      "\t\tcoordinates: elevation azimuth range\n",
      "\t\t_FillValue: -9999.0\n",
      "\tdifferential_phase:\n",
      "\t\tdata: <ndarray of type: float32 and shape: (6480, 1832)>\n",
      "\t\tunits: degrees\n",
      "\t\tstandard_name: differential_phase_hv\n",
      "\t\tlong_name: differential_phase_hv\n",
      "\t\tvalid_max: 360.0\n",
      "\t\tvalid_min: 0.0\n",
      "\t\tcoordinates: elevation azimuth range\n",
      "\t\t_FillValue: -9999.0\n",
      "fixed_angle:\n",
      "\tdata: <ndarray of type: float32 and shape: (12,)>\n",
      "\tlong_name: Target angle for sweep\n",
      "\tunits: degrees\n",
      "\tstandard_name: target_fixed_angle\n",
      "instrument_parameters:\n",
      "\tunambiguous_range:\n",
      "\t\tdata: <ndarray of type: float32 and shape: (6480,)>\n",
      "\t\tunits: meters\n",
      "\t\tcomments: Unambiguous range\n",
      "\t\tmeta_group: instrument_parameters\n",
      "\t\tlong_name: Unambiguous range\n",
      "\tnyquist_velocity:\n",
      "\t\tdata: <ndarray of type: float32 and shape: (6480,)>\n",
      "\t\tunits: meters_per_second\n",
      "\t\tcomments: Unambiguous velocity\n",
      "\t\tmeta_group: instrument_parameters\n",
      "\t\tlong_name: Nyquist velocity\n",
      "latitude:\n",
      "\tdata: <ndarray of type: float64 and shape: (1,)>\n",
      "\tlong_name: Latitude\n",
      "\tstandard_name: Latitude\n",
      "\tunits: degrees_north\n",
      "longitude:\n",
      "\tdata: <ndarray of type: float64 and shape: (1,)>\n",
      "\tlong_name: Longitude\n",
      "\tstandard_name: Longitude\n",
      "\tunits: degrees_east\n",
      "nsweeps: 12\n",
      "ngates: 1832\n",
      "nrays: 6480\n",
      "radar_calibration: None\n",
      "range:\n",
      "\tdata: <ndarray of type: float32 and shape: (1832,)>\n",
      "\tunits: meters\n",
      "\tstandard_name: projection_range_coordinate\n",
      "\tlong_name: range_to_measurement_volume\n",
      "\taxis: radial_range_coordinate\n",
      "\tspacing_is_constant: true\n",
      "\tcomment: Coordinate variable for range. Range to center of each bin.\n",
      "\tmeters_to_center_of_first_gate: 2125.0\n",
      "\tmeters_between_gates: 250.0\n",
      "scan_rate: None\n",
      "scan_type: ppi\n",
      "sweep_end_ray_index:\n",
      "\tdata: <ndarray of type: int32 and shape: (12,)>\n",
      "\tlong_name: Index of last ray in sweep, 0-based\n",
      "\tunits: count\n",
      "sweep_mode:\n",
      "\tdata: <ndarray of type: |S20 and shape: (12,)>\n",
      "\tunits: unitless\n",
      "\tstandard_name: sweep_mode\n",
      "\tlong_name: Sweep mode\n",
      "\tcomment: Options are: \"sector\", \"coplane\", \"rhi\", \"vertical_pointing\", \"idle\", \"azimuth_surveillance\", \"elevation_surveillance\", \"sunscan\", \"pointing\", \"manual_ppi\", \"manual_rhi\"\n",
      "sweep_number:\n",
      "\tdata: <ndarray of type: int32 and shape: (12,)>\n",
      "\tunits: count\n",
      "\tstandard_name: sweep_number\n",
      "\tlong_name: Sweep number\n",
      "sweep_start_ray_index:\n",
      "\tdata: <ndarray of type: int32 and shape: (12,)>\n",
      "\tlong_name: Index of first ray in sweep, 0-based\n",
      "\tunits: count\n",
      "target_scan_rate: None\n",
      "time:\n",
      "\tdata: <ndarray of type: float64 and shape: (6480,)>\n",
      "\tunits: seconds since 2020-01-01T00:04:31Z\n",
      "\tstandard_name: time\n",
      "\tlong_name: time_in_seconds_since_volume_start\n",
      "\tcalendar: gregorian\n",
      "\tcomment: Coordinate variable for time. Time at the center of each ray, in fractional seconds since the global variable time_coverage_start\n",
      "metadata:\n",
      "\tConventions: CF/Radial instrument_parameters\n",
      "\tversion: 1.3\n",
      "\ttitle: \n",
      "\tinstitution: \n",
      "\treferences: \n",
      "\tsource: \n",
      "\thistory: \n",
      "\tcomment: \n",
      "\tinstrument_name: KCRP\n",
      "\toriginal_container: NEXRAD Level II\n",
      "\tvcp_pattern: 35\n"
     ]
    }
   ],
   "source": [
    "#https://s3.amazonaws.com/noaa-nexrad-level2/index.html#2020/01/01/KCRP/\n",
    "#https://noaa-nexrad-level2.s3.amazonaws.com/2020/01/01/KCRP/KCRP20200101_000431_V06\n",
    "\n",
    "#radar = pyart.io.read('https://noaa-nexrad-level2.s3.amazonaws.com/2020/01/01/KCRP/' + 'KCRP20200101_000431_V06')\n",
    "radar = pyart.io.read('KCRP20200101_000431_V06')\n",
    "radar.info()"
   ]
  },
  {
   "cell_type": "markdown",
   "metadata": {},
   "source": [
    "#confirm station location"
   ]
  },
  {
   "cell_type": "code",
   "execution_count": 5,
   "metadata": {},
   "outputs": [
    {
     "name": "stdout",
     "output_type": "stream",
     "text": [
      "43.0 27.78401756286621 -97.5112533569336\n"
     ]
    }
   ],
   "source": [
    "altitude0 = radar.altitude['data'][0]\n",
    "latitude0 = radar.latitude['data'][0]\n",
    "longitude0 = radar.longitude['data'][0]\n",
    "print(altitude0, latitude0, longitude0)"
   ]
  },
  {
   "cell_type": "code",
   "execution_count": 37,
   "metadata": {},
   "outputs": [
    {
     "name": "stdout",
     "output_type": "stream",
     "text": [
      "6480\n",
      "1832\n"
     ]
    }
   ],
   "source": [
    "print(radar.nrays)\n",
    "print(radar.ngates)"
   ]
  },
  {
   "cell_type": "markdown",
   "metadata": {},
   "source": [
    "#Ray attributes: azimuth, elevation, time\n",
    "#Gate attributes: range\n",
    "#Ray x Gate attributes: lat, lon, alt"
   ]
  },
  {
   "cell_type": "code",
   "execution_count": 36,
   "metadata": {},
   "outputs": [
    {
     "name": "stdout",
     "output_type": "stream",
     "text": [
      "6480\n",
      "1832\n"
     ]
    }
   ],
   "source": [
    "gate_lat = radar.gate_latitude['data']\n",
    "gate_lon = radar.gate_longitude['data']\n",
    "gate_alt = radar.gate_altitude['data']\n",
    "print(len(radar.gate_latitude['data']))\n",
    "print(len(radar.gate_latitude['data'][0]))\n",
    "\n",
    "import itertools\n",
    "merged_lat = list(itertools.chain.from_iterable(gate_lat))\n",
    "merged_lon = list(itertools.chain.from_iterable(gate_lon))\n",
    "merged_alt = list(itertools.chain.from_iterable(gate_alt))"
   ]
  },
  {
   "cell_type": "code",
   "execution_count": 26,
   "metadata": {},
   "outputs": [],
   "source": [
    "refl = radar.fields['reflectivity']['data']"
   ]
  },
  {
   "cell_type": "code",
   "execution_count": 27,
   "metadata": {},
   "outputs": [],
   "source": [
    "merged_refl = list(itertools.chain.from_iterable(refl))"
   ]
  },
  {
   "cell_type": "code",
   "execution_count": 28,
   "metadata": {},
   "outputs": [
    {
     "data": {
      "text/plain": [
       "11871360"
      ]
     },
     "execution_count": 28,
     "metadata": {},
     "output_type": "execute_result"
    }
   ],
   "source": [
    "len(merged_refl)"
   ]
  },
  {
   "cell_type": "code",
   "execution_count": 30,
   "metadata": {},
   "outputs": [
    {
     "data": {
      "text/plain": [
       "array([1.83000e-01, 2.79000e-01, 3.79000e-01, ..., 4.07807e+02,\n",
       "       4.07860e+02, 4.07914e+02])"
      ]
     },
     "execution_count": 30,
     "metadata": {},
     "output_type": "execute_result"
    }
   ],
   "source": [
    "radar.time['data']"
   ]
  },
  {
   "cell_type": "code",
   "execution_count": 16,
   "metadata": {},
   "outputs": [
    {
     "ename": "TypeError",
     "evalue": "'numpy.float64' object is not iterable",
     "output_type": "error",
     "traceback": [
      "\u001b[1;31m---------------------------------------------------------------------------\u001b[0m",
      "\u001b[1;31mTypeError\u001b[0m                                 Traceback (most recent call last)",
      "\u001b[1;32m<ipython-input-16-eecce26c0e72>\u001b[0m in \u001b[0;36m<module>\u001b[1;34m\u001b[0m\n\u001b[0;32m      1\u001b[0m \u001b[0msample_time\u001b[0m \u001b[1;33m=\u001b[0m \u001b[0mradar\u001b[0m\u001b[1;33m.\u001b[0m\u001b[0mtime\u001b[0m\u001b[1;33m[\u001b[0m\u001b[1;34m'data'\u001b[0m\u001b[1;33m]\u001b[0m\u001b[1;33m\u001b[0m\u001b[1;33m\u001b[0m\u001b[0m\n\u001b[1;32m----> 2\u001b[1;33m \u001b[0mmerged_time\u001b[0m \u001b[1;33m=\u001b[0m \u001b[0mlist\u001b[0m\u001b[1;33m(\u001b[0m\u001b[0mitertools\u001b[0m\u001b[1;33m.\u001b[0m\u001b[0mchain\u001b[0m\u001b[1;33m.\u001b[0m\u001b[0mfrom_iterable\u001b[0m\u001b[1;33m(\u001b[0m\u001b[0msample_time\u001b[0m\u001b[1;33m)\u001b[0m\u001b[1;33m)\u001b[0m\u001b[1;33m\u001b[0m\u001b[1;33m\u001b[0m\u001b[0m\n\u001b[0m",
      "\u001b[1;31mTypeError\u001b[0m: 'numpy.float64' object is not iterable"
     ]
    }
   ],
   "source": [
    "#print(len(radar.time['data']))\n",
    "#sample_time = radar.time['data']\n",
    "#merged_time = list(itertools.chain.from_iterable(sample_time))"
   ]
  },
  {
   "cell_type": "code",
   "execution_count": null,
   "metadata": {},
   "outputs": [],
   "source": [
    "import pandas as pd\n",
    "#gate_lla = zip(gate_lat, gate_lon, gate_alt)\n",
    "gate_lla = pd.DataFrame(\n",
    "    {'Gate latitude': gate_lat,\n",
    "     'Gate longitude': gate_lon,\n",
    "     'Gate altitude': gate_alt\n",
    "    })"
   ]
  },
  {
   "cell_type": "code",
   "execution_count": null,
   "metadata": {},
   "outputs": [],
   "source": [
    "#sample_lat_dict = {'data': sample_lat, 'units': 'test', 'long_name': 'sample_latitude',\n",
    "             '_FillValue': sample_lat.fill_value, 'standard_name': 'sample_latitude'}\n",
    "\n",
    "#radar.add_field('sample_latitude', sample_lat_dict, replace_existing=True)"
   ]
  },
  {
   "cell_type": "code",
   "execution_count": null,
   "metadata": {},
   "outputs": [],
   "source": []
  },
  {
   "cell_type": "code",
   "execution_count": null,
   "metadata": {},
   "outputs": [],
   "source": []
  },
  {
   "cell_type": "code",
   "execution_count": null,
   "metadata": {},
   "outputs": [],
   "source": []
  }
 ],
 "metadata": {
  "kernelspec": {
   "display_name": "Python 3",
   "language": "python",
   "name": "python3"
  },
  "language_info": {
   "codemirror_mode": {
    "name": "ipython",
    "version": 3
   },
   "file_extension": ".py",
   "mimetype": "text/x-python",
   "name": "python",
   "nbconvert_exporter": "python",
   "pygments_lexer": "ipython3",
   "version": "3.7.6"
  }
 },
 "nbformat": 4,
 "nbformat_minor": 4
}
