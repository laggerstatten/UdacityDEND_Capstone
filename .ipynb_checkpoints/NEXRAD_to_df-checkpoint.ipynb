{
 "cells": [
  {
   "cell_type": "code",
   "execution_count": 1,
   "metadata": {},
   "outputs": [
    {
     "name": "stdout",
     "output_type": "stream",
     "text": [
      "\n",
      "## You are using the Python ARM Radar Toolkit (Py-ART), an open source\n",
      "## library for working with weather radar data. Py-ART is partly\n",
      "## supported by the U.S. Department of Energy as part of the Atmospheric\n",
      "## Radiation Measurement (ARM) Climate Research Facility, an Office of\n",
      "## Science user facility.\n",
      "##\n",
      "## If you use this software to prepare a publication, please cite:\n",
      "##\n",
      "##     JJ Helmus and SM Collis, JORS 2016, doi: 10.5334/jors.119\n",
      "\n",
      "listing files from http://noaa-nexrad-level2.s3.amazonaws.com/?prefix=2020/01/01/KCRP\n",
      "257 keys found...\n"
     ]
    }
   ],
   "source": [
    "from xml.dom import minidom\n",
    "from sys import stdin\n",
    "from urllib import request\n",
    "from subprocess import call\n",
    "import numpy as np\n",
    "import pyart\n",
    "\n",
    "def getText(nodelist):\n",
    "    rc = []\n",
    "    for node in nodelist:\n",
    "        if node.nodeType == node.TEXT_NODE:\n",
    "            rc.append(node.data)\n",
    "    return ''.join(rc)\n",
    "\n",
    "\n",
    "date = \"2020/01/01\"\n",
    "site = \"KCRP\"\n",
    "bucketURL = \"http://noaa-nexrad-level2.s3.amazonaws.com\"\n",
    "dirListURL = bucketURL+ \"/?prefix=\" + date + \"/\" + site\n",
    "\n",
    "print (\"listing files from %s\" % dirListURL)\n",
    "\n",
    "#xmldoc = minidom.parse(stdin)\n",
    "xmldoc = minidom.parse(request.urlopen(dirListURL))\n",
    "itemlist = xmldoc.getElementsByTagName('Key')\n",
    "print (len(itemlist) , \"keys found...\")\n",
    "\n",
    "# For this test, WCT is downloaded and unzipped directly in the working directory\n",
    "# The output files are going in 'output'\n",
    "# http://www.ncdc.noaa.gov/wct/install.php\n",
    "for x in itemlist:\n",
    "    file = getText(x.childNodes)\n",
    "    #print (\"Found %s \" % file)"
   ]
  },
  {
   "cell_type": "code",
   "execution_count": 2,
   "metadata": {},
   "outputs": [
    {
     "name": "stdout",
     "output_type": "stream",
     "text": [
      "altitude:\n",
      "\tdata: <ndarray of type: float64 and shape: (1,)>\n",
      "\tlong_name: Altitude\n",
      "\tstandard_name: Altitude\n",
      "\tunits: meters\n",
      "\tpositive: up\n",
      "altitude_agl: None\n",
      "antenna_transition: None\n",
      "azimuth:\n",
      "\tdata: <ndarray of type: float64 and shape: (6480,)>\n",
      "\tunits: degrees\n",
      "\tstandard_name: beam_azimuth_angle\n",
      "\tlong_name: azimuth_angle_from_true_north\n",
      "\taxis: radial_azimuth_coordinate\n",
      "\tcomment: Azimuth of antenna relative to true north\n",
      "elevation:\n",
      "\tdata: <ndarray of type: float32 and shape: (6480,)>\n",
      "\tunits: degrees\n",
      "\tstandard_name: beam_elevation_angle\n",
      "\tlong_name: elevation_angle_from_horizontal_plane\n",
      "\taxis: radial_elevation_coordinate\n",
      "\tcomment: Elevation of antenna relative to the horizontal plane\n",
      "fields:\n",
      "\tcross_correlation_ratio:\n",
      "\t\tdata: <ndarray of type: float32 and shape: (6480, 1832)>\n",
      "\t\tunits: ratio\n",
      "\t\tstandard_name: cross_correlation_ratio_hv\n",
      "\t\tlong_name: Cross correlation_ratio (RHOHV)\n",
      "\t\tvalid_max: 1.0\n",
      "\t\tvalid_min: 0.0\n",
      "\t\tcoordinates: elevation azimuth range\n",
      "\t\t_FillValue: -9999.0\n",
      "\tspectrum_width:\n",
      "\t\tdata: <ndarray of type: float32 and shape: (6480, 1832)>\n",
      "\t\tunits: meters_per_second\n",
      "\t\tstandard_name: doppler_spectrum_width\n",
      "\t\tlong_name: Spectrum Width\n",
      "\t\tvalid_max: 63.0\n",
      "\t\tvalid_min: -63.5\n",
      "\t\tcoordinates: elevation azimuth range\n",
      "\t\t_FillValue: -9999.0\n",
      "\tvelocity:\n",
      "\t\tdata: <ndarray of type: float32 and shape: (6480, 1832)>\n",
      "\t\tunits: meters_per_second\n",
      "\t\tstandard_name: radial_velocity_of_scatterers_away_from_instrument\n",
      "\t\tlong_name: Mean doppler Velocity\n",
      "\t\tvalid_max: 95.0\n",
      "\t\tvalid_min: -95.0\n",
      "\t\tcoordinates: elevation azimuth range\n",
      "\t\t_FillValue: -9999.0\n",
      "\treflectivity:\n",
      "\t\tdata: <ndarray of type: float32 and shape: (6480, 1832)>\n",
      "\t\tunits: dBZ\n",
      "\t\tstandard_name: equivalent_reflectivity_factor\n",
      "\t\tlong_name: Reflectivity\n",
      "\t\tvalid_max: 94.5\n",
      "\t\tvalid_min: -32.0\n",
      "\t\tcoordinates: elevation azimuth range\n",
      "\t\t_FillValue: -9999.0\n",
      "\tdifferential_phase:\n",
      "\t\tdata: <ndarray of type: float32 and shape: (6480, 1832)>\n",
      "\t\tunits: degrees\n",
      "\t\tstandard_name: differential_phase_hv\n",
      "\t\tlong_name: differential_phase_hv\n",
      "\t\tvalid_max: 360.0\n",
      "\t\tvalid_min: 0.0\n",
      "\t\tcoordinates: elevation azimuth range\n",
      "\t\t_FillValue: -9999.0\n",
      "\tdifferential_reflectivity:\n",
      "\t\tdata: <ndarray of type: float32 and shape: (6480, 1832)>\n",
      "\t\tunits: dB\n",
      "\t\tstandard_name: log_differential_reflectivity_hv\n",
      "\t\tlong_name: log_differential_reflectivity_hv\n",
      "\t\tvalid_max: 7.9375\n",
      "\t\tvalid_min: -7.875\n",
      "\t\tcoordinates: elevation azimuth range\n",
      "\t\t_FillValue: -9999.0\n",
      "fixed_angle:\n",
      "\tdata: <ndarray of type: float32 and shape: (12,)>\n",
      "\tlong_name: Target angle for sweep\n",
      "\tunits: degrees\n",
      "\tstandard_name: target_fixed_angle\n",
      "instrument_parameters:\n",
      "\tunambiguous_range:\n",
      "\t\tdata: <ndarray of type: float32 and shape: (6480,)>\n",
      "\t\tunits: meters\n",
      "\t\tcomments: Unambiguous range\n",
      "\t\tmeta_group: instrument_parameters\n",
      "\t\tlong_name: Unambiguous range\n",
      "\tnyquist_velocity:\n",
      "\t\tdata: <ndarray of type: float32 and shape: (6480,)>\n",
      "\t\tunits: meters_per_second\n",
      "\t\tcomments: Unambiguous velocity\n",
      "\t\tmeta_group: instrument_parameters\n",
      "\t\tlong_name: Nyquist velocity\n",
      "latitude:\n",
      "\tdata: <ndarray of type: float64 and shape: (1,)>\n",
      "\tlong_name: Latitude\n",
      "\tstandard_name: Latitude\n",
      "\tunits: degrees_north\n",
      "longitude:\n",
      "\tdata: <ndarray of type: float64 and shape: (1,)>\n",
      "\tlong_name: Longitude\n",
      "\tstandard_name: Longitude\n",
      "\tunits: degrees_east\n",
      "nsweeps: 12\n",
      "ngates: 1832\n",
      "nrays: 6480\n",
      "radar_calibration: None\n",
      "range:\n",
      "\tdata: <ndarray of type: float32 and shape: (1832,)>\n",
      "\tunits: meters\n",
      "\tstandard_name: projection_range_coordinate\n",
      "\tlong_name: range_to_measurement_volume\n",
      "\taxis: radial_range_coordinate\n",
      "\tspacing_is_constant: true\n",
      "\tcomment: Coordinate variable for range. Range to center of each bin.\n",
      "\tmeters_to_center_of_first_gate: 2125.0\n",
      "\tmeters_between_gates: 250.0\n",
      "scan_rate: None\n",
      "scan_type: ppi\n",
      "sweep_end_ray_index:\n",
      "\tdata: <ndarray of type: int32 and shape: (12,)>\n",
      "\tlong_name: Index of last ray in sweep, 0-based\n",
      "\tunits: count\n",
      "sweep_mode:\n",
      "\tdata: <ndarray of type: |S20 and shape: (12,)>\n",
      "\tunits: unitless\n",
      "\tstandard_name: sweep_mode\n",
      "\tlong_name: Sweep mode\n",
      "\tcomment: Options are: \"sector\", \"coplane\", \"rhi\", \"vertical_pointing\", \"idle\", \"azimuth_surveillance\", \"elevation_surveillance\", \"sunscan\", \"pointing\", \"manual_ppi\", \"manual_rhi\"\n",
      "sweep_number:\n",
      "\tdata: <ndarray of type: int32 and shape: (12,)>\n",
      "\tunits: count\n",
      "\tstandard_name: sweep_number\n",
      "\tlong_name: Sweep number\n",
      "sweep_start_ray_index:\n",
      "\tdata: <ndarray of type: int32 and shape: (12,)>\n",
      "\tlong_name: Index of first ray in sweep, 0-based\n",
      "\tunits: count\n",
      "target_scan_rate: None\n",
      "time:\n",
      "\tdata: <ndarray of type: float64 and shape: (6480,)>\n",
      "\tunits: seconds since 2020-01-01T00:04:31Z\n",
      "\tstandard_name: time\n",
      "\tlong_name: time_in_seconds_since_volume_start\n",
      "\tcalendar: gregorian\n",
      "\tcomment: Coordinate variable for time. Time at the center of each ray, in fractional seconds since the global variable time_coverage_start\n",
      "metadata:\n",
      "\tConventions: CF/Radial instrument_parameters\n",
      "\tversion: 1.3\n",
      "\ttitle: \n",
      "\tinstitution: \n",
      "\treferences: \n",
      "\tsource: \n",
      "\thistory: \n",
      "\tcomment: \n",
      "\tinstrument_name: KCRP\n",
      "\toriginal_container: NEXRAD Level II\n",
      "\tvcp_pattern: 35\n"
     ]
    }
   ],
   "source": [
    "#https://s3.amazonaws.com/noaa-nexrad-level2/index.html#2020/01/01/KCRP/\n",
    "#https://noaa-nexrad-level2.s3.amazonaws.com/2020/01/01/KCRP/KCRP20200101_000431_V06\n",
    "\n",
    "#radar = pyart.io.read('https://noaa-nexrad-level2.s3.amazonaws.com/2020/01/01/KCRP/' + 'KCRP20200101_000431_V06')\n",
    "radar = pyart.io.read('KCRP20200101_000431_V06')\n",
    "radar.info()"
   ]
  },
  {
   "cell_type": "code",
   "execution_count": null,
   "metadata": {},
   "outputs": [],
   "source": [
    "radar.elevation"
   ]
  },
  {
   "cell_type": "code",
   "execution_count": null,
   "metadata": {},
   "outputs": [],
   "source": [
    "radar.fields['reflectivity']"
   ]
  },
  {
   "cell_type": "code",
   "execution_count": null,
   "metadata": {},
   "outputs": [],
   "source": [
    "# This shows entries such as the data itself, coordinates, long name, and units. You can\n",
    "# access the array with the reflectivity data itself using radar.fields['reflectivity']['data'].\n",
    "# This is stored as a 2D masked array with dimensions (number of rays) x (number of gates)\n",
    "radar.fields['reflectivity']['data']"
   ]
  },
  {
   "cell_type": "code",
   "execution_count": null,
   "metadata": {},
   "outputs": [],
   "source": [
    "altitude:\n",
    "altitude_agl: None\n",
    "antenna_transition: None\n",
    "azimuth:\n",
    "elevation:\n",
    "fields:\n",
    "\tdifferential_phase:\n",
    "\tvelocity:\n",
    "\treflectivity:\n",
    "\tdifferential_reflectivity:\n",
    "\tcross_correlation_ratio:\n",
    "\tspectrum_width:\n",
    "fixed_angle:\n",
    "instrument_parameters:\n",
    "\tunambiguous_range:\n",
    "\tnyquist_velocity:\n",
    "latitude:\n",
    "longitude:\n",
    "nsweeps: 12\n",
    "ngates: 1832\n",
    "nrays: 6480\n",
    "radar_calibration: None\n",
    "range:\n",
    "scan_rate: None\n",
    "scan_type: ppi\n",
    "sweep_end_ray_index:\n",
    "sweep_mode:\n",
    "sweep_number:\n",
    "sweep_start_ray_index:\n",
    "target_scan_rate: None\n",
    "time:\n",
    "metadata:"
   ]
  },
  {
   "cell_type": "code",
   "execution_count": null,
   "metadata": {},
   "outputs": [],
   "source": [
    "altitude0 = radar.altitude['data'][0]\n",
    "latitude0 = radar.latitude['data'][0]\n",
    "longitude0 = radar.longitude['data'][0]\n",
    "print(altitude0, latitude0, longitude0)"
   ]
  },
  {
   "cell_type": "code",
   "execution_count": null,
   "metadata": {},
   "outputs": [],
   "source": [
    "sweep_number0 = radar.sweep_number['data']\n",
    "sweep_mode0 = radar.sweep_mode['data']\n",
    "sweep_start0 = radar.sweep_start_ray_index['data']\n",
    "sweep_end0 = radar.sweep_end_ray_index['data']\n",
    "sweep0 = zip(sweep_number0, sweep_mode0, sweep_start0, sweep_end0)\n",
    "print(sweep0)"
   ]
  },
  {
   "cell_type": "code",
   "execution_count": null,
   "metadata": {},
   "outputs": [],
   "source": [
    "print(len(radar.azimuth['data']))\n",
    "radar.azimuth['data']"
   ]
  },
  {
   "cell_type": "code",
   "execution_count": null,
   "metadata": {},
   "outputs": [],
   "source": [
    "print(len(radar.elevation['data']))\n",
    "radar.elevation['data']"
   ]
  },
  {
   "cell_type": "code",
   "execution_count": null,
   "metadata": {},
   "outputs": [],
   "source": [
    "print(len(radar.fixed_angle['data']))\n",
    "radar.fixed_angle['data']"
   ]
  },
  {
   "cell_type": "code",
   "execution_count": null,
   "metadata": {},
   "outputs": [],
   "source": [
    "print(len(radar.range['data']))\n",
    "radar.range['data']"
   ]
  },
  {
   "cell_type": "code",
   "execution_count": null,
   "metadata": {},
   "outputs": [],
   "source": [
    "print(len(radar.time['data']))\n",
    "radar.time['data']"
   ]
  },
  {
   "cell_type": "code",
   "execution_count": null,
   "metadata": {},
   "outputs": [],
   "source": [
    "radar.fields['reflectivity']['data']"
   ]
  },
  {
   "cell_type": "code",
   "execution_count": null,
   "metadata": {},
   "outputs": [],
   "source": [
    "radar.fields['reflectivity']['data'][0]"
   ]
  },
  {
   "cell_type": "code",
   "execution_count": 3,
   "metadata": {},
   "outputs": [],
   "source": [
    "# Store the radar field into a variable.\n",
    "ref_field = radar.fields['reflectivity']['data'].copy()"
   ]
  },
  {
   "cell_type": "code",
   "execution_count": 4,
   "metadata": {},
   "outputs": [
    {
     "name": "stdout",
     "output_type": "stream",
     "text": [
      "[[0 0 0 ... -- -- --]\n",
      " [0 0 0 ... -- -- --]\n",
      " [0 0 0 ... -- -- --]\n",
      " ...\n",
      " [0 0 0 ... -- -- --]\n",
      " [0 0 0 ... -- -- --]\n",
      " [0 0 0 ... -- -- --]]\n"
     ]
    }
   ],
   "source": [
    "# To create an array that is zero when the condition is false and one when it is true, we\n",
    "# can make use of the np.ma.where command.\n",
    "ref_gt_0 = np.ma.where(ref_field > 0, 1, 0)\n",
    "print(ref_gt_0)"
   ]
  },
  {
   "cell_type": "code",
   "execution_count": 5,
   "metadata": {},
   "outputs": [],
   "source": [
    "# To create a new field, we need to create a dictionary with keys containing the data,\n",
    "# the long name, the units, the fill value, and the standard name.\n",
    "mask_dict = {'data': ref_gt_0, 'units': '0 = Z < 0, 1 = Z >= 0', 'long_name': 'reflectivity_mask',\n",
    "             '_FillValue': ref_gt_0.fill_value, 'standard_name': 'reflectivity_mask'}"
   ]
  },
  {
   "cell_type": "code",
   "execution_count": 6,
   "metadata": {},
   "outputs": [],
   "source": [
    "# Adding this field into the radar object using radar.add_field()\n",
    "radar.add_field('reflectivity_mask', mask_dict, replace_existing=True)"
   ]
  },
  {
   "cell_type": "code",
   "execution_count": null,
   "metadata": {},
   "outputs": [],
   "source": [
    "# Import needed modules.\n",
    "import cartopy.crs as ccrs\n",
    "import matplotlib.pyplot as plt\n",
    "\n",
    "# Plot the data using RadarMapDisplay\n",
    "plt.figure(figsize=[12, 8])\n",
    "projection = ccrs.LambertConformal(central_latitude=radar.latitude['data'][0],\n",
    "                                   central_longitude=radar.longitude['data'][0])\n",
    "display = pyart.graph.RadarMapDisplay(radar)\n",
    "display.plot_ppi_map('reflectivity_mask', projection=projection, cmap='coolwarm', vmin=0, vmax=1)"
   ]
  },
  {
   "cell_type": "code",
   "execution_count": 7,
   "metadata": {},
   "outputs": [
    {
     "ename": "AttributeError",
     "evalue": "'cftime._cftime.DatetimeGregorian' object has no attribute 'isoformat'",
     "output_type": "error",
     "traceback": [
      "\u001b[1;31m---------------------------------------------------------------------------\u001b[0m",
      "\u001b[1;31mAttributeError\u001b[0m                            Traceback (most recent call last)",
      "\u001b[1;32m<ipython-input-7-53c76c284a7f>\u001b[0m in \u001b[0;36m<module>\u001b[1;34m\u001b[0m\n\u001b[0;32m      1\u001b[0m \u001b[1;31m# Writing this radar object to a new file is as simple as using pyart.io.write_cfradial()\u001b[0m\u001b[1;33m\u001b[0m\u001b[1;33m\u001b[0m\u001b[1;33m\u001b[0m\u001b[0m\n\u001b[1;32m----> 2\u001b[1;33m \u001b[0mpyart\u001b[0m\u001b[1;33m.\u001b[0m\u001b[0mio\u001b[0m\u001b[1;33m.\u001b[0m\u001b[0mwrite_cfradial\u001b[0m\u001b[1;33m(\u001b[0m\u001b[1;34m'new_radar.nc'\u001b[0m\u001b[1;33m,\u001b[0m \u001b[0mradar\u001b[0m\u001b[1;33m)\u001b[0m\u001b[1;33m\u001b[0m\u001b[1;33m\u001b[0m\u001b[0m\n\u001b[0m",
      "\u001b[1;32m~\\anaconda3\\lib\\site-packages\\pyart\\io\\cfradial.py\u001b[0m in \u001b[0;36mwrite_cfradial\u001b[1;34m(filename, radar, format, time_reference, arm_time_variables)\u001b[0m\n\u001b[0;32m    604\u001b[0m         end_dt += (datetime.timedelta(seconds=1) -\n\u001b[0;32m    605\u001b[0m                    datetime.timedelta(microseconds=end_dt.microsecond))\n\u001b[1;32m--> 606\u001b[1;33m     start_dic = {'data': np.array(start_dt.isoformat() + 'Z', dtype='S'),\n\u001b[0m\u001b[0;32m    607\u001b[0m                  \u001b[1;34m'long_name'\u001b[0m\u001b[1;33m:\u001b[0m \u001b[1;34m'UTC time of first ray in the file'\u001b[0m\u001b[1;33m,\u001b[0m\u001b[1;33m\u001b[0m\u001b[1;33m\u001b[0m\u001b[0m\n\u001b[0;32m    608\u001b[0m                  'units': 'unitless'}\n",
      "\u001b[1;31mAttributeError\u001b[0m: 'cftime._cftime.DatetimeGregorian' object has no attribute 'isoformat'"
     ]
    }
   ],
   "source": [
    "# Writing this radar object to a new file is as simple as using pyart.io.write_cfradial()\n",
    "pyart.io.write_cfradial('new_radar.nc', radar)"
   ]
  },
  {
   "cell_type": "code",
   "execution_count": 8,
   "metadata": {},
   "outputs": [],
   "source": [
    "import netCDF4"
   ]
  },
  {
   "cell_type": "code",
   "execution_count": 9,
   "metadata": {},
   "outputs": [
    {
     "name": "stdout",
     "output_type": "stream",
     "text": [
      "<class 'netCDF4._netCDF4.Dataset'>\n",
      "root group (NETCDF4 data model, file format HDF5):\n",
      "    Conventions: CF/Radial instrument_parameters\n",
      "    version: 1.3\n",
      "    title: \n",
      "    institution: \n",
      "    references: \n",
      "    source: \n",
      "    comment: \n",
      "    instrument_name: KCRP\n",
      "    original_container: NEXRAD Level II\n",
      "    vcp_pattern: 35\n",
      "    field_names: cross_correlation_ratio, spectrum_width, velocity, reflectivity, differential_phase, differential_reflectivity, reflectivity_mask\n",
      "    history: \n",
      "    dimensions(sizes): time(6480), range(1832), sweep(12), string_length(32)\n",
      "    variables(dimensions): float64 time(time), float32 range(range), float64 azimuth(time), float32 elevation(time), float32 cross_correlation_ratio(time,range), float32 spectrum_width(time,range), float32 velocity(time,range), float32 reflectivity(time,range), float32 differential_phase(time,range), float32 differential_reflectivity(time,range), int32 reflectivity_mask(time,range), int32 sweep_number(sweep), float32 fixed_angle(sweep), int32 sweep_start_ray_index(sweep), int32 sweep_end_ray_index(sweep), |S1 sweep_mode(sweep,string_length), float32 unambiguous_range(time), float32 nyquist_velocity(time), float64 latitude(), float64 longitude(), float64 altitude()\n",
      "    groups: \n"
     ]
    }
   ],
   "source": [
    "f = netCDF4.Dataset('./new_radar.nc')\n",
    "print(f)"
   ]
  },
  {
   "cell_type": "code",
   "execution_count": 10,
   "metadata": {},
   "outputs": [
    {
     "name": "stdout",
     "output_type": "stream",
     "text": [
      "dict_keys(['time', 'range', 'azimuth', 'elevation', 'cross_correlation_ratio', 'spectrum_width', 'velocity', 'reflectivity', 'differential_phase', 'differential_reflectivity', 'reflectivity_mask', 'sweep_number', 'fixed_angle', 'sweep_start_ray_index', 'sweep_end_ray_index', 'sweep_mode', 'unambiguous_range', 'nyquist_velocity', 'latitude', 'longitude', 'altitude'])\n"
     ]
    }
   ],
   "source": [
    "print(f.variables.keys())"
   ]
  },
  {
   "cell_type": "code",
   "execution_count": 23,
   "metadata": {},
   "outputs": [
    {
     "name": "stdout",
     "output_type": "stream",
     "text": [
      "Data variables:\n",
      "    cross_correlation_ratio    (time, range) float32 ...\n",
      "    spectrum_width             (time, range) float32 ...\n",
      "    velocity                   (time, range) float32 ...\n",
      "    reflectivity               (time, range) float32 ...\n",
      "    differential_phase         (time, range) float32 ...\n",
      "    differential_reflectivity  (time, range) float32 ...\n",
      "    reflectivity_mask          (time, range) float64 ...\n",
      "    sweep_number               (sweep) int32 ...\n",
      "    fixed_angle                (sweep) float32 ...\n",
      "    sweep_start_ray_index      (sweep) int32 ...\n",
      "    sweep_end_ray_index        (sweep) int32 ...\n",
      "    sweep_mode                 (sweep) |S32 ...\n",
      "    unambiguous_range          (time) float32 ...\n",
      "    nyquist_velocity           (time) float32 ...\n",
      "    latitude                   float64 ...\n",
      "    longitude                  float64 ...\n",
      "    altitude                   float64 ...\n",
      "Data variables:\n",
      "    reflectivity  (time, range) float32 ...\n",
      "    velocity      (time, range) float32 ...\n",
      "    sweep_number  (sweep) int32 ...\n"
     ]
    }
   ],
   "source": [
    "import xarray as xr\n",
    "ds = xr.open_dataset('./new_radar.nc')\n",
    "print(ds.data_vars)\n",
    "#breaks when adding sweep_mode as variable -- likely due to being string\n",
    "ds = ds[['reflectivity','velocity']]\n",
    "print(ds.data_vars)"
   ]
  },
  {
   "cell_type": "code",
   "execution_count": 24,
   "metadata": {},
   "outputs": [
    {
     "ename": "MemoryError",
     "evalue": "Unable to allocate 543. MiB for an array with shape (1832, 12, 6480) and data type float32",
     "output_type": "error",
     "traceback": [
      "\u001b[1;31m---------------------------------------------------------------------------\u001b[0m",
      "\u001b[1;31mMemoryError\u001b[0m                               Traceback (most recent call last)",
      "\u001b[1;32m<ipython-input-24-a16b4bb6f735>\u001b[0m in \u001b[0;36m<module>\u001b[1;34m\u001b[0m\n\u001b[1;32m----> 1\u001b[1;33m \u001b[0mdf\u001b[0m \u001b[1;33m=\u001b[0m \u001b[0mds\u001b[0m\u001b[1;33m.\u001b[0m\u001b[0mto_dataframe\u001b[0m\u001b[1;33m(\u001b[0m\u001b[1;33m)\u001b[0m\u001b[1;33m\u001b[0m\u001b[1;33m\u001b[0m\u001b[0m\n\u001b[0m\u001b[0;32m      2\u001b[0m \u001b[0mprint\u001b[0m\u001b[1;33m(\u001b[0m\u001b[0mlen\u001b[0m\u001b[1;33m(\u001b[0m\u001b[0mdf\u001b[0m\u001b[1;33m)\u001b[0m\u001b[1;33m)\u001b[0m\u001b[1;33m\u001b[0m\u001b[1;33m\u001b[0m\u001b[0m\n\u001b[0;32m      3\u001b[0m \u001b[0mprint\u001b[0m\u001b[1;33m(\u001b[0m\u001b[0mdf\u001b[0m\u001b[1;33m.\u001b[0m\u001b[0mcolumns\u001b[0m\u001b[1;33m)\u001b[0m\u001b[1;33m\u001b[0m\u001b[1;33m\u001b[0m\u001b[0m\n\u001b[0;32m      4\u001b[0m \u001b[0mprint\u001b[0m\u001b[1;33m(\u001b[0m\u001b[0mdf\u001b[0m\u001b[1;33m)\u001b[0m\u001b[1;33m\u001b[0m\u001b[1;33m\u001b[0m\u001b[0m\n",
      "\u001b[1;32m~\\anaconda3\\lib\\site-packages\\xarray\\core\\dataset.py\u001b[0m in \u001b[0;36mto_dataframe\u001b[1;34m(self)\u001b[0m\n\u001b[0;32m   4503\u001b[0m         \u001b[0mthis\u001b[0m \u001b[0mdataset\u001b[0m\u001b[0;31m'\u001b[0m\u001b[0ms\u001b[0m \u001b[0mindices\u001b[0m\u001b[1;33m.\u001b[0m\u001b[1;33m\u001b[0m\u001b[1;33m\u001b[0m\u001b[0m\n\u001b[0;32m   4504\u001b[0m         \"\"\"\n\u001b[1;32m-> 4505\u001b[1;33m         \u001b[1;32mreturn\u001b[0m \u001b[0mself\u001b[0m\u001b[1;33m.\u001b[0m\u001b[0m_to_dataframe\u001b[0m\u001b[1;33m(\u001b[0m\u001b[0mself\u001b[0m\u001b[1;33m.\u001b[0m\u001b[0mdims\u001b[0m\u001b[1;33m)\u001b[0m\u001b[1;33m\u001b[0m\u001b[1;33m\u001b[0m\u001b[0m\n\u001b[0m\u001b[0;32m   4506\u001b[0m \u001b[1;33m\u001b[0m\u001b[0m\n\u001b[0;32m   4507\u001b[0m     def _set_sparse_data_from_dataframe(\n",
      "\u001b[1;32m~\\anaconda3\\lib\\site-packages\\xarray\\core\\dataset.py\u001b[0m in \u001b[0;36m_to_dataframe\u001b[1;34m(self, ordered_dims)\u001b[0m\n\u001b[0;32m   4491\u001b[0m         data = [\n\u001b[0;32m   4492\u001b[0m             \u001b[0mself\u001b[0m\u001b[1;33m.\u001b[0m\u001b[0m_variables\u001b[0m\u001b[1;33m[\u001b[0m\u001b[0mk\u001b[0m\u001b[1;33m]\u001b[0m\u001b[1;33m.\u001b[0m\u001b[0mset_dims\u001b[0m\u001b[1;33m(\u001b[0m\u001b[0mordered_dims\u001b[0m\u001b[1;33m)\u001b[0m\u001b[1;33m.\u001b[0m\u001b[0mvalues\u001b[0m\u001b[1;33m.\u001b[0m\u001b[0mreshape\u001b[0m\u001b[1;33m(\u001b[0m\u001b[1;33m-\u001b[0m\u001b[1;36m1\u001b[0m\u001b[1;33m)\u001b[0m\u001b[1;33m\u001b[0m\u001b[1;33m\u001b[0m\u001b[0m\n\u001b[1;32m-> 4493\u001b[1;33m             \u001b[1;32mfor\u001b[0m \u001b[0mk\u001b[0m \u001b[1;32min\u001b[0m \u001b[0mcolumns\u001b[0m\u001b[1;33m\u001b[0m\u001b[1;33m\u001b[0m\u001b[0m\n\u001b[0m\u001b[0;32m   4494\u001b[0m         ]\n\u001b[0;32m   4495\u001b[0m         \u001b[0mindex\u001b[0m \u001b[1;33m=\u001b[0m \u001b[0mself\u001b[0m\u001b[1;33m.\u001b[0m\u001b[0mcoords\u001b[0m\u001b[1;33m.\u001b[0m\u001b[0mto_index\u001b[0m\u001b[1;33m(\u001b[0m\u001b[0mordered_dims\u001b[0m\u001b[1;33m)\u001b[0m\u001b[1;33m\u001b[0m\u001b[1;33m\u001b[0m\u001b[0m\n",
      "\u001b[1;32m~\\anaconda3\\lib\\site-packages\\xarray\\core\\dataset.py\u001b[0m in \u001b[0;36m<listcomp>\u001b[1;34m(.0)\u001b[0m\n\u001b[0;32m   4491\u001b[0m         data = [\n\u001b[0;32m   4492\u001b[0m             \u001b[0mself\u001b[0m\u001b[1;33m.\u001b[0m\u001b[0m_variables\u001b[0m\u001b[1;33m[\u001b[0m\u001b[0mk\u001b[0m\u001b[1;33m]\u001b[0m\u001b[1;33m.\u001b[0m\u001b[0mset_dims\u001b[0m\u001b[1;33m(\u001b[0m\u001b[0mordered_dims\u001b[0m\u001b[1;33m)\u001b[0m\u001b[1;33m.\u001b[0m\u001b[0mvalues\u001b[0m\u001b[1;33m.\u001b[0m\u001b[0mreshape\u001b[0m\u001b[1;33m(\u001b[0m\u001b[1;33m-\u001b[0m\u001b[1;36m1\u001b[0m\u001b[1;33m)\u001b[0m\u001b[1;33m\u001b[0m\u001b[1;33m\u001b[0m\u001b[0m\n\u001b[1;32m-> 4493\u001b[1;33m             \u001b[1;32mfor\u001b[0m \u001b[0mk\u001b[0m \u001b[1;32min\u001b[0m \u001b[0mcolumns\u001b[0m\u001b[1;33m\u001b[0m\u001b[1;33m\u001b[0m\u001b[0m\n\u001b[0m\u001b[0;32m   4494\u001b[0m         ]\n\u001b[0;32m   4495\u001b[0m         \u001b[0mindex\u001b[0m \u001b[1;33m=\u001b[0m \u001b[0mself\u001b[0m\u001b[1;33m.\u001b[0m\u001b[0mcoords\u001b[0m\u001b[1;33m.\u001b[0m\u001b[0mto_index\u001b[0m\u001b[1;33m(\u001b[0m\u001b[0mordered_dims\u001b[0m\u001b[1;33m)\u001b[0m\u001b[1;33m\u001b[0m\u001b[1;33m\u001b[0m\u001b[0m\n",
      "\u001b[1;31mMemoryError\u001b[0m: Unable to allocate 543. MiB for an array with shape (1832, 12, 6480) and data type float32"
     ]
    }
   ],
   "source": [
    "df = ds.to_dataframe()\n",
    "print(len(df))\n",
    "print(df.columns) \n",
    "print(df)"
   ]
  },
  {
   "cell_type": "code",
   "execution_count": null,
   "metadata": {},
   "outputs": [],
   "source": []
  }
 ],
 "metadata": {
  "kernelspec": {
   "display_name": "Python 3",
   "language": "python",
   "name": "python3"
  },
  "language_info": {
   "codemirror_mode": {
    "name": "ipython",
    "version": 3
   },
   "file_extension": ".py",
   "mimetype": "text/x-python",
   "name": "python",
   "nbconvert_exporter": "python",
   "pygments_lexer": "ipython3",
   "version": "3.7.6"
  }
 },
 "nbformat": 4,
 "nbformat_minor": 4
}
