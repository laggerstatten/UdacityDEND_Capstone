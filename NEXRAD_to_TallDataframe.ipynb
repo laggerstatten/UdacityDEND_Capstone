{
 "cells": [
  {
   "cell_type": "markdown",
   "metadata": {},
   "source": [
    "#Import packages"
   ]
  },
  {
   "cell_type": "code",
   "execution_count": 1,
   "metadata": {},
   "outputs": [
    {
     "name": "stdout",
     "output_type": "stream",
     "text": [
      "\n",
      "## You are using the Python ARM Radar Toolkit (Py-ART), an open source\n",
      "## library for working with weather radar data. Py-ART is partly\n",
      "## supported by the U.S. Department of Energy as part of the Atmospheric\n",
      "## Radiation Measurement (ARM) Climate Research Facility, an Office of\n",
      "## Science user facility.\n",
      "##\n",
      "## If you use this software to prepare a publication, please cite:\n",
      "##\n",
      "##     JJ Helmus and SM Collis, JORS 2016, doi: 10.5334/jors.119\n",
      "\n"
     ]
    }
   ],
   "source": [
    "from xml.dom import minidom\n",
    "from sys import stdin\n",
    "from urllib import request\n",
    "from subprocess import call\n",
    "import numpy as np\n",
    "import pandas as pd\n",
    "import itertools\n",
    "import pyart\n"
   ]
  },
  {
   "cell_type": "markdown",
   "metadata": {},
   "source": [
    "#initialize user-defined variables"
   ]
  },
  {
   "cell_type": "code",
   "execution_count": 2,
   "metadata": {},
   "outputs": [],
   "source": [
    "date = \"2020/01/01\"\n",
    "site = \"KCRP\"\n",
    "bucketURL = \"http://noaa-nexrad-level2.s3.amazonaws.com\"\n",
    "dirListURL = bucketURL+ \"/?prefix=\" + date + \"/\" + site"
   ]
  },
  {
   "cell_type": "markdown",
   "metadata": {},
   "source": [
    "#list available files"
   ]
  },
  {
   "cell_type": "code",
   "execution_count": 3,
   "metadata": {},
   "outputs": [
    {
     "name": "stdout",
     "output_type": "stream",
     "text": [
      "listing files from http://noaa-nexrad-level2.s3.amazonaws.com/?prefix=2020/01/01/KCRP\n",
      "257 keys found...\n"
     ]
    }
   ],
   "source": [
    "def getText(nodelist):\n",
    "    rc = []\n",
    "    for node in nodelist:\n",
    "        if node.nodeType == node.TEXT_NODE:\n",
    "            rc.append(node.data)\n",
    "    return ''.join(rc)\n",
    "\n",
    "print (\"listing files from %s\" % dirListURL)\n",
    "\n",
    "xmldoc = minidom.parse(request.urlopen(dirListURL))\n",
    "itemlist = xmldoc.getElementsByTagName('Key')\n",
    "print (len(itemlist) , \"keys found...\")\n",
    "\n",
    "for x in itemlist:\n",
    "    file = getText(x.childNodes)"
   ]
  },
  {
   "cell_type": "markdown",
   "metadata": {},
   "source": [
    "#read NEXRAD radar file -- having issue reading from http, temporarily reading from local directory"
   ]
  },
  {
   "cell_type": "code",
   "execution_count": 5,
   "metadata": {},
   "outputs": [],
   "source": [
    "#https://s3.amazonaws.com/noaa-nexrad-level2/index.html#2020/01/01/KCRP/\n",
    "#https://noaa-nexrad-level2.s3.amazonaws.com/2020/01/01/KCRP/KCRP20200101_000431_V06\n",
    "\n",
    "#radar = pyart.io.read_nexrad_archive('https://noaa-nexrad-level2.s3.amazonaws.com/2020/01/01/KCRP/' + 'KCRP20200101_000431_V06')\n",
    "#radar = pyart.io.read('https://noaa-nexrad-level2.s3.amazonaws.com/2020/01/01/KCRP/' + 'KCRP20200101_000431_V06')\n",
    "radar = pyart.io.read('data/NEXRAD/KCRP20200101_000431_V06')\n"
   ]
  },
  {
   "cell_type": "code",
   "execution_count": null,
   "metadata": {},
   "outputs": [],
   "source": [
    "#radar.info()"
   ]
  },
  {
   "cell_type": "markdown",
   "metadata": {},
   "source": [
    "#confirm station location"
   ]
  },
  {
   "cell_type": "code",
   "execution_count": 6,
   "metadata": {},
   "outputs": [
    {
     "name": "stdout",
     "output_type": "stream",
     "text": [
      "43.0 27.78401756286621 -97.5112533569336\n"
     ]
    }
   ],
   "source": [
    "altitude0 = radar.altitude['data'][0]\n",
    "latitude0 = radar.latitude['data'][0]\n",
    "longitude0 = radar.longitude['data'][0]\n",
    "print(altitude0, latitude0, longitude0)"
   ]
  },
  {
   "cell_type": "markdown",
   "metadata": {},
   "source": [
    "#confirm number of rays and gates\n",
    "#Ray attributes: azimuth, elevation, time\n",
    "#Gate attributes: range\n",
    "#Ray x Gate attributes: lat, lon, alt"
   ]
  },
  {
   "cell_type": "code",
   "execution_count": 7,
   "metadata": {},
   "outputs": [
    {
     "name": "stdout",
     "output_type": "stream",
     "text": [
      "6480\n",
      "1832\n"
     ]
    }
   ],
   "source": [
    "print(radar.nrays)\n",
    "print(radar.ngates)"
   ]
  },
  {
   "cell_type": "markdown",
   "metadata": {},
   "source": [
    "#unfold lists of lists"
   ]
  },
  {
   "cell_type": "code",
   "execution_count": 8,
   "metadata": {},
   "outputs": [],
   "source": [
    "gate_lat = radar.gate_latitude['data']\n",
    "gate_lon = radar.gate_longitude['data']\n",
    "gate_alt = radar.gate_altitude['data']\n",
    "refl = radar.fields['reflectivity']['data']\n",
    "velo = radar.fields['velocity']['data']\n",
    "\n",
    "merged_lat = list(itertools.chain.from_iterable(gate_lat))\n",
    "merged_lon = list(itertools.chain.from_iterable(gate_lon))\n",
    "merged_alt = list(itertools.chain.from_iterable(gate_alt))\n",
    "merged_refl = list(itertools.chain.from_iterable(refl))\n",
    "merged_velo = list(itertools.chain.from_iterable(velo))"
   ]
  },
  {
   "cell_type": "markdown",
   "metadata": {},
   "source": [
    "#expand time field"
   ]
  },
  {
   "cell_type": "code",
   "execution_count": 9,
   "metadata": {},
   "outputs": [],
   "source": [
    "time_x1 =  radar.time['data']\n",
    "time_xgates = [val for val in time_x1 for _ in range(radar.ngates)]"
   ]
  },
  {
   "cell_type": "markdown",
   "metadata": {},
   "source": [
    "#visual checks -- make into real tests"
   ]
  },
  {
   "cell_type": "code",
   "execution_count": 10,
   "metadata": {},
   "outputs": [
    {
     "name": "stdout",
     "output_type": "stream",
     "text": [
      "11871360\n",
      "6480\n",
      "1832\n",
      "6480\n",
      "11871360\n",
      "11871360\n"
     ]
    }
   ],
   "source": [
    "print(radar.nrays * radar.ngates)\n",
    "print(len(gate_lat))\n",
    "print(len(gate_lat[0]))\n",
    "print(len(radar.time['data']))\n",
    "print(len(time_xgates))\n",
    "print(len(merged_refl))"
   ]
  },
  {
   "cell_type": "markdown",
   "metadata": {},
   "source": [
    "#combine data into dataframe"
   ]
  },
  {
   "cell_type": "code",
   "execution_count": null,
   "metadata": {},
   "outputs": [],
   "source": [
    "samples = pd.DataFrame(\n",
    "    {'Gate latitude': merged_lat,\n",
    "     'Gate longitude': merged_lon,\n",
    "     'Gate altitude': merged_alt,\n",
    "     'Gate time': time_xgates,\n",
    "     'Reflectivity': merged_refl,\n",
    "     'Velocity': merged_velo\n",
    "    })\n",
    "print(len(samples))\n",
    "print(samples[0:50])"
   ]
  },
  {
   "cell_type": "code",
   "execution_count": null,
   "metadata": {},
   "outputs": [],
   "source": []
  }
 ],
 "metadata": {
  "kernelspec": {
   "display_name": "Python 3",
   "language": "python",
   "name": "python3"
  },
  "language_info": {
   "codemirror_mode": {
    "name": "ipython",
    "version": 3
   },
   "file_extension": ".py",
   "mimetype": "text/x-python",
   "name": "python",
   "nbconvert_exporter": "python",
   "pygments_lexer": "ipython3",
   "version": "3.7.6"
  }
 },
 "nbformat": 4,
 "nbformat_minor": 4
}
