{
 "cells": [
  {
   "cell_type": "markdown",
   "metadata": {},
   "source": [
    "#import all packages"
   ]
  },
  {
   "cell_type": "code",
   "execution_count": 1,
   "metadata": {},
   "outputs": [],
   "source": [
    "import pandas as pd\n",
    "from tabulate import tabulate\n",
    "from sphere import RegionCoverer, Cell, LatLng, LatLngRect, CellId"
   ]
  },
  {
   "cell_type": "markdown",
   "metadata": {},
   "source": [
    "#initialize path to HURDAT2 data"
   ]
  },
  {
   "cell_type": "code",
   "execution_count": 2,
   "metadata": {},
   "outputs": [],
   "source": [
    "path = 'https://www.aoml.noaa.gov/hrd/hurdat/hurdat2.html'\n",
    "# https://www.nhc.noaa.gov/data/hurdat/hurdat2-format-atlantic.pdf"
   ]
  },
  {
   "cell_type": "markdown",
   "metadata": {},
   "source": [
    "#assign column names and read CSV data"
   ]
  },
  {
   "cell_type": "code",
   "execution_count": 3,
   "metadata": {},
   "outputs": [
    {
     "name": "stdout",
     "output_type": "stream",
     "text": [
      "53737\n"
     ]
    }
   ],
   "source": [
    "col_names = ['Date','Time','RecordIdentifier','SystemStatus','Latitude','Longitude','MaxSustWind','MaxPressure',\n",
    "             'NE34','SE34','SW34','NW34',\n",
    "             'NE50','SE50','SW50','NW50',\n",
    "             'NE64','SE64','SW64','NW64']\n",
    "df = pd.read_csv(path, skiprows = 2, low_memory=False, names=col_names)\n",
    "print(len(df))\n",
    "#print(df.dtypes)\n",
    "#print(tabulate(df[52100:52200], headers = col_names))"
   ]
  },
  {
   "cell_type": "markdown",
   "metadata": {},
   "source": [
    "#change data types to strings"
   ]
  },
  {
   "cell_type": "code",
   "execution_count": 4,
   "metadata": {},
   "outputs": [
    {
     "data": {
      "text/plain": [
       "0                        nan\n",
       "1                    UNNAMED\n",
       "2                       0000\n",
       "3                       0600\n",
       "4                       1200\n",
       "                ...         \n",
       "53732                   0600\n",
       "53733                   1200\n",
       "53734                    nan\n",
       "53735                    nan\n",
       "53736                    nan\n",
       "Name: Time, Length: 53737, dtype: object"
      ]
     },
     "execution_count": 4,
     "metadata": {},
     "output_type": "execute_result"
    }
   ],
   "source": [
    "df.Date.apply(str)\n",
    "df.Time.apply(str)"
   ]
  },
  {
   "cell_type": "markdown",
   "metadata": {},
   "source": [
    "#print first 10 rows of data"
   ]
  },
  {
   "cell_type": "code",
   "execution_count": 5,
   "metadata": {},
   "outputs": [
    {
     "name": "stdout",
     "output_type": "stream",
     "text": [
      "    Date      Time     RecordIdentifier    SystemStatus    Latitude    Longitude      MaxSustWind    MaxPressure    NE34    SE34    SW34    NW34    NE50    SE50    SW50    NW50    NE64    SE64    SW64    NW64\n",
      "--  --------  -------  ------------------  --------------  ----------  -----------  -------------  -------------  ------  ------  ------  ------  ------  ------  ------  ------  ------  ------  ------  ------\n",
      " 1  AL011851  UNNAMED  14                  nan             nan         nan                    nan            nan     nan     nan     nan     nan     nan     nan     nan     nan     nan     nan     nan     nan\n",
      " 2  18510625  0000                         HU              28.0N       94.8W                   80           -999    -999    -999    -999    -999    -999    -999    -999    -999    -999    -999    -999    -999\n",
      " 3  18510625  0600                         HU              28.0N       95.4W                   80           -999    -999    -999    -999    -999    -999    -999    -999    -999    -999    -999    -999    -999\n",
      " 4  18510625  1200                         HU              28.0N       96.0W                   80           -999    -999    -999    -999    -999    -999    -999    -999    -999    -999    -999    -999    -999\n",
      " 5  18510625  1800                         HU              28.1N       96.5W                   80           -999    -999    -999    -999    -999    -999    -999    -999    -999    -999    -999    -999    -999\n",
      " 6  18510625  2100     L                   HU              28.2N       96.8W                   80           -999    -999    -999    -999    -999    -999    -999    -999    -999    -999    -999    -999    -999\n",
      " 7  18510626  0000                         HU              28.2N       97.0W                   70           -999    -999    -999    -999    -999    -999    -999    -999    -999    -999    -999    -999    -999\n",
      " 8  18510626  0600                         TS              28.3N       97.6W                   60           -999    -999    -999    -999    -999    -999    -999    -999    -999    -999    -999    -999    -999\n",
      " 9  18510626  1200                         TS              28.4N       98.3W                   60           -999    -999    -999    -999    -999    -999    -999    -999    -999    -999    -999    -999    -999\n",
      "10  18510626  1800                         TS              28.6N       98.9W                   50           -999    -999    -999    -999    -999    -999    -999    -999    -999    -999    -999    -999    -999\n"
     ]
    }
   ],
   "source": [
    "#remove ghost row\n",
    "newdf = df.drop([0])\n",
    "print(tabulate(newdf[0:10], headers = col_names))"
   ]
  },
  {
   "cell_type": "markdown",
   "metadata": {},
   "source": [
    "#check if row is convoluted header row (contains ALPHA characters)"
   ]
  },
  {
   "cell_type": "code",
   "execution_count": 6,
   "metadata": {},
   "outputs": [],
   "source": [
    "newdf['IsStormHdr'] = ~newdf['Date'].str.isdigit()\n",
    "#print(tabulate(df[1:10], headers = col_names))"
   ]
  },
  {
   "cell_type": "markdown",
   "metadata": {},
   "source": [
    "#create empty columns to receive header data"
   ]
  },
  {
   "cell_type": "code",
   "execution_count": 7,
   "metadata": {},
   "outputs": [],
   "source": [
    "newdf['Identifier'] = ''\n",
    "newdf['Name'] = ''\n",
    "newdf['Samples'] = ''\n",
    "\n",
    "#print(tabulate(newdf[0:10], headers = col_names))\n",
    "#print(newdf.dtypes)"
   ]
  },
  {
   "cell_type": "markdown",
   "metadata": {},
   "source": [
    "#Iterate over rows to get header data and write to list"
   ]
  },
  {
   "cell_type": "code",
   "execution_count": 8,
   "metadata": {},
   "outputs": [],
   "source": [
    "Lidentifier = []\n",
    "Lname = []\n",
    "Lsamples = []\n",
    "\n",
    "identifier = \"\"\n",
    "name = \"\"\n",
    "samples = \"\"\n",
    "\n",
    "for row in newdf.itertuples(index=True):\n",
    "    if (getattr(row, \"IsStormHdr\") == True):\n",
    "        identifier = getattr(row, \"Date\")\n",
    "        name = getattr(row, \"Time\")\n",
    "        samples = getattr(row, \"RecordIdentifier\")\n",
    "    Lidentifier.append(identifier)\n",
    "    Lname.append(name)\n",
    "    Lsamples.append(samples)"
   ]
  },
  {
   "cell_type": "markdown",
   "metadata": {},
   "source": [
    "#write list data into dataframe"
   ]
  },
  {
   "cell_type": "code",
   "execution_count": 9,
   "metadata": {},
   "outputs": [],
   "source": [
    "newdf.Identifier = Lidentifier\n",
    "newdf.Name = Lname\n",
    "newdf.Samples = Lsamples"
   ]
  },
  {
   "cell_type": "markdown",
   "metadata": {},
   "source": [
    "#separate storm header data from track data"
   ]
  },
  {
   "cell_type": "code",
   "execution_count": 10,
   "metadata": {},
   "outputs": [],
   "source": [
    "#fix chaining issue\n",
    "storms = newdf[newdf['IsStormHdr'] == True].copy()\n",
    "storms = storms[['Identifier','Name','Samples']]\n",
    "#print(storms[1600:1800])\n",
    "\n",
    "tracks = newdf[newdf['IsStormHdr'] == False].copy()\n",
    "#print(tracks)"
   ]
  },
  {
   "cell_type": "raw",
   "metadata": {},
   "source": []
  },
  {
   "cell_type": "code",
   "execution_count": 11,
   "metadata": {},
   "outputs": [],
   "source": [
    "import re\n",
    "def parsell(string):\n",
    "    string = string.strip().lower()\n",
    "\n",
    "    if string.endswith('w') or string.endswith('s'):\n",
    "        sign = -1\n",
    "    else:\n",
    "        sign = 1\n",
    "\n",
    "    string = re.sub(r\"[^0-9.]\", \" \", string).strip()\n",
    "\n",
    "    numeric_ll = float(string)\n",
    "    return numeric_ll * sign"
   ]
  },
  {
   "cell_type": "code",
   "execution_count": 12,
   "metadata": {},
   "outputs": [],
   "source": [
    "Tlatitude = [parsell(lat) for lat in tracks['Latitude']]\n",
    "tracks['Latitude'] = Tlatitude\n",
    "\n",
    "Tlongitude = [parsell(lon) for lon in tracks['Longitude']]\n",
    "tracks['Longitude'] = Tlongitude"
   ]
  },
  {
   "cell_type": "code",
   "execution_count": 13,
   "metadata": {},
   "outputs": [
    {
     "name": "stdout",
     "output_type": "stream",
     "text": [
      "           Date   Time RecordIdentifier SystemStatus  Latitude  Longitude  \\\n",
      "2      18510625   0000                            HU      28.0      -94.8   \n",
      "3      18510625   0600                            HU      28.0      -95.4   \n",
      "4      18510625   1200                            HU      28.0      -96.0   \n",
      "5      18510625   1800                            HU      28.1      -96.5   \n",
      "6      18510625   2100                L           HU      28.2      -96.8   \n",
      "...         ...    ...              ...          ...       ...        ...   \n",
      "53729  20191126   1200                            EX      52.2       -9.3   \n",
      "53730  20191126   1800                            EX      52.2       -8.9   \n",
      "53731  20191127   0000                            EX      51.8       -8.2   \n",
      "53732  20191127   0600                            EX      51.4       -6.0   \n",
      "53733  20191127   1200                            EX      51.3       -2.1   \n",
      "\n",
      "       MaxSustWind  MaxPressure   NE34   SE34  ...   SW50   NW50   NE64  \\\n",
      "2             80.0       -999.0 -999.0 -999.0  ... -999.0 -999.0 -999.0   \n",
      "3             80.0       -999.0 -999.0 -999.0  ... -999.0 -999.0 -999.0   \n",
      "4             80.0       -999.0 -999.0 -999.0  ... -999.0 -999.0 -999.0   \n",
      "5             80.0       -999.0 -999.0 -999.0  ... -999.0 -999.0 -999.0   \n",
      "6             80.0       -999.0 -999.0 -999.0  ... -999.0 -999.0 -999.0   \n",
      "...            ...          ...    ...    ...  ...    ...    ...    ...   \n",
      "53729         45.0        970.0   90.0  240.0  ...    0.0    0.0    0.0   \n",
      "53730         40.0        972.0   90.0  240.0  ...    0.0    0.0    0.0   \n",
      "53731         40.0        974.0    0.0  210.0  ...    0.0    0.0    0.0   \n",
      "53732         40.0        976.0    0.0  180.0  ...    0.0    0.0    0.0   \n",
      "53733         40.0        980.0    0.0  120.0  ...    0.0    0.0    0.0   \n",
      "\n",
      "        SE64   SW64   NW64  IsStormHdr    Identifier                 Name  \\\n",
      "2     -999.0 -999.0 -999.0       False      AL011851              UNNAMED   \n",
      "3     -999.0 -999.0 -999.0       False      AL011851              UNNAMED   \n",
      "4     -999.0 -999.0 -999.0       False      AL011851              UNNAMED   \n",
      "5     -999.0 -999.0 -999.0       False      AL011851              UNNAMED   \n",
      "6     -999.0 -999.0 -999.0       False      AL011851              UNNAMED   \n",
      "...      ...    ...    ...         ...           ...                  ...   \n",
      "53729    0.0    0.0    0.0       False      AL202019            SEBASTIEN   \n",
      "53730    0.0    0.0    0.0       False      AL202019            SEBASTIEN   \n",
      "53731    0.0    0.0    0.0       False      AL202019            SEBASTIEN   \n",
      "53732    0.0    0.0    0.0       False      AL202019            SEBASTIEN   \n",
      "53733    0.0    0.0    0.0       False      AL202019            SEBASTIEN   \n",
      "\n",
      "       Samples  \n",
      "2           14  \n",
      "3           14  \n",
      "4           14  \n",
      "5           14  \n",
      "6           14  \n",
      "...        ...  \n",
      "53729       34  \n",
      "53730       34  \n",
      "53731       34  \n",
      "53732       34  \n",
      "53733       34  \n",
      "\n",
      "[51840 rows x 24 columns]\n"
     ]
    }
   ],
   "source": [
    "print(tracks)"
   ]
  },
  {
   "cell_type": "code",
   "execution_count": 17,
   "metadata": {},
   "outputs": [],
   "source": [
    "s2level = 10\n",
    "tracks['S2LL'] = [LatLng.from_degrees(x, y) for x, y in zip(tracks['Latitude'], tracks['Longitude'])]\n",
    "tracks['S2CellID'] = [CellId().from_lat_lng(xy) for xy in tracks['S2LL']]\n",
    "tracks['S2Region'] = [z.parent(s2level) for z in tracks['S2CellID']]"
   ]
  },
  {
   "cell_type": "code",
   "execution_count": 18,
   "metadata": {},
   "outputs": [
    {
     "name": "stdout",
     "output_type": "stream",
     "text": [
      "           Date   Time RecordIdentifier SystemStatus  Latitude  Longitude  \\\n",
      "2      18510625   0000                            HU      28.0      -94.8   \n",
      "3      18510625   0600                            HU      28.0      -95.4   \n",
      "4      18510625   1200                            HU      28.0      -96.0   \n",
      "5      18510625   1800                            HU      28.1      -96.5   \n",
      "6      18510625   2100                L           HU      28.2      -96.8   \n",
      "...         ...    ...              ...          ...       ...        ...   \n",
      "53729  20191126   1200                            EX      52.2       -9.3   \n",
      "53730  20191126   1800                            EX      52.2       -8.9   \n",
      "53731  20191127   0000                            EX      51.8       -8.2   \n",
      "53732  20191127   0600                            EX      51.4       -6.0   \n",
      "53733  20191127   1200                            EX      51.3       -2.1   \n",
      "\n",
      "       MaxSustWind  MaxPressure   NE34   SE34  ...   SE64   SW64   NW64  \\\n",
      "2             80.0       -999.0 -999.0 -999.0  ... -999.0 -999.0 -999.0   \n",
      "3             80.0       -999.0 -999.0 -999.0  ... -999.0 -999.0 -999.0   \n",
      "4             80.0       -999.0 -999.0 -999.0  ... -999.0 -999.0 -999.0   \n",
      "5             80.0       -999.0 -999.0 -999.0  ... -999.0 -999.0 -999.0   \n",
      "6             80.0       -999.0 -999.0 -999.0  ... -999.0 -999.0 -999.0   \n",
      "...            ...          ...    ...    ...  ...    ...    ...    ...   \n",
      "53729         45.0        970.0   90.0  240.0  ...    0.0    0.0    0.0   \n",
      "53730         40.0        972.0   90.0  240.0  ...    0.0    0.0    0.0   \n",
      "53731         40.0        974.0    0.0  210.0  ...    0.0    0.0    0.0   \n",
      "53732         40.0        976.0    0.0  180.0  ...    0.0    0.0    0.0   \n",
      "53733         40.0        980.0    0.0  120.0  ...    0.0    0.0    0.0   \n",
      "\n",
      "       IsStormHdr    Identifier                 Name  Samples  \\\n",
      "2           False      AL011851              UNNAMED       14   \n",
      "3           False      AL011851              UNNAMED       14   \n",
      "4           False      AL011851              UNNAMED       14   \n",
      "5           False      AL011851              UNNAMED       14   \n",
      "6           False      AL011851              UNNAMED       14   \n",
      "...           ...           ...                  ...      ...   \n",
      "53729       False      AL202019            SEBASTIEN       34   \n",
      "53730       False      AL202019            SEBASTIEN       34   \n",
      "53731       False      AL202019            SEBASTIEN       34   \n",
      "53732       False      AL202019            SEBASTIEN       34   \n",
      "53733       False      AL202019            SEBASTIEN       34   \n",
      "\n",
      "                                                S2LL  \\\n",
      "2                                 LatLng: 28.0,-94.8   \n",
      "3                                 LatLng: 28.0,-95.4   \n",
      "4                    LatLng: 28.0,-96.00000000000001   \n",
      "5                                 LatLng: 28.1,-96.5   \n",
      "6                                 LatLng: 28.2,-96.8   \n",
      "...                                              ...   \n",
      "53729                              LatLng: 52.2,-9.3   \n",
      "53730                              LatLng: 52.2,-8.9   \n",
      "53731                              LatLng: 51.8,-8.2   \n",
      "53732  LatLng: 51.400000000000006,-6.000000000000001   \n",
      "53733                              LatLng: 51.3,-2.1   \n",
      "\n",
      "                       S2CellID                  S2Region  \n",
      "2      CellId: 86152368a918e181  CellId: 8615230000000000  \n",
      "3      CellId: 866ae7fbf0357351  CellId: 866ae70000000000  \n",
      "4      CellId: 866a461410edca43  CellId: 866a470000000000  \n",
      "5      CellId: 86698c876c05db93  CellId: 86698d0000000000  \n",
      "6      CellId: 8669c10cd9e94ef3  CellId: 8669c10000000000  \n",
      "...                         ...                       ...  \n",
      "53729  CellId: 484528fae276a51d  CellId: 4845290000000000  \n",
      "53730  CellId: 4844cf56e1e86175  CellId: 4844cf0000000000  \n",
      "53731  CellId: 48437e1f689d6943  CellId: 48437f0000000000  \n",
      "53732  CellId: 4869edaa6db6fdff  CellId: 4869ed0000000000  \n",
      "53733  CellId: 4873d78edaa40fcd  CellId: 4873d70000000000  \n",
      "\n",
      "[51840 rows x 27 columns]\n"
     ]
    }
   ],
   "source": [
    "print(tracks)"
   ]
  },
  {
   "cell_type": "code",
   "execution_count": null,
   "metadata": {},
   "outputs": [],
   "source": []
  }
 ],
 "metadata": {
  "kernelspec": {
   "display_name": "Python 3",
   "language": "python",
   "name": "python3"
  },
  "language_info": {
   "codemirror_mode": {
    "name": "ipython",
    "version": 3
   },
   "file_extension": ".py",
   "mimetype": "text/x-python",
   "name": "python",
   "nbconvert_exporter": "python",
   "pygments_lexer": "ipython3",
   "version": "3.7.6"
  }
 },
 "nbformat": 4,
 "nbformat_minor": 4
}
