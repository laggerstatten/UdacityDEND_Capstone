{
 "cells": [
  {
   "cell_type": "code",
   "execution_count": 1,
   "metadata": {
    "editable": true
   },
   "outputs": [],
   "source": [
    "from all_etl import *\n",
    "from hurdat_etl import *\n",
    "from sql_queries import *"
   ]
  },
  {
   "cell_type": "code",
   "execution_count": 2,
   "metadata": {},
   "outputs": [
    {
     "name": "stdout",
     "output_type": "stream",
     "text": [
      "3.118\n"
     ]
    }
   ],
   "source": [
    "spark_verify()"
   ]
  },
  {
   "cell_type": "code",
   "execution_count": 3,
   "metadata": {
    "editable": true
   },
   "outputs": [
    {
     "name": "stdout",
     "output_type": "stream",
     "text": [
      "START ETL pipeline process\n"
     ]
    }
   ],
   "source": [
    "print(\"ETL pipeline initiated\")\n",
    "results_all = []"
   ]
  },
  {
   "cell_type": "code",
   "execution_count": 4,
   "metadata": {
    "editable": true
   },
   "outputs": [],
   "source": [
    "path_d = define_paths()"
   ]
  },
  {
   "cell_type": "code",
   "execution_count": 5,
   "metadata": {
    "editable": true
   },
   "outputs": [
    {
     "name": "stdout",
     "output_type": "stream",
     "text": [
      "Create Spark session\n"
     ]
    }
   ],
   "source": [
    "# Create Spark session for the pipeline.\n",
    "spark = create_spark_session()"
   ]
  },
  {
   "cell_type": "code",
   "execution_count": 6,
   "metadata": {
    "editable": true
   },
   "outputs": [
    {
     "name": "stdout",
     "output_type": "stream",
     "text": [
      "Processing HURDAT data\n",
      "Reading HURDAT to Spark\n",
      "HURDAT processing complete\n"
     ]
    }
   ],
   "source": [
    "# Process all HURDAT input files\n",
    "hurdat_df_spark = process_hurdat_data(spark, path_d)\n",
    "hurdat_storms_df_spark = hurdat_df_spark[0]\n",
    "hurdat_tracks_df_spark = hurdat_df_spark[1]"
   ]
  },
  {
   "cell_type": "code",
   "execution_count": 7,
   "metadata": {
    "editable": true
   },
   "outputs": [
    {
     "name": "stdout",
     "output_type": "stream",
     "text": [
      "Creating table\n",
      "HURDAT schema:\n",
      "root\n",
      " |-- storm_id: string (nullable = false)\n",
      " |-- storm_name: string (nullable = false)\n",
      " |-- sample_count: string (nullable = false)\n",
      " |-- datetime: date (nullable = false)\n",
      " |-- s2_cell_id: string (nullable = false)\n",
      " |-- s2_region: string (nullable = false)\n",
      " |-- record_id: string (nullable = false)\n",
      " |-- system_status: string (nullable = false)\n",
      " |-- latitude: string (nullable = false)\n",
      " |-- longitude: string (nullable = false)\n",
      " |-- max_sust_wind: string (nullable = false)\n",
      " |-- max_pressure: string (nullable = false)\n",
      " |-- NE34: string (nullable = false)\n",
      " |-- SE34: string (nullable = false)\n",
      " |-- SW34: string (nullable = false)\n",
      " |-- NW34: string (nullable = false)\n",
      " |-- NE50: string (nullable = false)\n",
      " |-- SE50: string (nullable = false)\n",
      " |-- SW50: string (nullable = false)\n",
      " |-- NW50: string (nullable = false)\n",
      " |-- NE64: string (nullable = false)\n",
      " |-- SE64: string (nullable = false)\n",
      " |-- SW64: string (nullable = false)\n",
      " |-- NW64: string (nullable = false)\n",
      "\n",
      "HURDAT table complete\n"
     ]
    }
   ],
   "source": [
    "hurdat_table = process_joined_hurdat_data( spark, path_d, hurdat_storms_df_spark, hurdat_tracks_df_spark)"
   ]
  },
  {
   "cell_type": "code",
   "execution_count": 8,
   "metadata": {
    "editable": true
   },
   "outputs": [
    {
     "name": "stdout",
     "output_type": "stream",
     "text": [
      "Creating table\n",
      "HURDAT Time schema:\n",
      "root\n",
      " |-- datetime: timestamp (nullable = false)\n",
      " |-- year: integer (nullable = false)\n",
      " |-- month: integer (nullable = false)\n",
      " |-- day: integer (nullable = false)\n",
      " |-- hour: integer (nullable = false)\n",
      " |-- minute: integer (nullable = false)\n",
      "\n",
      "HURDAT Time table complete\n",
      "+-------------------+----+-----+---+----+------+\n",
      "|           datetime|year|month|day|hour|minute|\n",
      "+-------------------+----+-----+---+----+------+\n",
      "|1862-11-24 00:00:00|1862|   11| 24|   0|     0|\n",
      "|1865-09-28 00:00:00|1865|    9| 28|   0|     0|\n",
      "|1867-06-21 00:00:00|1867|    6| 21|   0|     0|\n",
      "|1867-09-01 00:00:00|1867|    9|  1|   0|     0|\n",
      "|1879-08-22 00:00:00|1879|    8| 22|   0|     0|\n",
      "|1887-06-14 00:00:00|1887|    6| 14|   0|     0|\n",
      "|1889-09-08 00:00:00|1889|    9|  8|   0|     0|\n",
      "|1893-11-06 00:00:00|1893|   11|  6|   0|     0|\n",
      "|1894-09-29 00:00:00|1894|    9| 29|   0|     0|\n",
      "|1908-09-09 00:00:00|1908|    9|  9|   0|     0|\n",
      "|1908-10-02 00:00:00|1908|   10|  2|   0|     0|\n",
      "|1908-10-19 00:00:00|1908|   10| 19|   0|     0|\n",
      "|1921-09-11 00:00:00|1921|    9| 11|   0|     0|\n",
      "|1926-08-03 00:00:00|1926|    8|  3|   0|     0|\n",
      "|1934-08-22 00:00:00|1934|    8| 22|   0|     0|\n",
      "|1935-11-12 00:00:00|1935|   11| 12|   0|     0|\n",
      "|1936-12-14 00:00:00|1936|   12| 14|   0|     0|\n",
      "|1939-09-24 00:00:00|1939|    9| 24|   0|     0|\n",
      "|1947-08-26 00:00:00|1947|    8| 26|   0|     0|\n",
      "|1949-09-01 00:00:00|1949|    9|  1|   0|     0|\n",
      "+-------------------+----+-----+---+----+------+\n",
      "only showing top 20 rows\n",
      "\n"
     ]
    }
   ],
   "source": [
    "time_table = process_hurdat_time_data( spark, path_d, hurdat_tracks_df_spark)\n",
    "time_table.show()"
   ]
  },
  {
   "cell_type": "code",
   "execution_count": 9,
   "metadata": {},
   "outputs": [
    {
     "name": "stdout",
     "output_type": "stream",
     "text": [
      "Creating table\n",
      "HURDAT Space schema:\n",
      "root\n",
      " |-- S2CellID: struct (nullable = true)\n",
      " |    |-- _CellId__id: long (nullable = true)\n",
      " |-- S2Region: struct (nullable = true)\n",
      " |    |-- _CellId__id: long (nullable = true)\n",
      " |-- S2_L29: string (nullable = true)\n",
      " |-- S2_L28: string (nullable = true)\n",
      " |-- S2_L27: string (nullable = true)\n",
      " |-- S2_L26: string (nullable = true)\n",
      " |-- S2_L25: string (nullable = true)\n",
      " |-- S2_L24: string (nullable = true)\n",
      " |-- S2_L23: string (nullable = true)\n",
      " |-- S2_L22: string (nullable = true)\n",
      " |-- S2_L21: string (nullable = true)\n",
      " |-- S2_L20: string (nullable = true)\n",
      " |-- S2_L19: string (nullable = true)\n",
      " |-- S2_L18: string (nullable = true)\n",
      " |-- S2_L17: string (nullable = true)\n",
      " |-- S2_L16: string (nullable = true)\n",
      " |-- S2_L15: string (nullable = true)\n",
      " |-- S2_L14: string (nullable = true)\n",
      " |-- S2_L13: string (nullable = true)\n",
      " |-- S2_L12: string (nullable = true)\n",
      " |-- S2_L11: string (nullable = true)\n",
      " |-- S2_L10: string (nullable = true)\n",
      " |-- S2_L09: string (nullable = true)\n",
      " |-- S2_L08: string (nullable = true)\n",
      " |-- S2_L07: string (nullable = true)\n",
      " |-- S2_L06: string (nullable = true)\n",
      " |-- S2_L05: string (nullable = true)\n",
      " |-- S2_L04: string (nullable = true)\n",
      " |-- S2_L03: string (nullable = true)\n",
      " |-- S2_L02: string (nullable = true)\n",
      " |-- S2_L01: string (nullable = true)\n",
      "\n",
      "HURDAT Space table complete\n",
      "+--------+--------+--------------------+--------------------+--------------------+--------------------+--------------------+--------------------+--------------------+--------------------+--------------------+--------------------+--------------------+--------------------+--------------------+--------------------+--------------------+--------------------+--------------------+--------------------+--------------------+--------------------+--------------------+--------------------+--------------------+--------------------+--------------------+--------------------+--------------------+--------------------+--------------------+\n",
      "|S2CellID|S2Region|              S2_L29|              S2_L28|              S2_L27|              S2_L26|              S2_L25|              S2_L24|              S2_L23|              S2_L22|              S2_L21|              S2_L20|              S2_L19|              S2_L18|              S2_L17|              S2_L16|              S2_L15|              S2_L14|              S2_L13|              S2_L12|              S2_L11|              S2_L10|              S2_L09|              S2_L08|              S2_L07|              S2_L06|              S2_L05|              S2_L04|              S2_L03|              S2_L02|              S2_L01|\n",
      "+--------+--------+--------------------+--------------------+--------------------+--------------------+--------------------+--------------------+--------------------+--------------------+--------------------+--------------------+--------------------+--------------------+--------------------+--------------------+--------------------+--------------------+--------------------+--------------------+--------------------+--------------------+--------------------+--------------------+--------------------+--------------------+--------------------+--------------------+--------------------+--------------------+--------------------+\n",
      "|      []|      []|CellId: 86152368a...|CellId: 86152368a...|CellId: 86152368a...|CellId: 86152368a...|CellId: 86152368a...|CellId: 86152368a...|CellId: 86152368a...|CellId: 86152368a...|CellId: 86152368a...|CellId: 86152368a...|CellId: 86152368a...|CellId: 86152368a...|CellId: 86152368a...|CellId: 86152368b...|CellId: 86152368c...|CellId: 861523690...|CellId: 8615236c0...|CellId: 861523700...|CellId: 861523400...|CellId: 861523000...|CellId: 861524000...|CellId: 861530000...|CellId: 861540000...|CellId: 861500000...|CellId: 861400000...|CellId: 861000000...|CellId: 864000000...|CellId: 870000000...|CellId: 840000000...|\n",
      "|      []|      []|CellId: 866ae7fbf...|CellId: 866ae7fbf...|CellId: 866ae7fbf...|CellId: 866ae7fbf...|CellId: 866ae7fbf...|CellId: 866ae7fbf...|CellId: 866ae7fbf...|CellId: 866ae7fbf...|CellId: 866ae7fbf...|CellId: 866ae7fbf...|CellId: 866ae7fbf...|CellId: 866ae7fbf...|CellId: 866ae7fbf...|CellId: 866ae7fbf...|CellId: 866ae7fbc...|CellId: 866ae7fb0...|CellId: 866ae7fc0...|CellId: 866ae7f00...|CellId: 866ae7c00...|CellId: 866ae7000...|CellId: 866ae4000...|CellId: 866af0000...|CellId: 866ac0000...|CellId: 866b00000...|CellId: 866c00000...|CellId: 867000000...|CellId: 864000000...|CellId: 870000000...|CellId: 840000000...|\n",
      "|      []|      []|CellId: 866a46141...|CellId: 866a46141...|CellId: 866a46141...|CellId: 866a46141...|CellId: 866a46141...|CellId: 866a46141...|CellId: 866a46141...|CellId: 866a46141...|CellId: 866a46141...|CellId: 866a46141...|CellId: 866a46141...|CellId: 866a46141...|CellId: 866a46141...|CellId: 866a46141...|CellId: 866a46144...|CellId: 866a46150...|CellId: 866a46140...|CellId: 866a46100...|CellId: 866a46400...|CellId: 866a47000...|CellId: 866a44000...|CellId: 866a50000...|CellId: 866a40000...|CellId: 866b00000...|CellId: 866c00000...|CellId: 867000000...|CellId: 864000000...|CellId: 870000000...|CellId: 840000000...|\n",
      "|      []|      []|CellId: 86698c876...|CellId: 86698c876...|CellId: 86698c876...|CellId: 86698c876...|CellId: 86698c876...|CellId: 86698c876...|CellId: 86698c876...|CellId: 86698c876...|CellId: 86698c876...|CellId: 86698c876...|CellId: 86698c876...|CellId: 86698c876...|CellId: 86698c876...|CellId: 86698c877...|CellId: 86698c874...|CellId: 86698c870...|CellId: 86698c840...|CellId: 86698c900...|CellId: 86698cc00...|CellId: 86698d000...|CellId: 86698c000...|CellId: 866990000...|CellId: 8669c0000...|CellId: 866900000...|CellId: 866c00000...|CellId: 867000000...|CellId: 864000000...|CellId: 870000000...|CellId: 840000000...|\n",
      "|      []|      []|CellId: 8669c10cd...|CellId: 8669c10cd...|CellId: 8669c10cd...|CellId: 8669c10cd...|CellId: 8669c10cd...|CellId: 8669c10cd...|CellId: 8669c10cd...|CellId: 8669c10cd...|CellId: 8669c10cd...|CellId: 8669c10cd...|CellId: 8669c10cd...|CellId: 8669c10cd...|CellId: 8669c10cd...|CellId: 8669c10cd...|CellId: 8669c10cc...|CellId: 8669c10d0...|CellId: 8669c10c0...|CellId: 8669c1100...|CellId: 8669c1400...|CellId: 8669c1000...|CellId: 8669c4000...|CellId: 8669d0000...|CellId: 8669c0000...|CellId: 866900000...|CellId: 866c00000...|CellId: 867000000...|CellId: 864000000...|CellId: 870000000...|CellId: 840000000...|\n",
      "|      []|      []|CellId: 8669c95a4...|CellId: 8669c95a4...|CellId: 8669c95a4...|CellId: 8669c95a4...|CellId: 8669c95a4...|CellId: 8669c95a4...|CellId: 8669c95a4...|CellId: 8669c95a4...|CellId: 8669c95a4...|CellId: 8669c95a4...|CellId: 8669c95a4...|CellId: 8669c95a4...|CellId: 8669c95a4...|CellId: 8669c95a5...|CellId: 8669c95a4...|CellId: 8669c95b0...|CellId: 8669c95c0...|CellId: 8669c9500...|CellId: 8669c9400...|CellId: 8669c9000...|CellId: 8669cc000...|CellId: 8669d0000...|CellId: 8669c0000...|CellId: 866900000...|CellId: 866c00000...|CellId: 867000000...|CellId: 864000000...|CellId: 870000000...|CellId: 840000000...|\n",
      "|      []|      []|CellId: 86681ac7d...|CellId: 86681ac7d...|CellId: 86681ac7d...|CellId: 86681ac7d...|CellId: 86681ac7d...|CellId: 86681ac7d...|CellId: 86681ac7d...|CellId: 86681ac7d...|CellId: 86681ac7d...|CellId: 86681ac7d...|CellId: 86681ac7d...|CellId: 86681ac7d...|CellId: 86681ac7d...|CellId: 86681ac7d...|CellId: 86681ac7c...|CellId: 86681ac70...|CellId: 86681ac40...|CellId: 86681ad00...|CellId: 86681ac00...|CellId: 86681b000...|CellId: 86681c000...|CellId: 866810000...|CellId: 866840000...|CellId: 866900000...|CellId: 866c00000...|CellId: 867000000...|CellId: 864000000...|CellId: 870000000...|CellId: 840000000...|\n",
      "|      []|      []|CellId: 8667880da...|CellId: 8667880da...|CellId: 8667880da...|CellId: 8667880da...|CellId: 8667880da...|CellId: 8667880da...|CellId: 8667880da...|CellId: 8667880da...|CellId: 8667880da...|CellId: 8667880da...|CellId: 8667880da...|CellId: 8667880da...|CellId: 8667880da...|CellId: 8667880db...|CellId: 8667880dc...|CellId: 8667880d0...|CellId: 8667880c0...|CellId: 866788100...|CellId: 866788400...|CellId: 866789000...|CellId: 86678c000...|CellId: 866790000...|CellId: 8667c0000...|CellId: 866700000...|CellId: 866400000...|CellId: 867000000...|CellId: 864000000...|CellId: 870000000...|CellId: 840000000...|\n",
      "|      []|      []|CellId: 865dedb84...|CellId: 865dedb84...|CellId: 865dedb84...|CellId: 865dedb84...|CellId: 865dedb84...|CellId: 865dedb84...|CellId: 865dedb84...|CellId: 865dedb84...|CellId: 865dedb84...|CellId: 865dedb84...|CellId: 865dedb84...|CellId: 865dedb84...|CellId: 865dedb84...|CellId: 865dedb85...|CellId: 865dedb84...|CellId: 865dedb90...|CellId: 865dedbc0...|CellId: 865dedb00...|CellId: 865dedc00...|CellId: 865ded000...|CellId: 865dec000...|CellId: 865df0000...|CellId: 865dc0000...|CellId: 865d00000...|CellId: 865c00000...|CellId: 865000000...|CellId: 864000000...|CellId: 870000000...|CellId: 840000000...|\n",
      "|      []|      []|CellId: 865e63634...|CellId: 865e63634...|CellId: 865e63634...|CellId: 865e63634...|CellId: 865e63634...|CellId: 865e63634...|CellId: 865e63634...|CellId: 865e63634...|CellId: 865e63634...|CellId: 865e63634...|CellId: 865e63634...|CellId: 865e63634...|CellId: 865e63634...|CellId: 865e63635...|CellId: 865e63634...|CellId: 865e63630...|CellId: 865e63640...|CellId: 865e63700...|CellId: 865e63400...|CellId: 865e63000...|CellId: 865e64000...|CellId: 865e70000...|CellId: 865e40000...|CellId: 865f00000...|CellId: 865c00000...|CellId: 865000000...|CellId: 864000000...|CellId: 870000000...|CellId: 840000000...|\n",
      "|      []|      []|CellId: 865edc176...|CellId: 865edc176...|CellId: 865edc176...|CellId: 865edc176...|CellId: 865edc176...|CellId: 865edc176...|CellId: 865edc176...|CellId: 865edc176...|CellId: 865edc176...|CellId: 865edc176...|CellId: 865edc176...|CellId: 865edc176...|CellId: 865edc176...|CellId: 865edc177...|CellId: 865edc174...|CellId: 865edc170...|CellId: 865edc140...|CellId: 865edc100...|CellId: 865edc400...|CellId: 865edd000...|CellId: 865edc000...|CellId: 865ed0000...|CellId: 865ec0000...|CellId: 865f00000...|CellId: 865c00000...|CellId: 865000000...|CellId: 864000000...|CellId: 870000000...|CellId: 840000000...|\n",
      "|      []|      []|CellId: 8658da2e5...|CellId: 8658da2e5...|CellId: 8658da2e5...|CellId: 8658da2e5...|CellId: 8658da2e5...|CellId: 8658da2e5...|CellId: 8658da2e5...|CellId: 8658da2e5...|CellId: 8658da2e5...|CellId: 8658da2e5...|CellId: 8658da2e5...|CellId: 8658da2e5...|CellId: 8658da2e5...|CellId: 8658da2e5...|CellId: 8658da2e4...|CellId: 8658da2f0...|CellId: 8658da2c0...|CellId: 8658da300...|CellId: 8658da400...|CellId: 8658db000...|CellId: 8658dc000...|CellId: 8658d0000...|CellId: 8658c0000...|CellId: 865900000...|CellId: 865c00000...|CellId: 865000000...|CellId: 864000000...|CellId: 870000000...|CellId: 840000000...|\n",
      "|      []|      []|CellId: 8658f7e10...|CellId: 8658f7e10...|CellId: 8658f7e10...|CellId: 8658f7e10...|CellId: 8658f7e10...|CellId: 8658f7e10...|CellId: 8658f7e10...|CellId: 8658f7e10...|CellId: 8658f7e10...|CellId: 8658f7e10...|CellId: 8658f7e10...|CellId: 8658f7e10...|CellId: 8658f7e10...|CellId: 8658f7e11...|CellId: 8658f7e14...|CellId: 8658f7e10...|CellId: 8658f7e40...|CellId: 8658f7f00...|CellId: 8658f7c00...|CellId: 8658f7000...|CellId: 8658f4000...|CellId: 8658f0000...|CellId: 8658c0000...|CellId: 865900000...|CellId: 865c00000...|CellId: 865000000...|CellId: 864000000...|CellId: 870000000...|CellId: 840000000...|\n",
      "|      []|      []|CellId: 86583cf6c...|CellId: 86583cf6c...|CellId: 86583cf6c...|CellId: 86583cf6c...|CellId: 86583cf6c...|CellId: 86583cf6c...|CellId: 86583cf6c...|CellId: 86583cf6c...|CellId: 86583cf6c...|CellId: 86583cf6c...|CellId: 86583cf6c...|CellId: 86583cf6c...|CellId: 86583cf6c...|CellId: 86583cf6d...|CellId: 86583cf6c...|CellId: 86583cf70...|CellId: 86583cf40...|CellId: 86583cf00...|CellId: 86583cc00...|CellId: 86583d000...|CellId: 86583c000...|CellId: 865830000...|CellId: 865840000...|CellId: 865900000...|CellId: 865c00000...|CellId: 865000000...|CellId: 864000000...|CellId: 870000000...|CellId: 840000000...|\n",
      "|      []|      []|CellId: 85d810889...|CellId: 85d810889...|CellId: 85d810889...|CellId: 85d810889...|CellId: 85d810889...|CellId: 85d810889...|CellId: 85d810889...|CellId: 85d810889...|CellId: 85d810889...|CellId: 85d810889...|CellId: 85d810889...|CellId: 85d810889...|CellId: 85d810889...|CellId: 85d810889...|CellId: 85d81088c...|CellId: 85d810890...|CellId: 85d8108c0...|CellId: 85d810900...|CellId: 85d810c00...|CellId: 85d811000...|CellId: 85d814000...|CellId: 85d810000...|CellId: 85d840000...|CellId: 85d900000...|CellId: 85dc00000...|CellId: 85d000000...|CellId: 85c000000...|CellId: 850000000...|CellId: 840000000...|\n",
      "|      []|      []|CellId: 8c460e470...|CellId: 8c460e470...|CellId: 8c460e470...|CellId: 8c460e470...|CellId: 8c460e470...|CellId: 8c460e470...|CellId: 8c460e470...|CellId: 8c460e470...|CellId: 8c460e470...|CellId: 8c460e470...|CellId: 8c460e470...|CellId: 8c460e470...|CellId: 8c460e470...|CellId: 8c460e471...|CellId: 8c460e474...|CellId: 8c460e470...|CellId: 8c460e440...|CellId: 8c460e500...|CellId: 8c460e400...|CellId: 8c460f000...|CellId: 8c460c000...|CellId: 8c4610000...|CellId: 8c4640000...|CellId: 8c4700000...|CellId: 8c4400000...|CellId: 8c5000000...|CellId: 8c4000000...|CellId: 8d0000000...|CellId: 8c0000000...|\n",
      "|      []|      []|CellId: 8cb99bf81...|CellId: 8cb99bf81...|CellId: 8cb99bf81...|CellId: 8cb99bf81...|CellId: 8cb99bf81...|CellId: 8cb99bf81...|CellId: 8cb99bf81...|CellId: 8cb99bf81...|CellId: 8cb99bf81...|CellId: 8cb99bf81...|CellId: 8cb99bf81...|CellId: 8cb99bf81...|CellId: 8cb99bf81...|CellId: 8cb99bf81...|CellId: 8cb99bf84...|CellId: 8cb99bf90...|CellId: 8cb99bfc0...|CellId: 8cb99bf00...|CellId: 8cb99bc00...|CellId: 8cb99b000...|CellId: 8cb99c000...|CellId: 8cb990000...|CellId: 8cb9c0000...|CellId: 8cb900000...|CellId: 8cbc00000...|CellId: 8cb000000...|CellId: 8cc000000...|CellId: 8d0000000...|CellId: 8c0000000...|\n",
      "|      []|      []|CellId: 8cbe65dad...|CellId: 8cbe65dad...|CellId: 8cbe65dad...|CellId: 8cbe65dad...|CellId: 8cbe65dad...|CellId: 8cbe65dad...|CellId: 8cbe65dad...|CellId: 8cbe65dad...|CellId: 8cbe65dad...|CellId: 8cbe65dad...|CellId: 8cbe65dad...|CellId: 8cbe65dad...|CellId: 8cbe65dad...|CellId: 8cbe65dad...|CellId: 8cbe65dac...|CellId: 8cbe65db0...|CellId: 8cbe65dc0...|CellId: 8cbe65d00...|CellId: 8cbe65c00...|CellId: 8cbe65000...|CellId: 8cbe64000...|CellId: 8cbe70000...|CellId: 8cbe40000...|CellId: 8cbf00000...|CellId: 8cbc00000...|CellId: 8cb000000...|CellId: 8cc000000...|CellId: 8d0000000...|CellId: 8c0000000...|\n",
      "|      []|      []|CellId: 8c943d92c...|CellId: 8c943d92c...|CellId: 8c943d92c...|CellId: 8c943d92c...|CellId: 8c943d92c...|CellId: 8c943d92c...|CellId: 8c943d92c...|CellId: 8c943d92c...|CellId: 8c943d92c...|CellId: 8c943d92c...|CellId: 8c943d92c...|CellId: 8c943d92c...|CellId: 8c943d92c...|CellId: 8c943d92d...|CellId: 8c943d92c...|CellId: 8c943d930...|CellId: 8c943d940...|CellId: 8c943d900...|CellId: 8c943dc00...|CellId: 8c943d000...|CellId: 8c943c000...|CellId: 8c9430000...|CellId: 8c9440000...|CellId: 8c9500000...|CellId: 8c9400000...|CellId: 8c9000000...|CellId: 8cc000000...|CellId: 8d0000000...|CellId: 8c0000000...|\n",
      "|      []|      []|CellId: 8c8dfa0f6...|CellId: 8c8dfa0f6...|CellId: 8c8dfa0f6...|CellId: 8c8dfa0f6...|CellId: 8c8dfa0f6...|CellId: 8c8dfa0f6...|CellId: 8c8dfa0f6...|CellId: 8c8dfa0f6...|CellId: 8c8dfa0f6...|CellId: 8c8dfa0f6...|CellId: 8c8dfa0f6...|CellId: 8c8dfa0f6...|CellId: 8c8dfa0f6...|CellId: 8c8dfa0f7...|CellId: 8c8dfa0f4...|CellId: 8c8dfa0f0...|CellId: 8c8dfa0c0...|CellId: 8c8dfa100...|CellId: 8c8dfa400...|CellId: 8c8dfb000...|CellId: 8c8dfc000...|CellId: 8c8df0000...|CellId: 8c8dc0000...|CellId: 8c8d00000...|CellId: 8c8c00000...|CellId: 8c9000000...|CellId: 8cc000000...|CellId: 8d0000000...|CellId: 8c0000000...|\n",
      "+--------+--------+--------------------+--------------------+--------------------+--------------------+--------------------+--------------------+--------------------+--------------------+--------------------+--------------------+--------------------+--------------------+--------------------+--------------------+--------------------+--------------------+--------------------+--------------------+--------------------+--------------------+--------------------+--------------------+--------------------+--------------------+--------------------+--------------------+--------------------+--------------------+--------------------+\n",
      "only showing top 20 rows\n",
      "\n"
     ]
    }
   ],
   "source": [
    "hurdat_tracks_df = hurdat_df_spark[2]\n",
    "hurdat_space_df_spark = process_hurdat_space_data( spark, path_d, hurdat_tracks_df)\n",
    "hurdat_space_df_spark.show()"
   ]
  },
  {
   "cell_type": "code",
   "execution_count": 10,
   "metadata": {},
   "outputs": [
    {
     "name": "stdout",
     "output_type": "stream",
     "text": [
      "Checking HURDAT table...\n",
      "NULLS:\n",
      "+--------+\n",
      "|count(1)|\n",
      "+--------+\n",
      "|       0|\n",
      "+--------+\n",
      "\n",
      "ROWS:\n",
      "+--------+\n",
      "|count(1)|\n",
      "+--------+\n",
      "|   51840|\n",
      "+--------+\n",
      "\n",
      "Checking data quality complete\n",
      "[{'hurdat_count': 51840, 'hurdat': 'OK'}]\n"
     ]
    }
   ],
   "source": [
    "results = check_hurdat_data_quality( spark, hurdat_table)\n",
    "results_all.append(results)\n",
    "\n",
    "print(results_all)"
   ]
  },
  {
   "cell_type": "code",
   "execution_count": 11,
   "metadata": {},
   "outputs": [
    {
     "name": "stdout",
     "output_type": "stream",
     "text": [
      "\n",
      "## You are using the Python ARM Radar Toolkit (Py-ART), an open source\n",
      "## library for working with weather radar data. Py-ART is partly\n",
      "## supported by the U.S. Department of Energy as part of the Atmospheric\n",
      "## Radiation Measurement (ARM) Climate Research Facility, an Office of\n",
      "## Science user facility.\n",
      "##\n",
      "## If you use this software to prepare a publication, please cite:\n",
      "##\n",
      "##     JJ Helmus and SM Collis, JORS 2016, doi: 10.5334/jors.119\n",
      "\n"
     ]
    }
   ],
   "source": [
    "from nexrad_etl import *"
   ]
  },
  {
   "cell_type": "code",
   "execution_count": 12,
   "metadata": {},
   "outputs": [
    {
     "name": "stdout",
     "output_type": "stream",
     "text": [
      "Processing NEXRAD data\n",
      "Reading NEXRAD to Spark\n"
     ]
    },
    {
     "ename": "Py4JJavaError",
     "evalue": "An error occurred while calling z:org.apache.spark.api.python.PythonRDD.readRDDFromFile.\n: java.lang.OutOfMemoryError: Java heap space\r\n\tat org.apache.spark.api.java.JavaRDD$.readRDDFromInputStream(JavaRDD.scala:237)\r\n\tat org.apache.spark.api.java.JavaRDD$.readRDDFromFile(JavaRDD.scala:224)\r\n\tat org.apache.spark.api.python.PythonRDD$.readRDDFromFile(PythonRDD.scala:262)\r\n\tat org.apache.spark.api.python.PythonRDD.readRDDFromFile(PythonRDD.scala)\r\n\tat sun.reflect.NativeMethodAccessorImpl.invoke0(Native Method)\r\n\tat sun.reflect.NativeMethodAccessorImpl.invoke(NativeMethodAccessorImpl.java:62)\r\n\tat sun.reflect.DelegatingMethodAccessorImpl.invoke(DelegatingMethodAccessorImpl.java:43)\r\n\tat java.lang.reflect.Method.invoke(Method.java:498)\r\n\tat py4j.reflection.MethodInvoker.invoke(MethodInvoker.java:244)\r\n\tat py4j.reflection.ReflectionEngine.invoke(ReflectionEngine.java:357)\r\n\tat py4j.Gateway.invoke(Gateway.java:282)\r\n\tat py4j.commands.AbstractCommand.invokeMethod(AbstractCommand.java:132)\r\n\tat py4j.commands.CallCommand.execute(CallCommand.java:79)\r\n\tat py4j.GatewayConnection.run(GatewayConnection.java:238)\r\n\tat java.lang.Thread.run(Thread.java:748)\r\n",
     "output_type": "error",
     "traceback": [
      "\u001b[1;31m---------------------------------------------------------------------------\u001b[0m",
      "\u001b[1;31mPy4JJavaError\u001b[0m                             Traceback (most recent call last)",
      "\u001b[1;32m<ipython-input-12-633a30804f42>\u001b[0m in \u001b[0;36m<module>\u001b[1;34m\u001b[0m\n\u001b[0;32m      1\u001b[0m \u001b[1;31m# Process all input files\u001b[0m\u001b[1;33m\u001b[0m\u001b[1;33m\u001b[0m\u001b[1;33m\u001b[0m\u001b[0m\n\u001b[1;32m----> 2\u001b[1;33m \u001b[0mnexrad_df_spark\u001b[0m \u001b[1;33m=\u001b[0m \u001b[0mprocess_nexrad_data\u001b[0m\u001b[1;33m(\u001b[0m\u001b[0mspark\u001b[0m\u001b[1;33m,\u001b[0m \u001b[0mpath_d\u001b[0m\u001b[1;33m)\u001b[0m\u001b[1;33m\u001b[0m\u001b[1;33m\u001b[0m\u001b[0m\n\u001b[0m\u001b[0;32m      3\u001b[0m \u001b[0mnexrad_stations_df_spark\u001b[0m \u001b[1;33m=\u001b[0m \u001b[0mnexrad_df_spark\u001b[0m\u001b[1;33m[\u001b[0m\u001b[1;36m0\u001b[0m\u001b[1;33m]\u001b[0m\u001b[1;33m\u001b[0m\u001b[1;33m\u001b[0m\u001b[0m\n\u001b[0;32m      4\u001b[0m \u001b[0mnexrad_samples_df_spark\u001b[0m \u001b[1;33m=\u001b[0m \u001b[0mnexrad_df_spark\u001b[0m\u001b[1;33m[\u001b[0m\u001b[1;36m1\u001b[0m\u001b[1;33m]\u001b[0m\u001b[1;33m\u001b[0m\u001b[1;33m\u001b[0m\u001b[0m\n",
      "\u001b[1;32m~\\Documents\\GitHub\\UdacityDEND_Capstone\\nexrad_etl.py\u001b[0m in \u001b[0;36mprocess_nexrad_data\u001b[1;34m(spark, path_d)\u001b[0m\n\u001b[0;32m    113\u001b[0m \u001b[1;33m\u001b[0m\u001b[0m\n\u001b[0;32m    114\u001b[0m     \u001b[0mnexrad_stations_df_spark\u001b[0m \u001b[1;33m=\u001b[0m \u001b[0mspark\u001b[0m\u001b[1;33m.\u001b[0m\u001b[0mcreateDataFrame\u001b[0m\u001b[1;33m(\u001b[0m\u001b[0mnexrad_station_df\u001b[0m\u001b[1;33m,\u001b[0m \u001b[0mschema\u001b[0m\u001b[1;33m=\u001b[0m\u001b[0mnexrad_station_schema\u001b[0m\u001b[1;33m)\u001b[0m\u001b[1;33m\u001b[0m\u001b[1;33m\u001b[0m\u001b[0m\n\u001b[1;32m--> 115\u001b[1;33m     \u001b[0mnexrad_samples_df_spark\u001b[0m \u001b[1;33m=\u001b[0m \u001b[0mspark\u001b[0m\u001b[1;33m.\u001b[0m\u001b[0mcreateDataFrame\u001b[0m\u001b[1;33m(\u001b[0m\u001b[0mnexrad_sample_df\u001b[0m\u001b[1;33m,\u001b[0m \u001b[0mschema\u001b[0m\u001b[1;33m=\u001b[0m\u001b[0mnexrad_sample_schema\u001b[0m\u001b[1;33m)\u001b[0m\u001b[1;33m\u001b[0m\u001b[1;33m\u001b[0m\u001b[0m\n\u001b[0m\u001b[0;32m    116\u001b[0m \u001b[1;33m\u001b[0m\u001b[0m\n\u001b[0;32m    117\u001b[0m \u001b[1;33m\u001b[0m\u001b[0m\n",
      "\u001b[1;32m~\\anaconda3\\lib\\site-packages\\pyspark\\sql\\session.py\u001b[0m in \u001b[0;36mcreateDataFrame\u001b[1;34m(self, data, schema, samplingRatio, verifySchema)\u001b[0m\n\u001b[0;32m    599\u001b[0m             \u001b[1;31m# Create a DataFrame from pandas DataFrame.\u001b[0m\u001b[1;33m\u001b[0m\u001b[1;33m\u001b[0m\u001b[1;33m\u001b[0m\u001b[0m\n\u001b[0;32m    600\u001b[0m             return super(SparkSession, self).createDataFrame(\n\u001b[1;32m--> 601\u001b[1;33m                 data, schema, samplingRatio, verifySchema)\n\u001b[0m\u001b[0;32m    602\u001b[0m         \u001b[1;32mreturn\u001b[0m \u001b[0mself\u001b[0m\u001b[1;33m.\u001b[0m\u001b[0m_create_dataframe\u001b[0m\u001b[1;33m(\u001b[0m\u001b[0mdata\u001b[0m\u001b[1;33m,\u001b[0m \u001b[0mschema\u001b[0m\u001b[1;33m,\u001b[0m \u001b[0msamplingRatio\u001b[0m\u001b[1;33m,\u001b[0m \u001b[0mverifySchema\u001b[0m\u001b[1;33m)\u001b[0m\u001b[1;33m\u001b[0m\u001b[1;33m\u001b[0m\u001b[0m\n\u001b[0;32m    603\u001b[0m \u001b[1;33m\u001b[0m\u001b[0m\n",
      "\u001b[1;32m~\\anaconda3\\lib\\site-packages\\pyspark\\sql\\pandas\\conversion.py\u001b[0m in \u001b[0;36mcreateDataFrame\u001b[1;34m(self, data, schema, samplingRatio, verifySchema)\u001b[0m\n\u001b[0;32m    298\u001b[0m                     \u001b[1;32mraise\u001b[0m\u001b[1;33m\u001b[0m\u001b[1;33m\u001b[0m\u001b[0m\n\u001b[0;32m    299\u001b[0m         \u001b[0mdata\u001b[0m \u001b[1;33m=\u001b[0m \u001b[0mself\u001b[0m\u001b[1;33m.\u001b[0m\u001b[0m_convert_from_pandas\u001b[0m\u001b[1;33m(\u001b[0m\u001b[0mdata\u001b[0m\u001b[1;33m,\u001b[0m \u001b[0mschema\u001b[0m\u001b[1;33m,\u001b[0m \u001b[0mtimezone\u001b[0m\u001b[1;33m)\u001b[0m\u001b[1;33m\u001b[0m\u001b[1;33m\u001b[0m\u001b[0m\n\u001b[1;32m--> 300\u001b[1;33m         \u001b[1;32mreturn\u001b[0m \u001b[0mself\u001b[0m\u001b[1;33m.\u001b[0m\u001b[0m_create_dataframe\u001b[0m\u001b[1;33m(\u001b[0m\u001b[0mdata\u001b[0m\u001b[1;33m,\u001b[0m \u001b[0mschema\u001b[0m\u001b[1;33m,\u001b[0m \u001b[0msamplingRatio\u001b[0m\u001b[1;33m,\u001b[0m \u001b[0mverifySchema\u001b[0m\u001b[1;33m)\u001b[0m\u001b[1;33m\u001b[0m\u001b[1;33m\u001b[0m\u001b[0m\n\u001b[0m\u001b[0;32m    301\u001b[0m \u001b[1;33m\u001b[0m\u001b[0m\n\u001b[0;32m    302\u001b[0m     \u001b[1;32mdef\u001b[0m \u001b[0m_convert_from_pandas\u001b[0m\u001b[1;33m(\u001b[0m\u001b[0mself\u001b[0m\u001b[1;33m,\u001b[0m \u001b[0mpdf\u001b[0m\u001b[1;33m,\u001b[0m \u001b[0mschema\u001b[0m\u001b[1;33m,\u001b[0m \u001b[0mtimezone\u001b[0m\u001b[1;33m)\u001b[0m\u001b[1;33m:\u001b[0m\u001b[1;33m\u001b[0m\u001b[1;33m\u001b[0m\u001b[0m\n",
      "\u001b[1;32m~\\anaconda3\\lib\\site-packages\\pyspark\\sql\\session.py\u001b[0m in \u001b[0;36m_create_dataframe\u001b[1;34m(self, data, schema, samplingRatio, verifySchema)\u001b[0m\n\u001b[0;32m    625\u001b[0m             \u001b[0mrdd\u001b[0m\u001b[1;33m,\u001b[0m \u001b[0mschema\u001b[0m \u001b[1;33m=\u001b[0m \u001b[0mself\u001b[0m\u001b[1;33m.\u001b[0m\u001b[0m_createFromRDD\u001b[0m\u001b[1;33m(\u001b[0m\u001b[0mdata\u001b[0m\u001b[1;33m.\u001b[0m\u001b[0mmap\u001b[0m\u001b[1;33m(\u001b[0m\u001b[0mprepare\u001b[0m\u001b[1;33m)\u001b[0m\u001b[1;33m,\u001b[0m \u001b[0mschema\u001b[0m\u001b[1;33m,\u001b[0m \u001b[0msamplingRatio\u001b[0m\u001b[1;33m)\u001b[0m\u001b[1;33m\u001b[0m\u001b[1;33m\u001b[0m\u001b[0m\n\u001b[0;32m    626\u001b[0m         \u001b[1;32melse\u001b[0m\u001b[1;33m:\u001b[0m\u001b[1;33m\u001b[0m\u001b[1;33m\u001b[0m\u001b[0m\n\u001b[1;32m--> 627\u001b[1;33m             \u001b[0mrdd\u001b[0m\u001b[1;33m,\u001b[0m \u001b[0mschema\u001b[0m \u001b[1;33m=\u001b[0m \u001b[0mself\u001b[0m\u001b[1;33m.\u001b[0m\u001b[0m_createFromLocal\u001b[0m\u001b[1;33m(\u001b[0m\u001b[0mmap\u001b[0m\u001b[1;33m(\u001b[0m\u001b[0mprepare\u001b[0m\u001b[1;33m,\u001b[0m \u001b[0mdata\u001b[0m\u001b[1;33m)\u001b[0m\u001b[1;33m,\u001b[0m \u001b[0mschema\u001b[0m\u001b[1;33m)\u001b[0m\u001b[1;33m\u001b[0m\u001b[1;33m\u001b[0m\u001b[0m\n\u001b[0m\u001b[0;32m    628\u001b[0m         \u001b[0mjrdd\u001b[0m \u001b[1;33m=\u001b[0m \u001b[0mself\u001b[0m\u001b[1;33m.\u001b[0m\u001b[0m_jvm\u001b[0m\u001b[1;33m.\u001b[0m\u001b[0mSerDeUtil\u001b[0m\u001b[1;33m.\u001b[0m\u001b[0mtoJavaArray\u001b[0m\u001b[1;33m(\u001b[0m\u001b[0mrdd\u001b[0m\u001b[1;33m.\u001b[0m\u001b[0m_to_java_object_rdd\u001b[0m\u001b[1;33m(\u001b[0m\u001b[1;33m)\u001b[0m\u001b[1;33m)\u001b[0m\u001b[1;33m\u001b[0m\u001b[1;33m\u001b[0m\u001b[0m\n\u001b[0;32m    629\u001b[0m         \u001b[0mjdf\u001b[0m \u001b[1;33m=\u001b[0m \u001b[0mself\u001b[0m\u001b[1;33m.\u001b[0m\u001b[0m_jsparkSession\u001b[0m\u001b[1;33m.\u001b[0m\u001b[0mapplySchemaToPythonRDD\u001b[0m\u001b[1;33m(\u001b[0m\u001b[0mjrdd\u001b[0m\u001b[1;33m.\u001b[0m\u001b[0mrdd\u001b[0m\u001b[1;33m(\u001b[0m\u001b[1;33m)\u001b[0m\u001b[1;33m,\u001b[0m \u001b[0mschema\u001b[0m\u001b[1;33m.\u001b[0m\u001b[0mjson\u001b[0m\u001b[1;33m(\u001b[0m\u001b[1;33m)\u001b[0m\u001b[1;33m)\u001b[0m\u001b[1;33m\u001b[0m\u001b[1;33m\u001b[0m\u001b[0m\n",
      "\u001b[1;32m~\\anaconda3\\lib\\site-packages\\pyspark\\sql\\session.py\u001b[0m in \u001b[0;36m_createFromLocal\u001b[1;34m(self, data, schema)\u001b[0m\n\u001b[0;32m    460\u001b[0m         \u001b[1;31m# convert python objects to sql data\u001b[0m\u001b[1;33m\u001b[0m\u001b[1;33m\u001b[0m\u001b[1;33m\u001b[0m\u001b[0m\n\u001b[0;32m    461\u001b[0m         \u001b[0mdata\u001b[0m \u001b[1;33m=\u001b[0m \u001b[1;33m[\u001b[0m\u001b[0mschema\u001b[0m\u001b[1;33m.\u001b[0m\u001b[0mtoInternal\u001b[0m\u001b[1;33m(\u001b[0m\u001b[0mrow\u001b[0m\u001b[1;33m)\u001b[0m \u001b[1;32mfor\u001b[0m \u001b[0mrow\u001b[0m \u001b[1;32min\u001b[0m \u001b[0mdata\u001b[0m\u001b[1;33m]\u001b[0m\u001b[1;33m\u001b[0m\u001b[1;33m\u001b[0m\u001b[0m\n\u001b[1;32m--> 462\u001b[1;33m         \u001b[1;32mreturn\u001b[0m \u001b[0mself\u001b[0m\u001b[1;33m.\u001b[0m\u001b[0m_sc\u001b[0m\u001b[1;33m.\u001b[0m\u001b[0mparallelize\u001b[0m\u001b[1;33m(\u001b[0m\u001b[0mdata\u001b[0m\u001b[1;33m)\u001b[0m\u001b[1;33m,\u001b[0m \u001b[0mschema\u001b[0m\u001b[1;33m\u001b[0m\u001b[1;33m\u001b[0m\u001b[0m\n\u001b[0m\u001b[0;32m    463\u001b[0m \u001b[1;33m\u001b[0m\u001b[0m\n\u001b[0;32m    464\u001b[0m     \u001b[1;33m@\u001b[0m\u001b[0mstaticmethod\u001b[0m\u001b[1;33m\u001b[0m\u001b[1;33m\u001b[0m\u001b[0m\n",
      "\u001b[1;32m~\\anaconda3\\lib\\site-packages\\pyspark\\context.py\u001b[0m in \u001b[0;36mparallelize\u001b[1;34m(self, c, numSlices)\u001b[0m\n\u001b[0;32m    536\u001b[0m             \u001b[1;32mreturn\u001b[0m \u001b[0mself\u001b[0m\u001b[1;33m.\u001b[0m\u001b[0m_jvm\u001b[0m\u001b[1;33m.\u001b[0m\u001b[0mPythonParallelizeServer\u001b[0m\u001b[1;33m(\u001b[0m\u001b[0mself\u001b[0m\u001b[1;33m.\u001b[0m\u001b[0m_jsc\u001b[0m\u001b[1;33m.\u001b[0m\u001b[0msc\u001b[0m\u001b[1;33m(\u001b[0m\u001b[1;33m)\u001b[0m\u001b[1;33m,\u001b[0m \u001b[0mnumSlices\u001b[0m\u001b[1;33m)\u001b[0m\u001b[1;33m\u001b[0m\u001b[1;33m\u001b[0m\u001b[0m\n\u001b[0;32m    537\u001b[0m \u001b[1;33m\u001b[0m\u001b[0m\n\u001b[1;32m--> 538\u001b[1;33m         \u001b[0mjrdd\u001b[0m \u001b[1;33m=\u001b[0m \u001b[0mself\u001b[0m\u001b[1;33m.\u001b[0m\u001b[0m_serialize_to_jvm\u001b[0m\u001b[1;33m(\u001b[0m\u001b[0mc\u001b[0m\u001b[1;33m,\u001b[0m \u001b[0mserializer\u001b[0m\u001b[1;33m,\u001b[0m \u001b[0mreader_func\u001b[0m\u001b[1;33m,\u001b[0m \u001b[0mcreateRDDServer\u001b[0m\u001b[1;33m)\u001b[0m\u001b[1;33m\u001b[0m\u001b[1;33m\u001b[0m\u001b[0m\n\u001b[0m\u001b[0;32m    539\u001b[0m         \u001b[1;32mreturn\u001b[0m \u001b[0mRDD\u001b[0m\u001b[1;33m(\u001b[0m\u001b[0mjrdd\u001b[0m\u001b[1;33m,\u001b[0m \u001b[0mself\u001b[0m\u001b[1;33m,\u001b[0m \u001b[0mserializer\u001b[0m\u001b[1;33m)\u001b[0m\u001b[1;33m\u001b[0m\u001b[1;33m\u001b[0m\u001b[0m\n\u001b[0;32m    540\u001b[0m \u001b[1;33m\u001b[0m\u001b[0m\n",
      "\u001b[1;32m~\\anaconda3\\lib\\site-packages\\pyspark\\context.py\u001b[0m in \u001b[0;36m_serialize_to_jvm\u001b[1;34m(self, data, serializer, reader_func, createRDDServer)\u001b[0m\n\u001b[0;32m    571\u001b[0m                 \u001b[1;32mfinally\u001b[0m\u001b[1;33m:\u001b[0m\u001b[1;33m\u001b[0m\u001b[1;33m\u001b[0m\u001b[0m\n\u001b[0;32m    572\u001b[0m                     \u001b[0mtempFile\u001b[0m\u001b[1;33m.\u001b[0m\u001b[0mclose\u001b[0m\u001b[1;33m(\u001b[0m\u001b[1;33m)\u001b[0m\u001b[1;33m\u001b[0m\u001b[1;33m\u001b[0m\u001b[0m\n\u001b[1;32m--> 573\u001b[1;33m                 \u001b[1;32mreturn\u001b[0m \u001b[0mreader_func\u001b[0m\u001b[1;33m(\u001b[0m\u001b[0mtempFile\u001b[0m\u001b[1;33m.\u001b[0m\u001b[0mname\u001b[0m\u001b[1;33m)\u001b[0m\u001b[1;33m\u001b[0m\u001b[1;33m\u001b[0m\u001b[0m\n\u001b[0m\u001b[0;32m    574\u001b[0m             \u001b[1;32mfinally\u001b[0m\u001b[1;33m:\u001b[0m\u001b[1;33m\u001b[0m\u001b[1;33m\u001b[0m\u001b[0m\n\u001b[0;32m    575\u001b[0m                 \u001b[1;31m# we eagerily reads the file so we can delete right after.\u001b[0m\u001b[1;33m\u001b[0m\u001b[1;33m\u001b[0m\u001b[1;33m\u001b[0m\u001b[0m\n",
      "\u001b[1;32m~\\anaconda3\\lib\\site-packages\\pyspark\\context.py\u001b[0m in \u001b[0;36mreader_func\u001b[1;34m(temp_filename)\u001b[0m\n\u001b[0;32m    531\u001b[0m \u001b[1;33m\u001b[0m\u001b[0m\n\u001b[0;32m    532\u001b[0m         \u001b[1;32mdef\u001b[0m \u001b[0mreader_func\u001b[0m\u001b[1;33m(\u001b[0m\u001b[0mtemp_filename\u001b[0m\u001b[1;33m)\u001b[0m\u001b[1;33m:\u001b[0m\u001b[1;33m\u001b[0m\u001b[1;33m\u001b[0m\u001b[0m\n\u001b[1;32m--> 533\u001b[1;33m             \u001b[1;32mreturn\u001b[0m \u001b[0mself\u001b[0m\u001b[1;33m.\u001b[0m\u001b[0m_jvm\u001b[0m\u001b[1;33m.\u001b[0m\u001b[0mPythonRDD\u001b[0m\u001b[1;33m.\u001b[0m\u001b[0mreadRDDFromFile\u001b[0m\u001b[1;33m(\u001b[0m\u001b[0mself\u001b[0m\u001b[1;33m.\u001b[0m\u001b[0m_jsc\u001b[0m\u001b[1;33m,\u001b[0m \u001b[0mtemp_filename\u001b[0m\u001b[1;33m,\u001b[0m \u001b[0mnumSlices\u001b[0m\u001b[1;33m)\u001b[0m\u001b[1;33m\u001b[0m\u001b[1;33m\u001b[0m\u001b[0m\n\u001b[0m\u001b[0;32m    534\u001b[0m \u001b[1;33m\u001b[0m\u001b[0m\n\u001b[0;32m    535\u001b[0m         \u001b[1;32mdef\u001b[0m \u001b[0mcreateRDDServer\u001b[0m\u001b[1;33m(\u001b[0m\u001b[1;33m)\u001b[0m\u001b[1;33m:\u001b[0m\u001b[1;33m\u001b[0m\u001b[1;33m\u001b[0m\u001b[0m\n",
      "\u001b[1;32m~\\anaconda3\\lib\\site-packages\\py4j\\java_gateway.py\u001b[0m in \u001b[0;36m__call__\u001b[1;34m(self, *args)\u001b[0m\n\u001b[0;32m   1303\u001b[0m         \u001b[0manswer\u001b[0m \u001b[1;33m=\u001b[0m \u001b[0mself\u001b[0m\u001b[1;33m.\u001b[0m\u001b[0mgateway_client\u001b[0m\u001b[1;33m.\u001b[0m\u001b[0msend_command\u001b[0m\u001b[1;33m(\u001b[0m\u001b[0mcommand\u001b[0m\u001b[1;33m)\u001b[0m\u001b[1;33m\u001b[0m\u001b[1;33m\u001b[0m\u001b[0m\n\u001b[0;32m   1304\u001b[0m         return_value = get_return_value(\n\u001b[1;32m-> 1305\u001b[1;33m             answer, self.gateway_client, self.target_id, self.name)\n\u001b[0m\u001b[0;32m   1306\u001b[0m \u001b[1;33m\u001b[0m\u001b[0m\n\u001b[0;32m   1307\u001b[0m         \u001b[1;32mfor\u001b[0m \u001b[0mtemp_arg\u001b[0m \u001b[1;32min\u001b[0m \u001b[0mtemp_args\u001b[0m\u001b[1;33m:\u001b[0m\u001b[1;33m\u001b[0m\u001b[1;33m\u001b[0m\u001b[0m\n",
      "\u001b[1;32m~\\anaconda3\\lib\\site-packages\\pyspark\\sql\\utils.py\u001b[0m in \u001b[0;36mdeco\u001b[1;34m(*a, **kw)\u001b[0m\n\u001b[0;32m    129\u001b[0m     \u001b[1;32mdef\u001b[0m \u001b[0mdeco\u001b[0m\u001b[1;33m(\u001b[0m\u001b[1;33m*\u001b[0m\u001b[0ma\u001b[0m\u001b[1;33m,\u001b[0m \u001b[1;33m**\u001b[0m\u001b[0mkw\u001b[0m\u001b[1;33m)\u001b[0m\u001b[1;33m:\u001b[0m\u001b[1;33m\u001b[0m\u001b[1;33m\u001b[0m\u001b[0m\n\u001b[0;32m    130\u001b[0m         \u001b[1;32mtry\u001b[0m\u001b[1;33m:\u001b[0m\u001b[1;33m\u001b[0m\u001b[1;33m\u001b[0m\u001b[0m\n\u001b[1;32m--> 131\u001b[1;33m             \u001b[1;32mreturn\u001b[0m \u001b[0mf\u001b[0m\u001b[1;33m(\u001b[0m\u001b[1;33m*\u001b[0m\u001b[0ma\u001b[0m\u001b[1;33m,\u001b[0m \u001b[1;33m**\u001b[0m\u001b[0mkw\u001b[0m\u001b[1;33m)\u001b[0m\u001b[1;33m\u001b[0m\u001b[1;33m\u001b[0m\u001b[0m\n\u001b[0m\u001b[0;32m    132\u001b[0m         \u001b[1;32mexcept\u001b[0m \u001b[0mpy4j\u001b[0m\u001b[1;33m.\u001b[0m\u001b[0mprotocol\u001b[0m\u001b[1;33m.\u001b[0m\u001b[0mPy4JJavaError\u001b[0m \u001b[1;32mas\u001b[0m \u001b[0me\u001b[0m\u001b[1;33m:\u001b[0m\u001b[1;33m\u001b[0m\u001b[1;33m\u001b[0m\u001b[0m\n\u001b[0;32m    133\u001b[0m             \u001b[0mconverted\u001b[0m \u001b[1;33m=\u001b[0m \u001b[0mconvert_exception\u001b[0m\u001b[1;33m(\u001b[0m\u001b[0me\u001b[0m\u001b[1;33m.\u001b[0m\u001b[0mjava_exception\u001b[0m\u001b[1;33m)\u001b[0m\u001b[1;33m\u001b[0m\u001b[1;33m\u001b[0m\u001b[0m\n",
      "\u001b[1;32m~\\anaconda3\\lib\\site-packages\\py4j\\protocol.py\u001b[0m in \u001b[0;36mget_return_value\u001b[1;34m(answer, gateway_client, target_id, name)\u001b[0m\n\u001b[0;32m    326\u001b[0m                 raise Py4JJavaError(\n\u001b[0;32m    327\u001b[0m                     \u001b[1;34m\"An error occurred while calling {0}{1}{2}.\\n\"\u001b[0m\u001b[1;33m.\u001b[0m\u001b[1;33m\u001b[0m\u001b[1;33m\u001b[0m\u001b[0m\n\u001b[1;32m--> 328\u001b[1;33m                     format(target_id, \".\", name), value)\n\u001b[0m\u001b[0;32m    329\u001b[0m             \u001b[1;32melse\u001b[0m\u001b[1;33m:\u001b[0m\u001b[1;33m\u001b[0m\u001b[1;33m\u001b[0m\u001b[0m\n\u001b[0;32m    330\u001b[0m                 raise Py4JError(\n",
      "\u001b[1;31mPy4JJavaError\u001b[0m: An error occurred while calling z:org.apache.spark.api.python.PythonRDD.readRDDFromFile.\n: java.lang.OutOfMemoryError: Java heap space\r\n\tat org.apache.spark.api.java.JavaRDD$.readRDDFromInputStream(JavaRDD.scala:237)\r\n\tat org.apache.spark.api.java.JavaRDD$.readRDDFromFile(JavaRDD.scala:224)\r\n\tat org.apache.spark.api.python.PythonRDD$.readRDDFromFile(PythonRDD.scala:262)\r\n\tat org.apache.spark.api.python.PythonRDD.readRDDFromFile(PythonRDD.scala)\r\n\tat sun.reflect.NativeMethodAccessorImpl.invoke0(Native Method)\r\n\tat sun.reflect.NativeMethodAccessorImpl.invoke(NativeMethodAccessorImpl.java:62)\r\n\tat sun.reflect.DelegatingMethodAccessorImpl.invoke(DelegatingMethodAccessorImpl.java:43)\r\n\tat java.lang.reflect.Method.invoke(Method.java:498)\r\n\tat py4j.reflection.MethodInvoker.invoke(MethodInvoker.java:244)\r\n\tat py4j.reflection.ReflectionEngine.invoke(ReflectionEngine.java:357)\r\n\tat py4j.Gateway.invoke(Gateway.java:282)\r\n\tat py4j.commands.AbstractCommand.invokeMethod(AbstractCommand.java:132)\r\n\tat py4j.commands.CallCommand.execute(CallCommand.java:79)\r\n\tat py4j.GatewayConnection.run(GatewayConnection.java:238)\r\n\tat java.lang.Thread.run(Thread.java:748)\r\n"
     ]
    }
   ],
   "source": [
    "# Process all NEXRAD input files\n",
    "nexrad_df_spark = process_nexrad_data(spark, path_d)\n",
    "nexrad_stations_df_spark = nexrad_df_spark[0]\n",
    "nexrad_samples_df_spark = nexrad_df_spark[1]"
   ]
  },
  {
   "cell_type": "code",
   "execution_count": null,
   "metadata": {},
   "outputs": [],
   "source": [
    "results = check_nexrad_data_quality( spark, nexrad_samples_df_spark)\n",
    "results_all.append(results)\n",
    "\n",
    "print(results_all)"
   ]
  },
  {
   "cell_type": "code",
   "execution_count": null,
   "metadata": {},
   "outputs": [],
   "source": [
    "print(\"ETL pipeline complete\")"
   ]
  }
 ],
 "metadata": {
  "kernelspec": {
   "display_name": "Python 3",
   "language": "python",
   "name": "python3"
  },
  "language_info": {
   "codemirror_mode": {
    "name": "ipython",
    "version": 3
   },
   "file_extension": ".py",
   "mimetype": "text/x-python",
   "name": "python",
   "nbconvert_exporter": "python",
   "pygments_lexer": "ipython3",
   "version": "3.7.6"
  }
 },
 "nbformat": 4,
 "nbformat_minor": 4
}
