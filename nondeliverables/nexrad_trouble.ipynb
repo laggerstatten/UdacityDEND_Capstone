{
 "cells": [
  {
   "cell_type": "code",
   "execution_count": 1,
   "metadata": {
    "editable": true
   },
   "outputs": [
    {
     "name": "stdout",
     "output_type": "stream",
     "text": [
      "\n",
      "## You are using the Python ARM Radar Toolkit (Py-ART), an open source\n",
      "## library for working with weather radar data. Py-ART is partly\n",
      "## supported by the U.S. Department of Energy as part of the Atmospheric\n",
      "## Radiation Measurement (ARM) Climate Research Facility, an Office of\n",
      "## Science user facility.\n",
      "##\n",
      "## If you use this software to prepare a publication, please cite:\n",
      "##\n",
      "##     JJ Helmus and SM Collis, JORS 2016, doi: 10.5334/jors.119\n",
      "\n"
     ]
    }
   ],
   "source": [
    "from all_etl import *\n",
    "#from hurdat_etl import *\n",
    "from nexrad_etl import *\n",
    "from sql_queries import *\n",
    "from nexrad_etl import check_nexrad_data_quality\n",
    "import numpy as np\n",
    "import numpy.ma"
   ]
  },
  {
   "cell_type": "code",
   "execution_count": 2,
   "metadata": {},
   "outputs": [
    {
     "name": "stdout",
     "output_type": "stream",
     "text": [
      "3.1432\n"
     ]
    }
   ],
   "source": [
    "spark_verify()"
   ]
  },
  {
   "cell_type": "code",
   "execution_count": 3,
   "metadata": {
    "editable": true
   },
   "outputs": [
    {
     "name": "stdout",
     "output_type": "stream",
     "text": [
      "START ETL pipeline process\n"
     ]
    }
   ],
   "source": [
    "print(\"START ETL pipeline process\")\n",
    "results_all = []"
   ]
  },
  {
   "cell_type": "code",
   "execution_count": 4,
   "metadata": {
    "editable": true
   },
   "outputs": [],
   "source": [
    "path_d = define_paths()"
   ]
  },
  {
   "cell_type": "code",
   "execution_count": 5,
   "metadata": {
    "editable": true
   },
   "outputs": [
    {
     "name": "stdout",
     "output_type": "stream",
     "text": [
      "Create Spark session\n"
     ]
    },
    {
     "name": "stderr",
     "output_type": "stream",
     "text": [
      "C:\\Users\\Administrator\\anaconda3\\lib\\site-packages\\pyspark\\sql\\context.py:77: DeprecationWarning: Deprecated in 3.0.0. Use SparkSession.builder.getOrCreate() instead.\n",
      "  DeprecationWarning)\n"
     ]
    }
   ],
   "source": [
    "# Create Spark session for the pipeline.\n",
    "spark = create_spark_session()"
   ]
  },
  {
   "cell_type": "code",
   "execution_count": 6,
   "metadata": {},
   "outputs": [],
   "source": [
    "# read NEXRAD file\n",
    "#radar = pyart.io.read('data/NEXRAD/KCRP20200101_000431_V06')   \n",
    "nexrad_df = pyart.io.read(path_d[\"nexrad\"])       "
   ]
  },
  {
   "cell_type": "code",
   "execution_count": 7,
   "metadata": {},
   "outputs": [],
   "source": [
    "volume_start = datetime.strptime(nexrad_df.time['units'][14:34], '%Y-%m-%dT%H:%M:%SZ')"
   ]
  },
  {
   "cell_type": "code",
   "execution_count": 8,
   "metadata": {},
   "outputs": [],
   "source": [
    "## move masks to variables\n",
    "rmask = nexrad_df.fields['reflectivity']['data'].mask\n",
    "vmask = nexrad_df.fields['velocity']['data'].mask"
   ]
  },
  {
   "cell_type": "code",
   "execution_count": 9,
   "metadata": {},
   "outputs": [],
   "source": [
    "## assign nan to masked values - NOT using filled method\n",
    "(nexrad_df.fields['reflectivity']['data'])[rmask] = np.nan\n",
    "(nexrad_df.fields['velocity']['data'])[vmask] = np.nan"
   ]
  },
  {
   "cell_type": "code",
   "execution_count": 10,
   "metadata": {},
   "outputs": [],
   "source": [
    "### remove mask from masked arrays\n",
    "nexrad_df.fields['reflectivity']['data'].mask = numpy.ma.nomask\n",
    "nexrad_df.fields['velocity']['data'].mask = numpy.ma.nomask"
   ]
  },
  {
   "cell_type": "code",
   "execution_count": 11,
   "metadata": {},
   "outputs": [],
   "source": [
    "### build initial samples table\n",
    "merged_lat = list(itertools.chain.from_iterable(nexrad_df.gate_latitude['data']))\n",
    "merged_lon = list(itertools.chain.from_iterable(nexrad_df.gate_longitude['data']))\n",
    "merged_alt = list(itertools.chain.from_iterable(nexrad_df.gate_altitude['data']))\n",
    "merged_refl = list(itertools.chain.from_iterable(nexrad_df.fields['reflectivity']['data']))\n",
    "merged_velo = list(itertools.chain.from_iterable(nexrad_df.fields['velocity']['data']))\n",
    "time_x1 = [volume_start + timedelta(seconds=s) for s in nexrad_df.time['data']]\n",
    "time_xgates = [val for val in time_x1 for _ in range(nexrad_df.ngates)]"
   ]
  },
  {
   "cell_type": "code",
   "execution_count": 20,
   "metadata": {},
   "outputs": [],
   "source": [
    "nexrad_sample_df = pd.DataFrame(\n",
    "    {'GateLat': merged_lat,\n",
    "     'GateLon': merged_lon,\n",
    "     'GateAlt': merged_alt,\n",
    "     'GateTime': time_xgates,\n",
    "     'Reflectivity': merged_refl,\n",
    "     'Velocity': merged_velo\n",
    "    })    "
   ]
  },
  {
   "cell_type": "code",
   "execution_count": 21,
   "metadata": {},
   "outputs": [],
   "source": [
    "# filter out rows without reflectivity or velocity measurements\n",
    "# might need a .copy() here\n",
    "\n",
    "nexrad_sample_df = nexrad_sample_df[ ( (nexrad_sample_df['Reflectivity'] >= -32) & (nexrad_sample_df['Reflectivity'] <= 94.5) ) | ( (nexrad_sample_df['Velocity'] >= -95) & (nexrad_sample_df['Velocity'] <= 95) ) ]\n",
    "\n",
    "#nexrad_sample_df = nexrad_sample_df[(nexrad_sample_df['Reflectivity'] == -8)].copy()"
   ]
  },
  {
   "cell_type": "code",
   "execution_count": 22,
   "metadata": {},
   "outputs": [
    {
     "name": "stdout",
     "output_type": "stream",
     "text": [
      "            GateLat    GateLon  GateAlt                GateTime  Reflectivity  \\\n",
      "0         27.802363 -97.505206     61.0 2020-01-01 00:04:31.183          -8.0   \n",
      "1         27.804522 -97.504495     63.0 2020-01-01 00:04:31.183         -12.0   \n",
      "2         27.806680 -97.503783     65.0 2020-01-01 00:04:31.183          -3.0   \n",
      "3         27.808838 -97.503072     67.0 2020-01-01 00:04:31.183          -3.0   \n",
      "4         27.810997 -97.502360     69.0 2020-01-01 00:04:31.183          -3.0   \n",
      "...             ...        ...      ...                     ...           ...   \n",
      "11869653  27.547467 -97.716142   3837.0 2020-01-01 00:11:18.914         -12.5   \n",
      "11869693  27.476573 -97.777324   4999.0 2020-01-01 00:11:18.914          -9.5   \n",
      "11869694  27.474801 -97.778852   5028.0 2020-01-01 00:11:18.914          -3.0   \n",
      "11869696  27.471256 -97.781908   5086.0 2020-01-01 00:11:18.914          -7.0   \n",
      "11869697  27.469483 -97.783437   5116.0 2020-01-01 00:11:18.914          -9.5   \n",
      "\n",
      "          Velocity  \n",
      "0              NaN  \n",
      "1              NaN  \n",
      "2              NaN  \n",
      "3              NaN  \n",
      "4              NaN  \n",
      "...            ...  \n",
      "11869653       NaN  \n",
      "11869693      -1.0  \n",
      "11869694      -0.5  \n",
      "11869696       NaN  \n",
      "11869697       NaN  \n",
      "\n",
      "[703436 rows x 6 columns]\n"
     ]
    }
   ],
   "source": [
    "print(nexrad_sample_df)"
   ]
  },
  {
   "cell_type": "code",
   "execution_count": 23,
   "metadata": {},
   "outputs": [],
   "source": [
    "nexrad_sample_schema = t.StructType([\n",
    "                            t.StructField('GateLat', t.StringType(), False),\n",
    "                            t.StructField('GateLon', t.StringType(), False),\n",
    "                            t.StructField('GateAlt', t.StringType(), False),\n",
    "                            t.StructField('GateTime', t.DateType(), False),\n",
    "                            t.StructField('Reflectivity', t.StringType(), False),\n",
    "                            t.StructField('Velocity', t.StringType(), False)    \n",
    "                        ])"
   ]
  },
  {
   "cell_type": "code",
   "execution_count": 24,
   "metadata": {},
   "outputs": [],
   "source": [
    "nexrad_samples_df_spark = spark.createDataFrame(nexrad_sample_df, schema=nexrad_sample_schema)"
   ]
  },
  {
   "cell_type": "code",
   "execution_count": 25,
   "metadata": {},
   "outputs": [],
   "source": [
    "parquet_wr(spark, path_d[\"output_data\"] + \"nexrad_samples_stage.parquet\", nexrad_samples_df_spark)"
   ]
  },
  {
   "cell_type": "code",
   "execution_count": null,
   "metadata": {},
   "outputs": [],
   "source": []
  },
  {
   "cell_type": "code",
   "execution_count": 26,
   "metadata": {},
   "outputs": [
    {
     "name": "stdout",
     "output_type": "stream",
     "text": [
      "Checking NEXRAD table...\n",
      "NULLS:\n",
      "+--------+\n",
      "|count(1)|\n",
      "+--------+\n",
      "|       0|\n",
      "+--------+\n",
      "\n",
      "ROWS:\n",
      "+--------+\n",
      "|count(1)|\n",
      "+--------+\n",
      "|  703436|\n",
      "+--------+\n",
      "\n",
      "Checking data quality complete\n",
      "[{'nexrad_count': 13361, 'nexrad': 'OK'}, {'nexrad_count': 703436, 'nexrad': 'OK'}]\n"
     ]
    }
   ],
   "source": [
    "results = check_nexrad_data_quality( spark, nexrad_samples_df_spark)\n",
    "results_all.append(results)\n",
    "\n",
    "print(results_all)"
   ]
  },
  {
   "cell_type": "code",
   "execution_count": 27,
   "metadata": {},
   "outputs": [
    {
     "name": "stdout",
     "output_type": "stream",
     "text": [
      "ETL pipeline complete\n"
     ]
    }
   ],
   "source": [
    "print(\"ETL pipeline complete\")"
   ]
  }
 ],
 "metadata": {
  "kernelspec": {
   "display_name": "Python 3",
   "language": "python",
   "name": "python3"
  },
  "language_info": {
   "codemirror_mode": {
    "name": "ipython",
    "version": 3
   },
   "file_extension": ".py",
   "mimetype": "text/x-python",
   "name": "python",
   "nbconvert_exporter": "python",
   "pygments_lexer": "ipython3",
   "version": "3.7.6"
  }
 },
 "nbformat": 4,
 "nbformat_minor": 4
}
