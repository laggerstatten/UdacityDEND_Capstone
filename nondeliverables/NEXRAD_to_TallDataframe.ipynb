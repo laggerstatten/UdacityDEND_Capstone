{
 "cells": [
  {
   "cell_type": "markdown",
   "metadata": {},
   "source": [
    "### Import packages"
   ]
  },
  {
   "cell_type": "code",
   "execution_count": 1,
   "metadata": {},
   "outputs": [
    {
     "name": "stdout",
     "output_type": "stream",
     "text": [
      "\n",
      "## You are using the Python ARM Radar Toolkit (Py-ART), an open source\n",
      "## library for working with weather radar data. Py-ART is partly\n",
      "## supported by the U.S. Department of Energy as part of the Atmospheric\n",
      "## Radiation Measurement (ARM) Climate Research Facility, an Office of\n",
      "## Science user facility.\n",
      "##\n",
      "## If you use this software to prepare a publication, please cite:\n",
      "##\n",
      "##     JJ Helmus and SM Collis, JORS 2016, doi: 10.5334/jors.119\n",
      "\n"
     ]
    }
   ],
   "source": [
    "from xml.dom import minidom\n",
    "from sys import stdin\n",
    "from urllib import request\n",
    "from subprocess import call\n",
    "import numpy as np\n",
    "import pandas as pd\n",
    "import itertools\n",
    "from tabulate import tabulate\n",
    "import pyart\n",
    "from sphere import RegionCoverer, Cell, LatLng, LatLngRect, CellId\n",
    "from datetime import datetime, timedelta\n",
    "import time"
   ]
  },
  {
   "cell_type": "markdown",
   "metadata": {},
   "source": [
    "### initialize user-defined variables"
   ]
  },
  {
   "cell_type": "code",
   "execution_count": 2,
   "metadata": {},
   "outputs": [
    {
     "name": "stdout",
     "output_type": "stream",
     "text": [
      "\n"
     ]
    }
   ],
   "source": [
    "\"\"\"\n",
    "date = \"2020/01/01\"\n",
    "site = \"KCRP\"\n",
    "bucketURL = \"http://noaa-nexrad-level2.s3.amazonaws.com\"\n",
    "dirListURL = bucketURL+ \"/?prefix=\" + date + \"/\" + site\n",
    "\"\"\"\n",
    "print(\"\")"
   ]
  },
  {
   "cell_type": "markdown",
   "metadata": {},
   "source": [
    "### list available files"
   ]
  },
  {
   "cell_type": "code",
   "execution_count": 3,
   "metadata": {},
   "outputs": [
    {
     "name": "stdout",
     "output_type": "stream",
     "text": [
      "\n"
     ]
    }
   ],
   "source": [
    "\"\"\"\n",
    "def getText(nodelist):\n",
    "    rc = []\n",
    "    for node in nodelist:\n",
    "        if node.nodeType == node.TEXT_NODE:\n",
    "            rc.append(node.data)\n",
    "    return ''.join(rc)\n",
    "\n",
    "print (\"listing files from %s\" % dirListURL)\n",
    "\n",
    "xmldoc = minidom.parse(request.urlopen(dirListURL))\n",
    "itemlist = xmldoc.getElementsByTagName('Key')\n",
    "print (len(itemlist) , \"keys found...\")\n",
    "\n",
    "for x in itemlist:\n",
    "    file = getText(x.childNodes)\n",
    "\"\"\"\n",
    "print(\"\")"
   ]
  },
  {
   "cell_type": "markdown",
   "metadata": {},
   "source": [
    "### read NEXRAD radar file -- having issue reading from http, temporarily reading from local directory"
   ]
  },
  {
   "cell_type": "code",
   "execution_count": 4,
   "metadata": {},
   "outputs": [],
   "source": [
    "#https://s3.amazonaws.com/noaa-nexrad-level2/index.html#2020/01/01/KCRP/\n",
    "#https://noaa-nexrad-level2.s3.amazonaws.com/2020/01/01/KCRP/KCRP20200101_000431_V06\n",
    "\n",
    "#radar = pyart.io.read_nexrad_archive('https://noaa-nexrad-level2.s3.amazonaws.com/2020/01/01/KCRP/' + 'KCRP20200101_000431_V06')\n",
    "#radar = pyart.io.read('https://noaa-nexrad-level2.s3.amazonaws.com/2020/01/01/KCRP/' + 'KCRP20200101_000431_V06')\n",
    "radar = pyart.io.read('data/NEXRAD/KCRP20200101_000431_V06')"
   ]
  },
  {
   "cell_type": "markdown",
   "metadata": {},
   "source": [
    "### show radar info"
   ]
  },
  {
   "cell_type": "code",
   "execution_count": 5,
   "metadata": {},
   "outputs": [
    {
     "name": "stdout",
     "output_type": "stream",
     "text": [
      "altitude:\n",
      "\tdata: <ndarray of type: float64 and shape: (1,)>\n",
      "\tlong_name: Altitude\n",
      "\tstandard_name: Altitude\n",
      "\tunits: meters\n",
      "\tpositive: up\n",
      "altitude_agl: None\n",
      "antenna_transition: None\n",
      "azimuth:\n",
      "\tdata: <ndarray of type: float64 and shape: (6480,)>\n",
      "\tunits: degrees\n",
      "\tstandard_name: beam_azimuth_angle\n",
      "\tlong_name: azimuth_angle_from_true_north\n",
      "\taxis: radial_azimuth_coordinate\n",
      "\tcomment: Azimuth of antenna relative to true north\n",
      "elevation:\n",
      "\tdata: <ndarray of type: float32 and shape: (6480,)>\n",
      "\tunits: degrees\n",
      "\tstandard_name: beam_elevation_angle\n",
      "\tlong_name: elevation_angle_from_horizontal_plane\n",
      "\taxis: radial_elevation_coordinate\n",
      "\tcomment: Elevation of antenna relative to the horizontal plane\n",
      "fields:\n",
      "\treflectivity:\n",
      "\t\tdata: <ndarray of type: float32 and shape: (6480, 1832)>\n",
      "\t\tunits: dBZ\n",
      "\t\tstandard_name: equivalent_reflectivity_factor\n",
      "\t\tlong_name: Reflectivity\n",
      "\t\tvalid_max: 94.5\n",
      "\t\tvalid_min: -32.0\n",
      "\t\tcoordinates: elevation azimuth range\n",
      "\t\t_FillValue: -9999.0\n",
      "\tdifferential_reflectivity:\n",
      "\t\tdata: <ndarray of type: float32 and shape: (6480, 1832)>\n",
      "\t\tunits: dB\n",
      "\t\tstandard_name: log_differential_reflectivity_hv\n",
      "\t\tlong_name: log_differential_reflectivity_hv\n",
      "\t\tvalid_max: 7.9375\n",
      "\t\tvalid_min: -7.875\n",
      "\t\tcoordinates: elevation azimuth range\n",
      "\t\t_FillValue: -9999.0\n",
      "\tcross_correlation_ratio:\n",
      "\t\tdata: <ndarray of type: float32 and shape: (6480, 1832)>\n",
      "\t\tunits: ratio\n",
      "\t\tstandard_name: cross_correlation_ratio_hv\n",
      "\t\tlong_name: Cross correlation_ratio (RHOHV)\n",
      "\t\tvalid_max: 1.0\n",
      "\t\tvalid_min: 0.0\n",
      "\t\tcoordinates: elevation azimuth range\n",
      "\t\t_FillValue: -9999.0\n",
      "\tspectrum_width:\n",
      "\t\tdata: <ndarray of type: float32 and shape: (6480, 1832)>\n",
      "\t\tunits: meters_per_second\n",
      "\t\tstandard_name: doppler_spectrum_width\n",
      "\t\tlong_name: Spectrum Width\n",
      "\t\tvalid_max: 63.0\n",
      "\t\tvalid_min: -63.5\n",
      "\t\tcoordinates: elevation azimuth range\n",
      "\t\t_FillValue: -9999.0\n",
      "\tdifferential_phase:\n",
      "\t\tdata: <ndarray of type: float32 and shape: (6480, 1832)>\n",
      "\t\tunits: degrees\n",
      "\t\tstandard_name: differential_phase_hv\n",
      "\t\tlong_name: differential_phase_hv\n",
      "\t\tvalid_max: 360.0\n",
      "\t\tvalid_min: 0.0\n",
      "\t\tcoordinates: elevation azimuth range\n",
      "\t\t_FillValue: -9999.0\n",
      "\tvelocity:\n",
      "\t\tdata: <ndarray of type: float32 and shape: (6480, 1832)>\n",
      "\t\tunits: meters_per_second\n",
      "\t\tstandard_name: radial_velocity_of_scatterers_away_from_instrument\n",
      "\t\tlong_name: Mean doppler Velocity\n",
      "\t\tvalid_max: 95.0\n",
      "\t\tvalid_min: -95.0\n",
      "\t\tcoordinates: elevation azimuth range\n",
      "\t\t_FillValue: -9999.0\n",
      "fixed_angle:\n",
      "\tdata: <ndarray of type: float32 and shape: (12,)>\n",
      "\tlong_name: Target angle for sweep\n",
      "\tunits: degrees\n",
      "\tstandard_name: target_fixed_angle\n",
      "instrument_parameters:\n",
      "\tunambiguous_range:\n",
      "\t\tdata: <ndarray of type: float32 and shape: (6480,)>\n",
      "\t\tunits: meters\n",
      "\t\tcomments: Unambiguous range\n",
      "\t\tmeta_group: instrument_parameters\n",
      "\t\tlong_name: Unambiguous range\n",
      "\tnyquist_velocity:\n",
      "\t\tdata: <ndarray of type: float32 and shape: (6480,)>\n",
      "\t\tunits: meters_per_second\n",
      "\t\tcomments: Unambiguous velocity\n",
      "\t\tmeta_group: instrument_parameters\n",
      "\t\tlong_name: Nyquist velocity\n",
      "latitude:\n",
      "\tdata: <ndarray of type: float64 and shape: (1,)>\n",
      "\tlong_name: Latitude\n",
      "\tstandard_name: Latitude\n",
      "\tunits: degrees_north\n",
      "longitude:\n",
      "\tdata: <ndarray of type: float64 and shape: (1,)>\n",
      "\tlong_name: Longitude\n",
      "\tstandard_name: Longitude\n",
      "\tunits: degrees_east\n",
      "nsweeps: 12\n",
      "ngates: 1832\n",
      "nrays: 6480\n",
      "radar_calibration: None\n",
      "range:\n",
      "\tdata: <ndarray of type: float32 and shape: (1832,)>\n",
      "\tunits: meters\n",
      "\tstandard_name: projection_range_coordinate\n",
      "\tlong_name: range_to_measurement_volume\n",
      "\taxis: radial_range_coordinate\n",
      "\tspacing_is_constant: true\n",
      "\tcomment: Coordinate variable for range. Range to center of each bin.\n",
      "\tmeters_to_center_of_first_gate: 2125.0\n",
      "\tmeters_between_gates: 250.0\n",
      "scan_rate: None\n",
      "scan_type: ppi\n",
      "sweep_end_ray_index:\n",
      "\tdata: <ndarray of type: int32 and shape: (12,)>\n",
      "\tlong_name: Index of last ray in sweep, 0-based\n",
      "\tunits: count\n",
      "sweep_mode:\n",
      "\tdata: <ndarray of type: |S20 and shape: (12,)>\n",
      "\tunits: unitless\n",
      "\tstandard_name: sweep_mode\n",
      "\tlong_name: Sweep mode\n",
      "\tcomment: Options are: \"sector\", \"coplane\", \"rhi\", \"vertical_pointing\", \"idle\", \"azimuth_surveillance\", \"elevation_surveillance\", \"sunscan\", \"pointing\", \"manual_ppi\", \"manual_rhi\"\n",
      "sweep_number:\n",
      "\tdata: <ndarray of type: int32 and shape: (12,)>\n",
      "\tunits: count\n",
      "\tstandard_name: sweep_number\n",
      "\tlong_name: Sweep number\n",
      "sweep_start_ray_index:\n",
      "\tdata: <ndarray of type: int32 and shape: (12,)>\n",
      "\tlong_name: Index of first ray in sweep, 0-based\n",
      "\tunits: count\n",
      "target_scan_rate: None\n",
      "time:\n",
      "\tdata: <ndarray of type: float64 and shape: (6480,)>\n",
      "\tunits: seconds since 2020-01-01T00:04:31Z\n",
      "\tstandard_name: time\n",
      "\tlong_name: time_in_seconds_since_volume_start\n",
      "\tcalendar: gregorian\n",
      "\tcomment: Coordinate variable for time. Time at the center of each ray, in fractional seconds since the global variable time_coverage_start\n",
      "metadata:\n",
      "\tConventions: CF/Radial instrument_parameters\n",
      "\tversion: 1.3\n",
      "\ttitle: \n",
      "\tinstitution: \n",
      "\treferences: \n",
      "\tsource: \n",
      "\thistory: \n",
      "\tcomment: \n",
      "\tinstrument_name: KCRP\n",
      "\toriginal_container: NEXRAD Level II\n",
      "\tvcp_pattern: 35\n"
     ]
    }
   ],
   "source": [
    "radar.info()"
   ]
  },
  {
   "cell_type": "markdown",
   "metadata": {},
   "source": [
    "### write station info"
   ]
  },
  {
   "cell_type": "code",
   "execution_count": 6,
   "metadata": {},
   "outputs": [],
   "source": [
    "station_info = ['StationName', 'Product', 'Pattern', 'Latitude', 'Longitude', 'Altitude', 'StartTime']\n",
    "station_row = []"
   ]
  },
  {
   "cell_type": "markdown",
   "metadata": {},
   "source": [
    "### confirm station location\n",
    "### process start datetime"
   ]
  },
  {
   "cell_type": "code",
   "execution_count": 7,
   "metadata": {},
   "outputs": [
    {
     "name": "stdout",
     "output_type": "stream",
     "text": [
      "['StationName', 'Product', 'Pattern', 'Latitude', 'Longitude', 'Altitude', 'StartTime']\n",
      "['KCRP', 'NEXRAD Level II', 35, 27.78401756286621, -97.5112533569336, 43.0, datetime.datetime(2020, 1, 1, 0, 4, 31)]\n"
     ]
    }
   ],
   "source": [
    "station_name = radar.metadata['instrument_name']\n",
    "product = radar.metadata['original_container']\n",
    "pattern = radar.metadata['vcp_pattern']\n",
    "\n",
    "latitude0 = radar.latitude['data'][0]\n",
    "longitude0 = radar.longitude['data'][0]\n",
    "altitude0 = radar.altitude['data'][0]\n",
    "\n",
    "volume_start = datetime.strptime(radar.time['units'][14:34], '%Y-%m-%dT%H:%M:%SZ')\n",
    "\n",
    "station_row.extend([station_name, product, pattern, latitude0, longitude0, altitude0, volume_start] )\n",
    "\n",
    "print(station_info)\n",
    "print(station_row)"
   ]
  },
  {
   "cell_type": "code",
   "execution_count": 8,
   "metadata": {},
   "outputs": [
    {
     "name": "stdout",
     "output_type": "stream",
     "text": [
      "{'units': 'unitless', 'standard_name': 'sweep_mode', 'long_name': 'Sweep mode', 'comment': 'Options are: \"sector\", \"coplane\", \"rhi\", \"vertical_pointing\", \"idle\", \"azimuth_surveillance\", \"elevation_surveillance\", \"sunscan\", \"pointing\", \"manual_ppi\", \"manual_rhi\"', 'data': array([b'azimuth_surveillance', b'azimuth_surveillance',\n",
      "       b'azimuth_surveillance', b'azimuth_surveillance',\n",
      "       b'azimuth_surveillance', b'azimuth_surveillance',\n",
      "       b'azimuth_surveillance', b'azimuth_surveillance',\n",
      "       b'azimuth_surveillance', b'azimuth_surveillance',\n",
      "       b'azimuth_surveillance', b'azimuth_surveillance'], dtype='|S20')}\n"
     ]
    }
   ],
   "source": [
    "print(radar.sweep_mode)"
   ]
  },
  {
   "cell_type": "markdown",
   "metadata": {},
   "source": [
    "### confirm number of rays and gates\n",
    "# Ray attributes: azimuth, elevation, time\n",
    "# Gate attributes: range\n",
    "# Ray x Gate attributes: lat, lon, alt"
   ]
  },
  {
   "cell_type": "code",
   "execution_count": 9,
   "metadata": {},
   "outputs": [
    {
     "name": "stdout",
     "output_type": "stream",
     "text": [
      "6480\n",
      "1832\n"
     ]
    }
   ],
   "source": [
    "print(radar.nrays)\n",
    "print(radar.ngates)"
   ]
  },
  {
   "cell_type": "markdown",
   "metadata": {},
   "source": [
    "### unfold lists of lists"
   ]
  },
  {
   "cell_type": "code",
   "execution_count": 10,
   "metadata": {},
   "outputs": [],
   "source": [
    "merged_lat = list(itertools.chain.from_iterable(radar.gate_latitude['data']))\n",
    "merged_lon = list(itertools.chain.from_iterable(radar.gate_longitude['data']))\n",
    "merged_alt = list(itertools.chain.from_iterable(radar.gate_altitude['data']))\n",
    "merged_refl = list(itertools.chain.from_iterable(radar.fields['reflectivity']['data']))\n",
    "merged_velo = list(itertools.chain.from_iterable(radar.fields['velocity']['data']))"
   ]
  },
  {
   "cell_type": "markdown",
   "metadata": {},
   "source": [
    "### expand time field"
   ]
  },
  {
   "cell_type": "code",
   "execution_count": 11,
   "metadata": {},
   "outputs": [],
   "source": [
    "time_x1 = [volume_start + timedelta(seconds=s) for s in radar.time['data']]\n",
    "time_xgates = [val for val in time_x1 for _ in range(radar.ngates)]"
   ]
  },
  {
   "cell_type": "code",
   "execution_count": 12,
   "metadata": {},
   "outputs": [],
   "source": [
    "volume_start_x1 = [volume_start + timedelta(seconds=0)]\n",
    "\n",
    "stations = pd.DataFrame(\n",
    "    {'StationName': station_name, \n",
    "     'Product': product, \n",
    "     'Pattern': pattern, \n",
    "     'Latitude': latitude0,\n",
    "     'Longitude': longitude0,\n",
    "     'Altitude': altitude0,\n",
    "     'StartTime': volume_start_x1     \n",
    "    })\n"
   ]
  },
  {
   "cell_type": "markdown",
   "metadata": {},
   "source": [
    "### visual checks -- make into real tests"
   ]
  },
  {
   "cell_type": "code",
   "execution_count": 13,
   "metadata": {},
   "outputs": [
    {
     "name": "stdout",
     "output_type": "stream",
     "text": [
      "time match 6480\n",
      "data match 6480\n",
      "data match 1832\n",
      "time match 11871360\n",
      "data match 11871360\n"
     ]
    }
   ],
   "source": [
    "nsamples = radar.nrays * radar.ngates\n",
    "ndata_rays = len(radar.gate_latitude['data'])\n",
    "ndata_gates = len(radar.gate_latitude['data'][0])\n",
    "ntime_rays = len(radar.time['data'])\n",
    "ntime_samples = len(time_xgates)\n",
    "ndata_samples = len(merged_refl)\n",
    "\n",
    "\n",
    "if radar.nrays == ntime_rays:\n",
    "    print('time match ' + str(radar.nrays))\n",
    "else:\n",
    "    print('time mismatch')\n",
    "    \n",
    "if radar.nrays == ndata_rays:\n",
    "    print('data match ' + str(radar.nrays))\n",
    "else:\n",
    "    print('data mismatch')\n",
    "    \n",
    "if radar.ngates == ndata_gates:\n",
    "    print('data match ' + str(radar.ngates))\n",
    "else:\n",
    "    print('data mismatch')    \n",
    "    \n",
    "if nsamples == ntime_samples:\n",
    "    print('time match ' + str(nsamples))\n",
    "else:\n",
    "    print('time mismatch')\n",
    "    \n",
    "if nsamples == ndata_samples:\n",
    "    print('data match ' + str(nsamples))\n",
    "else:\n",
    "    print('data mismatch')"
   ]
  },
  {
   "cell_type": "markdown",
   "metadata": {},
   "source": [
    "### combine data into dataframe"
   ]
  },
  {
   "cell_type": "code",
   "execution_count": 14,
   "metadata": {},
   "outputs": [
    {
     "name": "stdout",
     "output_type": "stream",
     "text": [
      "11871360\n",
      "           GateLat     GateLon  GateAlt                GateTime Reflectivity  \\\n",
      "0        27.802363  -97.505206     61.0 2020-01-01 00:04:31.183           -8   \n",
      "100000   29.539148  -95.599637   6782.0 2020-01-01 00:04:36.567           --   \n",
      "200000   28.019360  -96.740719   1081.0 2020-01-01 00:04:42.062           --   \n",
      "300000   27.318263  -94.022561  10107.0 2020-01-01 00:04:47.449           --   \n",
      "400000   26.957580  -96.208735   2969.0 2020-01-01 00:04:52.942           --   \n",
      "500000   24.383280  -95.555656  14211.0 2020-01-01 00:04:58.332           --   \n",
      "600000   25.661655  -97.501097   5383.0 2020-01-01 00:05:03.821           --   \n",
      "700000   27.415115  -97.725206    542.0 2020-01-01 00:05:09.314          6.5   \n",
      "800000   26.111492 -100.062358   8376.0 2020-01-01 00:05:14.701           --   \n",
      "900000   27.618271  -98.757781   1997.0 2020-01-01 00:05:20.190           --   \n",
      "1000000  28.864024 -101.320374  12317.0 2020-01-01 00:05:25.583           --   \n",
      "1100000  29.089156  -98.948946   4074.0 2020-01-01 00:05:31.079           --   \n",
      "1200000  27.888698  -97.545761    160.0 2020-01-01 00:05:36.575          -16   \n",
      "1300000  30.256225  -96.967655   7142.0 2020-01-01 00:05:41.968           --   \n",
      "1400000  28.289759  -96.793838   1203.0 2020-01-01 00:05:45.681           --   \n",
      "1500000  28.395443  -93.930461  10675.0 2020-01-01 00:05:47.236           --   \n",
      "1600000  27.364759  -95.873037   3326.0 2020-01-01 00:05:48.820           --   \n",
      "1700000  25.090421  -94.335285  15426.0 2020-01-01 00:05:50.377           --   \n",
      "1800000  25.700114  -96.680048   5918.0 2020-01-01 00:05:51.960           --   \n",
      "1900000  27.283870  -97.587406    745.0 2020-01-01 00:05:53.543           --   \n",
      "2000000  25.377663  -99.346139   8956.0 2020-01-01 00:05:55.100           --   \n",
      "2100000  27.216560  -98.710868   2233.0 2020-01-01 00:05:56.686           --   \n",
      "2200000  27.674959 -101.590374  12944.0 2020-01-01 00:05:58.242           --   \n",
      "2300000  28.626705  -99.452290   4480.0 2020-01-01 00:05:59.824           --   \n",
      "2400000  27.945346  -97.642971    258.0 2020-01-01 00:06:01.409           18   \n",
      "2500000  30.360012  -97.972230   7441.0 2020-01-01 00:06:02.967           --   \n",
      "2600000  28.636280  -97.182044   1477.0 2020-01-01 00:06:04.549           --   \n",
      "2700000  29.256590  -94.142270  13655.0 2020-01-01 00:06:10.016           --   \n",
      "2800000  27.765098  -95.701913   4641.0 2020-01-01 00:06:15.502           --   \n",
      "2900000  25.893784  -93.553988  18580.0 2020-01-01 00:06:20.899           --   \n",
      "3000000  25.896690  -96.035220   7829.0 2020-01-01 00:06:26.391         16.5   \n",
      "3100000  27.194896  -97.421109   1314.0 2020-01-01 00:06:31.880           --   \n",
      "3200000  24.946287  -98.601676  11731.0 2020-01-01 00:06:37.271           --   \n",
      "3300000  26.892356  -98.569313   3475.0 2020-01-01 00:06:42.766           --   \n",
      "3400000  26.692032 -101.487901  16346.0 2020-01-01 00:06:48.156           --   \n",
      "3500000  28.155683  -99.731892   6352.0 2020-01-01 00:06:53.658           --   \n",
      "3600000  27.964591  -97.766302    596.0 2020-01-01 00:06:59.151           --   \n",
      "3700000  30.236273  -98.792889   9943.0 2020-01-01 00:07:04.538           --   \n",
      "3800000  28.772415  -97.447132   2445.0 2020-01-01 00:07:10.043           --   \n",
      "3900000  30.702864  -95.522314  14246.0 2020-01-01 00:07:15.429           --   \n",
      "4000000  28.331248  -95.698374   5010.0 2020-01-01 00:07:20.610            4   \n",
      "4100000  27.159192  -92.950415  19263.0 2020-01-01 00:07:22.156           --   \n",
      "4200000  26.387704  -95.330962   8290.0 2020-01-01 00:07:23.739           --   \n",
      "4300000  27.175242  -97.158717   1551.0 2020-01-01 00:07:25.326           --   \n",
      "4400000  24.693235  -97.494628  12283.0 2020-01-01 00:07:26.881           --   \n",
      "4500000  26.550153  -98.219360   3804.0 2020-01-01 00:07:28.464           --   \n",
      "4600000  25.525802 -100.917200  16989.0 2020-01-01 00:07:30.018           --   \n",
      "4700000  27.464417  -99.837777   6772.0 2020-01-01 00:07:31.606           --   \n",
      "4800000  27.908102  -97.915980    794.0 2020-01-01 00:07:33.187           --   \n",
      "4900000  29.777722  -99.731616  10454.0 2020-01-01 00:07:34.744           --   \n",
      "\n",
      "        Velocity  \n",
      "0             --  \n",
      "100000        --  \n",
      "200000        --  \n",
      "300000        --  \n",
      "400000        --  \n",
      "500000        --  \n",
      "600000        --  \n",
      "700000        --  \n",
      "800000        --  \n",
      "900000        --  \n",
      "1000000       --  \n",
      "1100000       --  \n",
      "1200000       --  \n",
      "1300000       --  \n",
      "1400000       --  \n",
      "1500000       --  \n",
      "1600000       --  \n",
      "1700000       --  \n",
      "1800000       --  \n",
      "1900000       --  \n",
      "2000000       --  \n",
      "2100000       --  \n",
      "2200000       --  \n",
      "2300000       --  \n",
      "2400000       --  \n",
      "2500000       --  \n",
      "2600000       --  \n",
      "2700000       --  \n",
      "2800000       --  \n",
      "2900000       --  \n",
      "3000000       --  \n",
      "3100000       --  \n",
      "3200000       --  \n",
      "3300000       --  \n",
      "3400000       --  \n",
      "3500000       --  \n",
      "3600000       --  \n",
      "3700000       --  \n",
      "3800000       --  \n",
      "3900000       --  \n",
      "4000000       --  \n",
      "4100000       --  \n",
      "4200000       --  \n",
      "4300000       --  \n",
      "4400000       --  \n",
      "4500000       --  \n",
      "4600000       --  \n",
      "4700000       --  \n",
      "4800000       --  \n",
      "4900000       --  \n"
     ]
    }
   ],
   "source": [
    "samples = pd.DataFrame(\n",
    "    {'GateLat': merged_lat,\n",
    "     'GateLon': merged_lon,\n",
    "     'GateAlt': merged_alt,\n",
    "     'GateTime': time_xgates,\n",
    "     'Reflectivity': merged_refl,\n",
    "     'Velocity': merged_velo\n",
    "    })\n",
    "print(len(samples))\n",
    "print(samples[0:5000000:100000])"
   ]
  },
  {
   "cell_type": "code",
   "execution_count": 15,
   "metadata": {},
   "outputs": [
    {
     "data": {
      "text/html": [
       "<div>\n",
       "<style scoped>\n",
       "    .dataframe tbody tr th:only-of-type {\n",
       "        vertical-align: middle;\n",
       "    }\n",
       "\n",
       "    .dataframe tbody tr th {\n",
       "        vertical-align: top;\n",
       "    }\n",
       "\n",
       "    .dataframe thead th {\n",
       "        text-align: right;\n",
       "    }\n",
       "</style>\n",
       "<table border=\"1\" class=\"dataframe\">\n",
       "  <thead>\n",
       "    <tr style=\"text-align: right;\">\n",
       "      <th></th>\n",
       "      <th>GateLat</th>\n",
       "      <th>GateLon</th>\n",
       "      <th>GateAlt</th>\n",
       "      <th>GateTime</th>\n",
       "      <th>Reflectivity</th>\n",
       "      <th>Velocity</th>\n",
       "    </tr>\n",
       "  </thead>\n",
       "  <tbody>\n",
       "    <tr>\n",
       "      <th>0</th>\n",
       "      <td>27.802363</td>\n",
       "      <td>-97.505206</td>\n",
       "      <td>61.0</td>\n",
       "      <td>2020-01-01 00:04:31.183</td>\n",
       "      <td>-8</td>\n",
       "      <td>--</td>\n",
       "    </tr>\n",
       "    <tr>\n",
       "      <th>1</th>\n",
       "      <td>27.804522</td>\n",
       "      <td>-97.504495</td>\n",
       "      <td>63.0</td>\n",
       "      <td>2020-01-01 00:04:31.183</td>\n",
       "      <td>-12</td>\n",
       "      <td>--</td>\n",
       "    </tr>\n",
       "    <tr>\n",
       "      <th>2</th>\n",
       "      <td>27.806680</td>\n",
       "      <td>-97.503783</td>\n",
       "      <td>65.0</td>\n",
       "      <td>2020-01-01 00:04:31.183</td>\n",
       "      <td>-3</td>\n",
       "      <td>--</td>\n",
       "    </tr>\n",
       "    <tr>\n",
       "      <th>3</th>\n",
       "      <td>27.808838</td>\n",
       "      <td>-97.503072</td>\n",
       "      <td>67.0</td>\n",
       "      <td>2020-01-01 00:04:31.183</td>\n",
       "      <td>-3</td>\n",
       "      <td>--</td>\n",
       "    </tr>\n",
       "    <tr>\n",
       "      <th>4</th>\n",
       "      <td>27.810997</td>\n",
       "      <td>-97.502360</td>\n",
       "      <td>69.0</td>\n",
       "      <td>2020-01-01 00:04:31.183</td>\n",
       "      <td>-3</td>\n",
       "      <td>--</td>\n",
       "    </tr>\n",
       "    <tr>\n",
       "      <th>...</th>\n",
       "      <td>...</td>\n",
       "      <td>...</td>\n",
       "      <td>...</td>\n",
       "      <td>...</td>\n",
       "      <td>...</td>\n",
       "      <td>...</td>\n",
       "    </tr>\n",
       "    <tr>\n",
       "      <th>11871355</th>\n",
       "      <td>24.528336</td>\n",
       "      <td>-100.237553</td>\n",
       "      <td>63477.0</td>\n",
       "      <td>2020-01-01 00:11:18.914</td>\n",
       "      <td>--</td>\n",
       "      <td>--</td>\n",
       "    </tr>\n",
       "    <tr>\n",
       "      <th>11871356</th>\n",
       "      <td>24.526563</td>\n",
       "      <td>-100.238986</td>\n",
       "      <td>63519.0</td>\n",
       "      <td>2020-01-01 00:11:18.914</td>\n",
       "      <td>--</td>\n",
       "      <td>--</td>\n",
       "    </tr>\n",
       "    <tr>\n",
       "      <th>11871357</th>\n",
       "      <td>24.524790</td>\n",
       "      <td>-100.240420</td>\n",
       "      <td>63560.0</td>\n",
       "      <td>2020-01-01 00:11:18.914</td>\n",
       "      <td>--</td>\n",
       "      <td>--</td>\n",
       "    </tr>\n",
       "    <tr>\n",
       "      <th>11871358</th>\n",
       "      <td>24.523016</td>\n",
       "      <td>-100.241854</td>\n",
       "      <td>63601.0</td>\n",
       "      <td>2020-01-01 00:11:18.914</td>\n",
       "      <td>--</td>\n",
       "      <td>--</td>\n",
       "    </tr>\n",
       "    <tr>\n",
       "      <th>11871359</th>\n",
       "      <td>24.521243</td>\n",
       "      <td>-100.243287</td>\n",
       "      <td>63642.0</td>\n",
       "      <td>2020-01-01 00:11:18.914</td>\n",
       "      <td>--</td>\n",
       "      <td>--</td>\n",
       "    </tr>\n",
       "  </tbody>\n",
       "</table>\n",
       "<p>11871360 rows × 6 columns</p>\n",
       "</div>"
      ],
      "text/plain": [
       "            GateLat     GateLon  GateAlt                GateTime Reflectivity  \\\n",
       "0         27.802363  -97.505206     61.0 2020-01-01 00:04:31.183           -8   \n",
       "1         27.804522  -97.504495     63.0 2020-01-01 00:04:31.183          -12   \n",
       "2         27.806680  -97.503783     65.0 2020-01-01 00:04:31.183           -3   \n",
       "3         27.808838  -97.503072     67.0 2020-01-01 00:04:31.183           -3   \n",
       "4         27.810997  -97.502360     69.0 2020-01-01 00:04:31.183           -3   \n",
       "...             ...         ...      ...                     ...          ...   \n",
       "11871355  24.528336 -100.237553  63477.0 2020-01-01 00:11:18.914           --   \n",
       "11871356  24.526563 -100.238986  63519.0 2020-01-01 00:11:18.914           --   \n",
       "11871357  24.524790 -100.240420  63560.0 2020-01-01 00:11:18.914           --   \n",
       "11871358  24.523016 -100.241854  63601.0 2020-01-01 00:11:18.914           --   \n",
       "11871359  24.521243 -100.243287  63642.0 2020-01-01 00:11:18.914           --   \n",
       "\n",
       "         Velocity  \n",
       "0              --  \n",
       "1              --  \n",
       "2              --  \n",
       "3              --  \n",
       "4              --  \n",
       "...           ...  \n",
       "11871355       --  \n",
       "11871356       --  \n",
       "11871357       --  \n",
       "11871358       --  \n",
       "11871359       --  \n",
       "\n",
       "[11871360 rows x 6 columns]"
      ]
     },
     "execution_count": 15,
     "metadata": {},
     "output_type": "execute_result"
    }
   ],
   "source": [
    "samples[samples.Reflectivity.notnull()]"
   ]
  },
  {
   "cell_type": "code",
   "execution_count": 31,
   "metadata": {},
   "outputs": [
    {
     "data": {
      "text/html": [
       "<div>\n",
       "<style scoped>\n",
       "    .dataframe tbody tr th:only-of-type {\n",
       "        vertical-align: middle;\n",
       "    }\n",
       "\n",
       "    .dataframe tbody tr th {\n",
       "        vertical-align: top;\n",
       "    }\n",
       "\n",
       "    .dataframe thead th {\n",
       "        text-align: right;\n",
       "    }\n",
       "</style>\n",
       "<table border=\"1\" class=\"dataframe\">\n",
       "  <thead>\n",
       "    <tr style=\"text-align: right;\">\n",
       "      <th></th>\n",
       "      <th>GateLat</th>\n",
       "      <th>GateLon</th>\n",
       "      <th>GateAlt</th>\n",
       "      <th>GateTime</th>\n",
       "      <th>Reflectivity</th>\n",
       "      <th>Velocity</th>\n",
       "    </tr>\n",
       "  </thead>\n",
       "  <tbody>\n",
       "  </tbody>\n",
       "</table>\n",
       "</div>"
      ],
      "text/plain": [
       "Empty DataFrame\n",
       "Columns: [GateLat, GateLon, GateAlt, GateTime, Reflectivity, Velocity]\n",
       "Index: []"
      ]
     },
     "execution_count": 31,
     "metadata": {},
     "output_type": "execute_result"
    }
   ],
   "source": [
    "#samples[samples['Reflectivity'] == 'masked']"
   ]
  },
  {
   "cell_type": "code",
   "execution_count": 32,
   "metadata": {},
   "outputs": [
    {
     "data": {
      "text/html": [
       "<div>\n",
       "<style scoped>\n",
       "    .dataframe tbody tr th:only-of-type {\n",
       "        vertical-align: middle;\n",
       "    }\n",
       "\n",
       "    .dataframe tbody tr th {\n",
       "        vertical-align: top;\n",
       "    }\n",
       "\n",
       "    .dataframe thead th {\n",
       "        text-align: right;\n",
       "    }\n",
       "</style>\n",
       "<table border=\"1\" class=\"dataframe\">\n",
       "  <thead>\n",
       "    <tr style=\"text-align: right;\">\n",
       "      <th></th>\n",
       "      <th>GateLat</th>\n",
       "      <th>GateLon</th>\n",
       "      <th>GateAlt</th>\n",
       "      <th>GateTime</th>\n",
       "      <th>Reflectivity</th>\n",
       "      <th>Velocity</th>\n",
       "    </tr>\n",
       "  </thead>\n",
       "  <tbody>\n",
       "    <tr>\n",
       "      <th>0</th>\n",
       "      <td>27.802363</td>\n",
       "      <td>-97.505206</td>\n",
       "      <td>61.0</td>\n",
       "      <td>2020-01-01 00:04:31.183</td>\n",
       "      <td>-8</td>\n",
       "      <td>--</td>\n",
       "    </tr>\n",
       "    <tr>\n",
       "      <th>1</th>\n",
       "      <td>27.804522</td>\n",
       "      <td>-97.504495</td>\n",
       "      <td>63.0</td>\n",
       "      <td>2020-01-01 00:04:31.183</td>\n",
       "      <td>-12</td>\n",
       "      <td>--</td>\n",
       "    </tr>\n",
       "    <tr>\n",
       "      <th>2</th>\n",
       "      <td>27.806680</td>\n",
       "      <td>-97.503783</td>\n",
       "      <td>65.0</td>\n",
       "      <td>2020-01-01 00:04:31.183</td>\n",
       "      <td>-3</td>\n",
       "      <td>--</td>\n",
       "    </tr>\n",
       "    <tr>\n",
       "      <th>3</th>\n",
       "      <td>27.808838</td>\n",
       "      <td>-97.503072</td>\n",
       "      <td>67.0</td>\n",
       "      <td>2020-01-01 00:04:31.183</td>\n",
       "      <td>-3</td>\n",
       "      <td>--</td>\n",
       "    </tr>\n",
       "    <tr>\n",
       "      <th>4</th>\n",
       "      <td>27.810997</td>\n",
       "      <td>-97.502360</td>\n",
       "      <td>69.0</td>\n",
       "      <td>2020-01-01 00:04:31.183</td>\n",
       "      <td>-3</td>\n",
       "      <td>--</td>\n",
       "    </tr>\n",
       "    <tr>\n",
       "      <th>...</th>\n",
       "      <td>...</td>\n",
       "      <td>...</td>\n",
       "      <td>...</td>\n",
       "      <td>...</td>\n",
       "      <td>...</td>\n",
       "      <td>...</td>\n",
       "    </tr>\n",
       "    <tr>\n",
       "      <th>11869653</th>\n",
       "      <td>27.547467</td>\n",
       "      <td>-97.716142</td>\n",
       "      <td>3837.0</td>\n",
       "      <td>2020-01-01 00:11:18.914</td>\n",
       "      <td>-12.5</td>\n",
       "      <td>--</td>\n",
       "    </tr>\n",
       "    <tr>\n",
       "      <th>11869693</th>\n",
       "      <td>27.476573</td>\n",
       "      <td>-97.777324</td>\n",
       "      <td>4999.0</td>\n",
       "      <td>2020-01-01 00:11:18.914</td>\n",
       "      <td>-9.5</td>\n",
       "      <td>-1</td>\n",
       "    </tr>\n",
       "    <tr>\n",
       "      <th>11869694</th>\n",
       "      <td>27.474801</td>\n",
       "      <td>-97.778852</td>\n",
       "      <td>5028.0</td>\n",
       "      <td>2020-01-01 00:11:18.914</td>\n",
       "      <td>-3</td>\n",
       "      <td>-0.5</td>\n",
       "    </tr>\n",
       "    <tr>\n",
       "      <th>11869696</th>\n",
       "      <td>27.471256</td>\n",
       "      <td>-97.781908</td>\n",
       "      <td>5086.0</td>\n",
       "      <td>2020-01-01 00:11:18.914</td>\n",
       "      <td>-7</td>\n",
       "      <td>--</td>\n",
       "    </tr>\n",
       "    <tr>\n",
       "      <th>11869697</th>\n",
       "      <td>27.469483</td>\n",
       "      <td>-97.783437</td>\n",
       "      <td>5116.0</td>\n",
       "      <td>2020-01-01 00:11:18.914</td>\n",
       "      <td>-9.5</td>\n",
       "      <td>--</td>\n",
       "    </tr>\n",
       "  </tbody>\n",
       "</table>\n",
       "<p>703281 rows × 6 columns</p>\n",
       "</div>"
      ],
      "text/plain": [
       "            GateLat    GateLon  GateAlt                GateTime Reflectivity  \\\n",
       "0         27.802363 -97.505206     61.0 2020-01-01 00:04:31.183           -8   \n",
       "1         27.804522 -97.504495     63.0 2020-01-01 00:04:31.183          -12   \n",
       "2         27.806680 -97.503783     65.0 2020-01-01 00:04:31.183           -3   \n",
       "3         27.808838 -97.503072     67.0 2020-01-01 00:04:31.183           -3   \n",
       "4         27.810997 -97.502360     69.0 2020-01-01 00:04:31.183           -3   \n",
       "...             ...        ...      ...                     ...          ...   \n",
       "11869653  27.547467 -97.716142   3837.0 2020-01-01 00:11:18.914        -12.5   \n",
       "11869693  27.476573 -97.777324   4999.0 2020-01-01 00:11:18.914         -9.5   \n",
       "11869694  27.474801 -97.778852   5028.0 2020-01-01 00:11:18.914           -3   \n",
       "11869696  27.471256 -97.781908   5086.0 2020-01-01 00:11:18.914           -7   \n",
       "11869697  27.469483 -97.783437   5116.0 2020-01-01 00:11:18.914         -9.5   \n",
       "\n",
       "         Velocity  \n",
       "0              --  \n",
       "1              --  \n",
       "2              --  \n",
       "3              --  \n",
       "4              --  \n",
       "...           ...  \n",
       "11869653       --  \n",
       "11869693       -1  \n",
       "11869694     -0.5  \n",
       "11869696       --  \n",
       "11869697       --  \n",
       "\n",
       "[703281 rows x 6 columns]"
      ]
     },
     "execution_count": 32,
     "metadata": {},
     "output_type": "execute_result"
    }
   ],
   "source": [
    "samples1 = samples[(samples['Reflectivity'] >= -32) & (samples['Reflectivity'] <= 94.5)]\n",
    "samples1"
   ]
  },
  {
   "cell_type": "code",
   "execution_count": null,
   "metadata": {},
   "outputs": [],
   "source": [
    "samples2 = samples[ ( (samples['Reflectivity'] >= -32) & (samples['Reflectivity'] <= 94.5) ) | (samples['Velocity'] >= -95) & (samples['Velocity'] <= 95) ) ]\n",
    "samples2"
   ]
  },
  {
   "cell_type": "markdown",
   "metadata": {},
   "source": [
    "### get cellid from lat /lon = 471sec\n",
    "# get level 10 parent from cellid = 77sec\n",
    "# get centroid of cellid = 413sec"
   ]
  },
  {
   "cell_type": "code",
   "execution_count": 16,
   "metadata": {},
   "outputs": [
    {
     "data": {
      "text/plain": [
       "\"\\ns2level = 10\\n\\nstart0 = time.time()\\nsamples['S2LL'] = [LatLng.from_degrees(x, y) for x, y in zip(samples['GateLat'], samples['GateLon'])]\\nend0 = time.time()\\nprint(end0 - start0)\\n#57s\\n\\nstart1 = time.time()\\nsamples['S2CellID'] = [CellId().from_lat_lng(xy) for xy in samples['S2LL']]\\nend1 = time.time()\\nprint(end1 - start1)\\n#426s\\n\\n\""
      ]
     },
     "execution_count": 16,
     "metadata": {},
     "output_type": "execute_result"
    }
   ],
   "source": [
    "\"\"\"\n",
    "s2level = 10\n",
    "\n",
    "start0 = time.time()\n",
    "samples['S2LL'] = [LatLng.from_degrees(x, y) for x, y in zip(samples['GateLat'], samples['GateLon'])]\n",
    "end0 = time.time()\n",
    "print(end0 - start0)\n",
    "#57s\n",
    "\n",
    "start1 = time.time()\n",
    "samples['S2CellID'] = [CellId().from_lat_lng(xy) for xy in samples['S2LL']]\n",
    "end1 = time.time()\n",
    "print(end1 - start1)\n",
    "#426s\n",
    "\n",
    "\"\"\"\n",
    "\n",
    "\n",
    "\n",
    "\n"
   ]
  },
  {
   "cell_type": "code",
   "execution_count": 17,
   "metadata": {},
   "outputs": [
    {
     "data": {
      "text/plain": [
       "\"\\nstart4 = time.time()\\nsamples['S2Region'] = [z.parent(s2level) for z in samples['S2CellID']]\\nend4 = time.time()\\nprint(end4 - start4)\\n#67s\\n\""
      ]
     },
     "execution_count": 17,
     "metadata": {},
     "output_type": "execute_result"
    }
   ],
   "source": [
    "\"\"\"\n",
    "start4 = time.time()\n",
    "samples['S2Region'] = [z.parent(s2level) for z in samples['S2CellID']]\n",
    "end4 = time.time()\n",
    "print(end4 - start4)\n",
    "#67s\n",
    "\"\"\"\n",
    "\n"
   ]
  },
  {
   "cell_type": "code",
   "execution_count": 18,
   "metadata": {},
   "outputs": [],
   "source": [
    "#print(tabulate(samples[0:11000000:1000000], headers='keys', tablefmt='github', showindex=False))"
   ]
  },
  {
   "cell_type": "code",
   "execution_count": 19,
   "metadata": {},
   "outputs": [],
   "source": [
    "#samples.nunique()"
   ]
  },
  {
   "cell_type": "code",
   "execution_count": null,
   "metadata": {},
   "outputs": [],
   "source": [
    "\n"
   ]
  },
  {
   "cell_type": "code",
   "execution_count": null,
   "metadata": {},
   "outputs": [],
   "source": []
  }
 ],
 "metadata": {
  "kernelspec": {
   "display_name": "Python 3",
   "language": "python",
   "name": "python3"
  },
  "language_info": {
   "codemirror_mode": {
    "name": "ipython",
    "version": 3
   },
   "file_extension": ".py",
   "mimetype": "text/x-python",
   "name": "python",
   "nbconvert_exporter": "python",
   "pygments_lexer": "ipython3",
   "version": "3.7.6"
  }
 },
 "nbformat": 4,
 "nbformat_minor": 4
}
