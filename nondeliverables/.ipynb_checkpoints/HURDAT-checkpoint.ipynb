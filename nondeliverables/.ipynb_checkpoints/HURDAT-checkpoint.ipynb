{
 "cells": [
  {
   "cell_type": "markdown",
   "metadata": {},
   "source": [
    "#import all packages"
   ]
  },
  {
   "cell_type": "code",
   "execution_count": null,
   "metadata": {},
   "outputs": [],
   "source": [
    "import pandas as pd\n",
    "from tabulate import tabulate\n",
    "from sphere import RegionCoverer, Cell, LatLng, LatLngRect, CellId"
   ]
  },
  {
   "cell_type": "markdown",
   "metadata": {},
   "source": [
    "#initialize path to HURDAT2 data"
   ]
  },
  {
   "cell_type": "code",
   "execution_count": null,
   "metadata": {},
   "outputs": [],
   "source": [
    "path = 'https://www.aoml.noaa.gov/hrd/hurdat/hurdat2.html'\n",
    "# https://www.nhc.noaa.gov/data/hurdat/hurdat2-format-atlantic.pdf"
   ]
  },
  {
   "cell_type": "markdown",
   "metadata": {},
   "source": [
    "#assign column names and read CSV data"
   ]
  },
  {
   "cell_type": "code",
   "execution_count": null,
   "metadata": {},
   "outputs": [],
   "source": [
    "col_names = ['Date','Time','RecordIdentifier','SystemStatus','Latitude','Longitude','MaxSustWind','MaxPressure',\n",
    "             'NE34','SE34','SW34','NW34',\n",
    "             'NE50','SE50','SW50','NW50',\n",
    "             'NE64','SE64','SW64','NW64']\n",
    "df = pd.read_csv(path, skiprows = 2, low_memory=False, names=col_names)\n",
    "print(len(df))\n",
    "#print(df.dtypes)\n",
    "#print(tabulate(df[52100:52200], headers = col_names))"
   ]
  },
  {
   "cell_type": "markdown",
   "metadata": {},
   "source": [
    "#change data types to strings"
   ]
  },
  {
   "cell_type": "code",
   "execution_count": null,
   "metadata": {},
   "outputs": [],
   "source": [
    "df.Date.apply(str)\n",
    "df.Time.apply(str)"
   ]
  },
  {
   "cell_type": "markdown",
   "metadata": {},
   "source": [
    "#print first 10 rows of data"
   ]
  },
  {
   "cell_type": "code",
   "execution_count": null,
   "metadata": {},
   "outputs": [],
   "source": [
    "#remove ghost row\n",
    "newdf = df.drop([0])\n",
    "print(tabulate(newdf[0:10], headers = col_names))"
   ]
  },
  {
   "cell_type": "markdown",
   "metadata": {},
   "source": [
    "#check if row is convoluted header row (contains ALPHA characters)"
   ]
  },
  {
   "cell_type": "code",
   "execution_count": null,
   "metadata": {},
   "outputs": [],
   "source": [
    "newdf['IsStormHdr'] = ~newdf['Date'].str.isdigit()\n",
    "#print(tabulate(df[1:10], headers = col_names))"
   ]
  },
  {
   "cell_type": "markdown",
   "metadata": {},
   "source": [
    "#create empty columns to receive header data"
   ]
  },
  {
   "cell_type": "code",
   "execution_count": null,
   "metadata": {},
   "outputs": [],
   "source": [
    "newdf['Identifier'] = ''\n",
    "newdf['Name'] = ''\n",
    "newdf['Samples'] = ''\n",
    "\n",
    "#print(tabulate(newdf[0:10], headers = col_names))\n",
    "#print(newdf.dtypes)"
   ]
  },
  {
   "cell_type": "markdown",
   "metadata": {},
   "source": [
    "#Iterate over rows to get header data and write to list"
   ]
  },
  {
   "cell_type": "code",
   "execution_count": null,
   "metadata": {},
   "outputs": [],
   "source": [
    "Lidentifier = []\n",
    "Lname = []\n",
    "Lsamples = []\n",
    "\n",
    "identifier = \"\"\n",
    "name = \"\"\n",
    "samples = \"\"\n",
    "\n",
    "for row in newdf.itertuples(index=True):\n",
    "    if (getattr(row, \"IsStormHdr\") == True):\n",
    "        identifier = getattr(row, \"Date\")\n",
    "        name = getattr(row, \"Time\")\n",
    "        samples = getattr(row, \"RecordIdentifier\")\n",
    "    Lidentifier.append(identifier)\n",
    "    Lname.append(name)\n",
    "    Lsamples.append(samples)"
   ]
  },
  {
   "cell_type": "markdown",
   "metadata": {},
   "source": [
    "#write list data into dataframe"
   ]
  },
  {
   "cell_type": "code",
   "execution_count": null,
   "metadata": {},
   "outputs": [],
   "source": [
    "newdf.Identifier = Lidentifier\n",
    "newdf.Name = Lname\n",
    "newdf.Samples = Lsamples"
   ]
  },
  {
   "cell_type": "markdown",
   "metadata": {},
   "source": [
    "#separate storm header data from track data"
   ]
  },
  {
   "cell_type": "code",
   "execution_count": null,
   "metadata": {},
   "outputs": [],
   "source": [
    "#fix chaining issue\n",
    "storms = newdf[newdf['IsStormHdr'] == True].copy()\n",
    "storms = storms[['Identifier','Name','Samples']]\n",
    "#print(storms[1600:1800])\n",
    "\n",
    "tracks = newdf[newdf['IsStormHdr'] == False].copy()\n",
    "#print(tracks)"
   ]
  },
  {
   "cell_type": "raw",
   "metadata": {},
   "source": []
  },
  {
   "cell_type": "code",
   "execution_count": null,
   "metadata": {},
   "outputs": [],
   "source": [
    "import re\n",
    "def parsell(string):\n",
    "    string = string.strip().lower()\n",
    "\n",
    "    if string.endswith('w') or string.endswith('s'):\n",
    "        sign = -1\n",
    "    else:\n",
    "        sign = 1\n",
    "\n",
    "    string = re.sub(r\"[^0-9.]\", \" \", string).strip()\n",
    "\n",
    "    numeric_ll = float(string)\n",
    "    return numeric_ll * sign"
   ]
  },
  {
   "cell_type": "code",
   "execution_count": null,
   "metadata": {},
   "outputs": [],
   "source": [
    "Tlatitude = [parsell(lat) for lat in tracks['Latitude']]\n",
    "tracks['Latitude'] = Tlatitude\n",
    "\n",
    "Tlongitude = [parsell(lon) for lon in tracks['Longitude']]\n",
    "tracks['Longitude'] = Tlongitude"
   ]
  },
  {
   "cell_type": "code",
   "execution_count": null,
   "metadata": {},
   "outputs": [],
   "source": [
    "print(tracks)"
   ]
  },
  {
   "cell_type": "code",
   "execution_count": null,
   "metadata": {},
   "outputs": [],
   "source": [
    "\n",
    "\n",
    "s2level = 10\n",
    "\n",
    "start0 = time.time()\n",
    "tracks['S2LL'] = [LatLng.from_degrees(x, y) for x, y in zip(tracks['Latitude'], tracks['Longitude'])]\n",
    "end0 = time.time()\n",
    "print(end0 - start0)\n",
    "#57s\n",
    "\n",
    "start1 = time.time()\n",
    "tracks['S2CellID'] = [CellId().from_lat_lng(xy) for xy in tracks['S2LL']]\n",
    "end1 = time.time()\n",
    "print(end1 - start1)\n",
    "#426s\n"
   ]
  },
  {
   "cell_type": "code",
   "execution_count": null,
   "metadata": {},
   "outputs": [],
   "source": []
  }
 ],
 "metadata": {
  "kernelspec": {
   "display_name": "Python 3",
   "language": "python",
   "name": "python3"
  },
  "language_info": {
   "codemirror_mode": {
    "name": "ipython",
    "version": 3
   },
   "file_extension": ".py",
   "mimetype": "text/x-python",
   "name": "python",
   "nbconvert_exporter": "python",
   "pygments_lexer": "ipython3",
   "version": "3.7.6"
  }
 },
 "nbformat": 4,
 "nbformat_minor": 4
}
