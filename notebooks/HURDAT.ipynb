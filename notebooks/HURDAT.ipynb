{
 "cells": [
  {
   "cell_type": "markdown",
   "metadata": {},
   "source": [
    "#import all packages"
   ]
  },
  {
   "cell_type": "code",
   "execution_count": 1,
   "metadata": {},
   "outputs": [],
   "source": [
    "import pandas as pd\n",
    "from tabulate import tabulate"
   ]
  },
  {
   "cell_type": "markdown",
   "metadata": {},
   "source": [
    "#initialize path to HURDAT2 data"
   ]
  },
  {
   "cell_type": "code",
   "execution_count": 2,
   "metadata": {},
   "outputs": [],
   "source": [
    "path = 'https://www.aoml.noaa.gov/hrd/hurdat/hurdat2.html'\n",
    "# https://www.nhc.noaa.gov/data/hurdat/hurdat2-format-atlantic.pdf"
   ]
  },
  {
   "cell_type": "markdown",
   "metadata": {},
   "source": [
    "#assign column names and read CSV data"
   ]
  },
  {
   "cell_type": "code",
   "execution_count": 3,
   "metadata": {},
   "outputs": [
    {
     "name": "stdout",
     "output_type": "stream",
     "text": [
      "53737\n",
      "Date                 object\n",
      "Time                 object\n",
      "RecordIdentifier     object\n",
      "SystemStatus         object\n",
      "Latitude             object\n",
      "Longitude            object\n",
      "MaxSustWind         float64\n",
      "MaxPressure         float64\n",
      "NE34                float64\n",
      "SE34                float64\n",
      "SW34                float64\n",
      "NW34                float64\n",
      "NE50                float64\n",
      "SE50                float64\n",
      "SW50                float64\n",
      "NW50                float64\n",
      "NE64                float64\n",
      "SE64                float64\n",
      "SW64                float64\n",
      "NW64                float64\n",
      "dtype: object\n"
     ]
    }
   ],
   "source": [
    "col_names = ['Date','Time','RecordIdentifier','SystemStatus','Latitude','Longitude','MaxSustWind','MaxPressure',\n",
    "             'NE34','SE34','SW34','NW34',\n",
    "             'NE50','SE50','SW50','NW50',\n",
    "             'NE64','SE64','SW64','NW64']\n",
    "df = pd.read_csv(path, skiprows = 2, low_memory=False, names=col_names)\n",
    "print(len(df))\n",
    "#print(df.dtypes)\n",
    "#print(tabulate(df[52100:52200], headers = col_names))"
   ]
  },
  {
   "cell_type": "markdown",
   "metadata": {},
   "source": [
    "#change data types to strings"
   ]
  },
  {
   "cell_type": "code",
   "execution_count": 4,
   "metadata": {},
   "outputs": [
    {
     "data": {
      "text/plain": [
       "0                        nan\n",
       "1                    UNNAMED\n",
       "2                       0000\n",
       "3                       0600\n",
       "4                       1200\n",
       "                ...         \n",
       "53732                   0600\n",
       "53733                   1200\n",
       "53734                    nan\n",
       "53735                    nan\n",
       "53736                    nan\n",
       "Name: Time, Length: 53737, dtype: object"
      ]
     },
     "execution_count": 4,
     "metadata": {},
     "output_type": "execute_result"
    }
   ],
   "source": [
    "df.Date.apply(str)\n",
    "df.Time.apply(str)"
   ]
  },
  {
   "cell_type": "markdown",
   "metadata": {},
   "source": [
    "#print first 10 rows of data"
   ]
  },
  {
   "cell_type": "code",
   "execution_count": 5,
   "metadata": {},
   "outputs": [
    {
     "name": "stdout",
     "output_type": "stream",
     "text": [
      "    Date      Time     RecordIdentifier    SystemStatus    Latitude    Longitude      MaxSustWind    MaxPressure    NE34    SE34    SW34    NW34    NE50    SE50    SW50    NW50    NE64    SE64    SW64    NW64\n",
      "--  --------  -------  ------------------  --------------  ----------  -----------  -------------  -------------  ------  ------  ------  ------  ------  ------  ------  ------  ------  ------  ------  ------\n",
      " 1  AL011851  UNNAMED  14                  nan             nan         nan                    nan            nan     nan     nan     nan     nan     nan     nan     nan     nan     nan     nan     nan     nan\n",
      " 2  18510625  0000                         HU              28.0N       94.8W                   80           -999    -999    -999    -999    -999    -999    -999    -999    -999    -999    -999    -999    -999\n",
      " 3  18510625  0600                         HU              28.0N       95.4W                   80           -999    -999    -999    -999    -999    -999    -999    -999    -999    -999    -999    -999    -999\n",
      " 4  18510625  1200                         HU              28.0N       96.0W                   80           -999    -999    -999    -999    -999    -999    -999    -999    -999    -999    -999    -999    -999\n",
      " 5  18510625  1800                         HU              28.1N       96.5W                   80           -999    -999    -999    -999    -999    -999    -999    -999    -999    -999    -999    -999    -999\n",
      " 6  18510625  2100     L                   HU              28.2N       96.8W                   80           -999    -999    -999    -999    -999    -999    -999    -999    -999    -999    -999    -999    -999\n",
      " 7  18510626  0000                         HU              28.2N       97.0W                   70           -999    -999    -999    -999    -999    -999    -999    -999    -999    -999    -999    -999    -999\n",
      " 8  18510626  0600                         TS              28.3N       97.6W                   60           -999    -999    -999    -999    -999    -999    -999    -999    -999    -999    -999    -999    -999\n",
      " 9  18510626  1200                         TS              28.4N       98.3W                   60           -999    -999    -999    -999    -999    -999    -999    -999    -999    -999    -999    -999    -999\n",
      "10  18510626  1800                         TS              28.6N       98.9W                   50           -999    -999    -999    -999    -999    -999    -999    -999    -999    -999    -999    -999    -999\n"
     ]
    }
   ],
   "source": [
    "#remove ghost row\n",
    "newdf = df.drop([0])\n",
    "print(tabulate(newdf[0:10], headers = col_names))"
   ]
  },
  {
   "cell_type": "markdown",
   "metadata": {},
   "source": [
    "#check if row is convoluted header row (contains ALPHA characters)"
   ]
  },
  {
   "cell_type": "code",
   "execution_count": 6,
   "metadata": {},
   "outputs": [
    {
     "name": "stdout",
     "output_type": "stream",
     "text": [
      "1         AL011851\n",
      "2         18510625\n",
      "3         18510625\n",
      "4         18510625\n",
      "5         18510625\n",
      "6         18510625\n",
      "7         18510626\n",
      "8         18510626\n",
      "9         18510626\n",
      "10        18510626\n",
      "Name: Date, dtype: object\n",
      "1      True\n",
      "2     False\n",
      "3     False\n",
      "4     False\n",
      "5     False\n",
      "6     False\n",
      "7     False\n",
      "8     False\n",
      "9     False\n",
      "10    False\n",
      "Name: IsStormHdr, dtype: bool\n"
     ]
    }
   ],
   "source": [
    "print(newdf['Date'][0:10])\n",
    "newdf['IsStormHdr'] = ~newdf['Date'].str.isdigit()\n",
    "print(newdf['IsStormHdr'][0:10])\n",
    "#print(tabulate(df[1:10], headers = col_names))"
   ]
  },
  {
   "cell_type": "markdown",
   "metadata": {},
   "source": [
    "#create empty columns to receive header data"
   ]
  },
  {
   "cell_type": "code",
   "execution_count": 7,
   "metadata": {},
   "outputs": [
    {
     "name": "stdout",
     "output_type": "stream",
     "text": [
      "                                Date    Time      RecordIdentifier    SystemStatus    Latitude    Longitude    MaxSustWind    MaxPressure    NE34    SE34    SW34    NW34    NE50    SE50    SW50    NW50  NE64    SE64    SW64    NW64\n",
      "--  --------  -------  --  ---  ------  ------  ------------------  --------------  ----------  -----------  -------------  -------------  ------  ------  ------  ------  ------  ------  ------  ------  ------  ------  ------  ------\n",
      " 1  AL011851  UNNAMED  14  nan  nan     nan                    nan             nan         nan          nan            nan            nan     nan     nan     nan     nan     nan     nan     nan     nan  True\n",
      " 2  18510625  0000         HU   28.0N   94.8W                   80            -999        -999         -999           -999           -999    -999    -999    -999    -999    -999    -999    -999    -999  False\n",
      " 3  18510625  0600         HU   28.0N   95.4W                   80            -999        -999         -999           -999           -999    -999    -999    -999    -999    -999    -999    -999    -999  False\n",
      " 4  18510625  1200         HU   28.0N   96.0W                   80            -999        -999         -999           -999           -999    -999    -999    -999    -999    -999    -999    -999    -999  False\n",
      " 5  18510625  1800         HU   28.1N   96.5W                   80            -999        -999         -999           -999           -999    -999    -999    -999    -999    -999    -999    -999    -999  False\n",
      " 6  18510625  2100     L   HU   28.2N   96.8W                   80            -999        -999         -999           -999           -999    -999    -999    -999    -999    -999    -999    -999    -999  False\n",
      " 7  18510626  0000         HU   28.2N   97.0W                   70            -999        -999         -999           -999           -999    -999    -999    -999    -999    -999    -999    -999    -999  False\n",
      " 8  18510626  0600         TS   28.3N   97.6W                   60            -999        -999         -999           -999           -999    -999    -999    -999    -999    -999    -999    -999    -999  False\n",
      " 9  18510626  1200         TS   28.4N   98.3W                   60            -999        -999         -999           -999           -999    -999    -999    -999    -999    -999    -999    -999    -999  False\n",
      "10  18510626  1800         TS   28.6N   98.9W                   50            -999        -999         -999           -999           -999    -999    -999    -999    -999    -999    -999    -999    -999  False\n",
      "Date                 object\n",
      "Time                 object\n",
      "RecordIdentifier     object\n",
      "SystemStatus         object\n",
      "Latitude             object\n",
      "Longitude            object\n",
      "MaxSustWind         float64\n",
      "MaxPressure         float64\n",
      "NE34                float64\n",
      "SE34                float64\n",
      "SW34                float64\n",
      "NW34                float64\n",
      "NE50                float64\n",
      "SE50                float64\n",
      "SW50                float64\n",
      "NW50                float64\n",
      "NE64                float64\n",
      "SE64                float64\n",
      "SW64                float64\n",
      "NW64                float64\n",
      "IsStormHdr             bool\n",
      "Identifier           object\n",
      "Name                 object\n",
      "Samples              object\n",
      "dtype: object\n"
     ]
    }
   ],
   "source": [
    "newdf['Identifier'] = ''\n",
    "newdf['Name'] = ''\n",
    "newdf['Samples'] = ''\n",
    "\n",
    "print(tabulate(newdf[0:10], headers = col_names))\n",
    "print(newdf.dtypes)"
   ]
  },
  {
   "cell_type": "markdown",
   "metadata": {},
   "source": [
    "#Iterate over rows to get header data and write to list"
   ]
  },
  {
   "cell_type": "code",
   "execution_count": 8,
   "metadata": {},
   "outputs": [],
   "source": [
    "Lidentifier = []\n",
    "Lname = []\n",
    "Lsamples = []\n",
    "\n",
    "identifier = \"\"\n",
    "name = \"\"\n",
    "samples = \"\"\n",
    "\n",
    "for row in newdf.itertuples(index=True):\n",
    "    if (getattr(row, \"IsStormHdr\") == True):\n",
    "        identifier = getattr(row, \"Date\")\n",
    "        name = getattr(row, \"Time\")\n",
    "        samples = getattr(row, \"RecordIdentifier\")\n",
    "    Lidentifier.append(identifier)\n",
    "    Lname.append(name)\n",
    "    Lsamples.append(samples)"
   ]
  },
  {
   "cell_type": "markdown",
   "metadata": {},
   "source": [
    "#write list data into dataframe"
   ]
  },
  {
   "cell_type": "code",
   "execution_count": 9,
   "metadata": {},
   "outputs": [],
   "source": [
    "newdf.Identifier = Lidentifier\n",
    "newdf.Name = Lname\n",
    "newdf.Samples = Lsamples"
   ]
  },
  {
   "cell_type": "markdown",
   "metadata": {},
   "source": [
    "#separate storm header data from track data"
   ]
  },
  {
   "cell_type": "code",
   "execution_count": 17,
   "metadata": {},
   "outputs": [
    {
     "name": "stdout",
     "output_type": "stream",
     "text": [
      "      Identifier                 Name  Samples\n",
      "44383   AL112002            JOSEPHINE        9\n",
      "44393   AL122002                 KYLE       90\n",
      "44484   AL132002                 LILI       57\n",
      "44542   AL142002              UNNAMED       11\n",
      "44554   AL012003                  ANA       39\n",
      "...          ...                  ...      ...\n",
      "50522   AL092013             HUMBERTO       46\n",
      "50569   AL102013               INGRID       22\n",
      "50592   AL112013                JERRY       33\n",
      "50626   AL122013                KAREN       14\n",
      "50641   AL132013              LORENZO       21\n",
      "\n",
      "[200 rows x 3 columns]\n",
      "           Date   Time RecordIdentifier SystemStatus Latitude Longitude  \\\n",
      "2      18510625   0000                            HU    28.0N     94.8W   \n",
      "3      18510625   0600                            HU    28.0N     95.4W   \n",
      "4      18510625   1200                            HU    28.0N     96.0W   \n",
      "5      18510625   1800                            HU    28.1N     96.5W   \n",
      "6      18510625   2100                L           HU    28.2N     96.8W   \n",
      "...         ...    ...              ...          ...      ...       ...   \n",
      "53729  20191126   1200                            EX    52.2N      9.3W   \n",
      "53730  20191126   1800                            EX    52.2N      8.9W   \n",
      "53731  20191127   0000                            EX    51.8N      8.2W   \n",
      "53732  20191127   0600                            EX    51.4N      6.0W   \n",
      "53733  20191127   1200                            EX    51.3N      2.1W   \n",
      "\n",
      "       MaxSustWind  MaxPressure   NE34   SE34  ...   SW50   NW50   NE64  \\\n",
      "2             80.0       -999.0 -999.0 -999.0  ... -999.0 -999.0 -999.0   \n",
      "3             80.0       -999.0 -999.0 -999.0  ... -999.0 -999.0 -999.0   \n",
      "4             80.0       -999.0 -999.0 -999.0  ... -999.0 -999.0 -999.0   \n",
      "5             80.0       -999.0 -999.0 -999.0  ... -999.0 -999.0 -999.0   \n",
      "6             80.0       -999.0 -999.0 -999.0  ... -999.0 -999.0 -999.0   \n",
      "...            ...          ...    ...    ...  ...    ...    ...    ...   \n",
      "53729         45.0        970.0   90.0  240.0  ...    0.0    0.0    0.0   \n",
      "53730         40.0        972.0   90.0  240.0  ...    0.0    0.0    0.0   \n",
      "53731         40.0        974.0    0.0  210.0  ...    0.0    0.0    0.0   \n",
      "53732         40.0        976.0    0.0  180.0  ...    0.0    0.0    0.0   \n",
      "53733         40.0        980.0    0.0  120.0  ...    0.0    0.0    0.0   \n",
      "\n",
      "        SE64   SW64   NW64  IsStormHdr    Identifier                 Name  \\\n",
      "2     -999.0 -999.0 -999.0       False      AL011851              UNNAMED   \n",
      "3     -999.0 -999.0 -999.0       False      AL011851              UNNAMED   \n",
      "4     -999.0 -999.0 -999.0       False      AL011851              UNNAMED   \n",
      "5     -999.0 -999.0 -999.0       False      AL011851              UNNAMED   \n",
      "6     -999.0 -999.0 -999.0       False      AL011851              UNNAMED   \n",
      "...      ...    ...    ...         ...           ...                  ...   \n",
      "53729    0.0    0.0    0.0       False      AL202019            SEBASTIEN   \n",
      "53730    0.0    0.0    0.0       False      AL202019            SEBASTIEN   \n",
      "53731    0.0    0.0    0.0       False      AL202019            SEBASTIEN   \n",
      "53732    0.0    0.0    0.0       False      AL202019            SEBASTIEN   \n",
      "53733    0.0    0.0    0.0       False      AL202019            SEBASTIEN   \n",
      "\n",
      "       Samples  \n",
      "2           14  \n",
      "3           14  \n",
      "4           14  \n",
      "5           14  \n",
      "6           14  \n",
      "...        ...  \n",
      "53729       34  \n",
      "53730       34  \n",
      "53731       34  \n",
      "53732       34  \n",
      "53733       34  \n",
      "\n",
      "[51840 rows x 24 columns]\n"
     ]
    }
   ],
   "source": [
    "#fix chaining issue\n",
    "storms = newdf[newdf['IsStormHdr'] == True]\n",
    "storms = storms[['Identifier','Name','Samples']]\n",
    "print(storms[1600:1800])\n",
    "\n",
    "tracks0 = newdf[newdf['IsStormHdr'] == False].copy()\n",
    "tracks = tracks0\n",
    "print(tracks)"
   ]
  },
  {
   "cell_type": "code",
   "execution_count": 18,
   "metadata": {},
   "outputs": [
    {
     "data": {
      "text/plain": [
       "\u001b[1;31mType:\u001b[0m        DataFrame\n",
       "\u001b[1;31mString form:\u001b[0m\n",
       "Date   Time RecordIdentifier SystemStatus Latitude Longitude  \\\n",
       "           2      18510625   0000 <...>\n",
       "           53730       34\n",
       "           53731       34\n",
       "           53732       34\n",
       "           53733       34\n",
       "           \n",
       "           [51840 rows x 24 columns]\n",
       "\u001b[1;31mLength:\u001b[0m      51840\n",
       "\u001b[1;31mFile:\u001b[0m        c:\\users\\administrator\\anaconda3\\lib\\site-packages\\pandas\\core\\frame.py\n",
       "\u001b[1;31mDocstring:\u001b[0m  \n",
       "Two-dimensional, size-mutable, potentially heterogeneous tabular data.\n",
       "\n",
       "Data structure also contains labeled axes (rows and columns).\n",
       "Arithmetic operations align on both row and column labels. Can be\n",
       "thought of as a dict-like container for Series objects. The primary\n",
       "pandas data structure.\n",
       "\n",
       "Parameters\n",
       "----------\n",
       "data : ndarray (structured or homogeneous), Iterable, dict, or DataFrame\n",
       "    Dict can contain Series, arrays, constants, or list-like objects.\n",
       "\n",
       "    .. versionchanged:: 0.23.0\n",
       "       If data is a dict, column order follows insertion-order for\n",
       "       Python 3.6 and later.\n",
       "\n",
       "    .. versionchanged:: 0.25.0\n",
       "       If data is a list of dicts, column order follows insertion-order\n",
       "       for Python 3.6 and later.\n",
       "\n",
       "index : Index or array-like\n",
       "    Index to use for resulting frame. Will default to RangeIndex if\n",
       "    no indexing information part of input data and no index provided.\n",
       "columns : Index or array-like\n",
       "    Column labels to use for resulting frame. Will default to\n",
       "    RangeIndex (0, 1, 2, ..., n) if no column labels are provided.\n",
       "dtype : dtype, default None\n",
       "    Data type to force. Only a single dtype is allowed. If None, infer.\n",
       "copy : bool, default False\n",
       "    Copy data from inputs. Only affects DataFrame / 2d ndarray input.\n",
       "\n",
       "See Also\n",
       "--------\n",
       "DataFrame.from_records : Constructor from tuples, also record arrays.\n",
       "DataFrame.from_dict : From dicts of Series, arrays, or dicts.\n",
       "read_csv\n",
       "read_table\n",
       "read_clipboard\n",
       "\n",
       "Examples\n",
       "--------\n",
       "Constructing DataFrame from a dictionary.\n",
       "\n",
       ">>> d = {'col1': [1, 2], 'col2': [3, 4]}\n",
       ">>> df = pd.DataFrame(data=d)\n",
       ">>> df\n",
       "   col1  col2\n",
       "0     1     3\n",
       "1     2     4\n",
       "\n",
       "Notice that the inferred dtype is int64.\n",
       "\n",
       ">>> df.dtypes\n",
       "col1    int64\n",
       "col2    int64\n",
       "dtype: object\n",
       "\n",
       "To enforce a single dtype:\n",
       "\n",
       ">>> df = pd.DataFrame(data=d, dtype=np.int8)\n",
       ">>> df.dtypes\n",
       "col1    int8\n",
       "col2    int8\n",
       "dtype: object\n",
       "\n",
       "Constructing DataFrame from numpy ndarray:\n",
       "\n",
       ">>> df2 = pd.DataFrame(np.array([[1, 2, 3], [4, 5, 6], [7, 8, 9]]),\n",
       "...                    columns=['a', 'b', 'c'])\n",
       ">>> df2\n",
       "   a  b  c\n",
       "0  1  2  3\n",
       "1  4  5  6\n",
       "2  7  8  9\n"
      ]
     },
     "metadata": {},
     "output_type": "display_data"
    }
   ],
   "source": [
    "tracks?"
   ]
  },
  {
   "cell_type": "raw",
   "metadata": {},
   "source": []
  },
  {
   "cell_type": "code",
   "execution_count": null,
   "metadata": {},
   "outputs": [],
   "source": [
    "testlat = tracks.Latitude\n",
    "testlon = tracks.Longitude"
   ]
  },
  {
   "cell_type": "code",
   "execution_count": 11,
   "metadata": {},
   "outputs": [],
   "source": [
    "import re\n",
    "def parsell(string):\n",
    "    string = string.strip().lower()\n",
    "\n",
    "    if string.endswith('w') or string.endswith('s'):\n",
    "        sign = -1\n",
    "    else:\n",
    "        sign = 1\n",
    "\n",
    "    string = re.sub(r\"[^0-9.]\", \" \", string).strip()\n",
    "\n",
    "    numeric_ll = float(string)\n",
    "    return numeric_ll * sign"
   ]
  },
  {
   "cell_type": "code",
   "execution_count": null,
   "metadata": {},
   "outputs": [],
   "source": [
    "print(testlat[2])\n",
    "print(parsell(testlat[2]))"
   ]
  },
  {
   "cell_type": "code",
   "execution_count": null,
   "metadata": {},
   "outputs": [],
   "source": [
    "print(testlon[2])\n",
    "print(parsell(testlon[2]))"
   ]
  },
  {
   "cell_type": "code",
   "execution_count": 19,
   "metadata": {},
   "outputs": [],
   "source": [
    "#Lat0 = [parsell(lat) for lat in tracks.Latitude]\n",
    "#print(Lat0)\n",
    "\n",
    "Tlatitude = [parsell(lat) for lat in tracks['Latitude']]\n",
    "tracks['Latitude'] = Tlatitude\n",
    "\n",
    "Tlongitude = [parsell(lon) for lon in tracks['Longitude']]\n",
    "tracks['Longitude'] = Tlongitude\n",
    "#print(tracks.Latitude)"
   ]
  },
  {
   "cell_type": "code",
   "execution_count": 20,
   "metadata": {},
   "outputs": [
    {
     "name": "stdout",
     "output_type": "stream",
     "text": [
      "           Date   Time RecordIdentifier SystemStatus  Latitude  Longitude  \\\n",
      "2      18510625   0000                            HU      28.0      -94.8   \n",
      "3      18510625   0600                            HU      28.0      -95.4   \n",
      "4      18510625   1200                            HU      28.0      -96.0   \n",
      "5      18510625   1800                            HU      28.1      -96.5   \n",
      "6      18510625   2100                L           HU      28.2      -96.8   \n",
      "...         ...    ...              ...          ...       ...        ...   \n",
      "53729  20191126   1200                            EX      52.2       -9.3   \n",
      "53730  20191126   1800                            EX      52.2       -8.9   \n",
      "53731  20191127   0000                            EX      51.8       -8.2   \n",
      "53732  20191127   0600                            EX      51.4       -6.0   \n",
      "53733  20191127   1200                            EX      51.3       -2.1   \n",
      "\n",
      "       MaxSustWind  MaxPressure   NE34   SE34  ...   SW50   NW50   NE64  \\\n",
      "2             80.0       -999.0 -999.0 -999.0  ... -999.0 -999.0 -999.0   \n",
      "3             80.0       -999.0 -999.0 -999.0  ... -999.0 -999.0 -999.0   \n",
      "4             80.0       -999.0 -999.0 -999.0  ... -999.0 -999.0 -999.0   \n",
      "5             80.0       -999.0 -999.0 -999.0  ... -999.0 -999.0 -999.0   \n",
      "6             80.0       -999.0 -999.0 -999.0  ... -999.0 -999.0 -999.0   \n",
      "...            ...          ...    ...    ...  ...    ...    ...    ...   \n",
      "53729         45.0        970.0   90.0  240.0  ...    0.0    0.0    0.0   \n",
      "53730         40.0        972.0   90.0  240.0  ...    0.0    0.0    0.0   \n",
      "53731         40.0        974.0    0.0  210.0  ...    0.0    0.0    0.0   \n",
      "53732         40.0        976.0    0.0  180.0  ...    0.0    0.0    0.0   \n",
      "53733         40.0        980.0    0.0  120.0  ...    0.0    0.0    0.0   \n",
      "\n",
      "        SE64   SW64   NW64  IsStormHdr    Identifier                 Name  \\\n",
      "2     -999.0 -999.0 -999.0       False      AL011851              UNNAMED   \n",
      "3     -999.0 -999.0 -999.0       False      AL011851              UNNAMED   \n",
      "4     -999.0 -999.0 -999.0       False      AL011851              UNNAMED   \n",
      "5     -999.0 -999.0 -999.0       False      AL011851              UNNAMED   \n",
      "6     -999.0 -999.0 -999.0       False      AL011851              UNNAMED   \n",
      "...      ...    ...    ...         ...           ...                  ...   \n",
      "53729    0.0    0.0    0.0       False      AL202019            SEBASTIEN   \n",
      "53730    0.0    0.0    0.0       False      AL202019            SEBASTIEN   \n",
      "53731    0.0    0.0    0.0       False      AL202019            SEBASTIEN   \n",
      "53732    0.0    0.0    0.0       False      AL202019            SEBASTIEN   \n",
      "53733    0.0    0.0    0.0       False      AL202019            SEBASTIEN   \n",
      "\n",
      "       Samples  \n",
      "2           14  \n",
      "3           14  \n",
      "4           14  \n",
      "5           14  \n",
      "6           14  \n",
      "...        ...  \n",
      "53729       34  \n",
      "53730       34  \n",
      "53731       34  \n",
      "53732       34  \n",
      "53733       34  \n",
      "\n",
      "[51840 rows x 24 columns]\n"
     ]
    }
   ],
   "source": [
    "print(tracks)"
   ]
  },
  {
   "cell_type": "code",
   "execution_count": null,
   "metadata": {},
   "outputs": [],
   "source": []
  }
 ],
 "metadata": {
  "kernelspec": {
   "display_name": "Python 3",
   "language": "python",
   "name": "python3"
  },
  "language_info": {
   "codemirror_mode": {
    "name": "ipython",
    "version": 3
   },
   "file_extension": ".py",
   "mimetype": "text/x-python",
   "name": "python",
   "nbconvert_exporter": "python",
   "pygments_lexer": "ipython3",
   "version": "3.7.6"
  }
 },
 "nbformat": 4,
 "nbformat_minor": 4
}
